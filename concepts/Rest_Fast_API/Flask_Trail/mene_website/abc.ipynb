{
 "cells": [
  {
   "cell_type": "code",
   "execution_count": 2,
   "metadata": {},
   "outputs": [
    {
     "ename": "ModuleNotFoundError",
     "evalue": "No module named 'pandas'",
     "output_type": "error",
     "traceback": [
      "\u001b[1;31m---------------------------------------------------------------------------\u001b[0m",
      "\u001b[1;31mModuleNotFoundError\u001b[0m                       Traceback (most recent call last)",
      "Cell \u001b[1;32mIn[2], line 1\u001b[0m\n\u001b[1;32m----> 1\u001b[0m \u001b[39mimport\u001b[39;00m \u001b[39mpandas\u001b[39;00m\n",
      "\u001b[1;31mModuleNotFoundError\u001b[0m: No module named 'pandas'"
     ]
    }
   ],
   "source": [
    "import pandas"
   ]
  },
  {
   "cell_type": "code",
   "execution_count": 7,
   "metadata": {},
   "outputs": [
    {
     "name": "stdout",
     "output_type": "stream",
     "text": [
      "Collecting requests\n",
      "  Downloading requests-2.31.0-py3-none-any.whl (62 kB)\n",
      "                                              0.0/62.6 kB ? eta -:--:--\n",
      "     ------------------------               41.0/62.6 kB 991.0 kB/s eta 0:00:01\n",
      "     -------------------------------------- 62.6/62.6 kB 562.7 kB/s eta 0:00:00\n",
      "Collecting charset-normalizer<4,>=2 (from requests)\n",
      "  Downloading charset_normalizer-3.1.0-cp310-cp310-win_amd64.whl (97 kB)\n",
      "                                              0.0/97.1 kB ? eta -:--:--\n",
      "     ----                                     10.2/97.1 kB ? eta -:--:--\n",
      "     ---------------------------------        81.9/97.1 kB 1.5 MB/s eta 0:00:01\n",
      "     ---------------------------------------- 97.1/97.1 kB 1.4 MB/s eta 0:00:00\n",
      "Collecting idna<4,>=2.5 (from requests)\n",
      "  Using cached idna-3.4-py3-none-any.whl (61 kB)\n",
      "Collecting urllib3<3,>=1.21.1 (from requests)\n",
      "  Downloading urllib3-2.0.3-py3-none-any.whl (123 kB)\n",
      "                                              0.0/123.6 kB ? eta -:--:--\n",
      "     -------------------------------------- 123.6/123.6 kB 3.5 MB/s eta 0:00:00\n",
      "Collecting certifi>=2017.4.17 (from requests)\n",
      "  Downloading certifi-2023.5.7-py3-none-any.whl (156 kB)\n",
      "                                              0.0/157.0 kB ? eta -:--:--\n",
      "     -------------------------------------- 157.0/157.0 kB 4.7 MB/s eta 0:00:00\n",
      "Installing collected packages: urllib3, idna, charset-normalizer, certifi, requests\n",
      "Successfully installed certifi-2023.5.7 charset-normalizer-3.1.0 idna-3.4 requests-2.31.0 urllib3-2.0.3\n"
     ]
    }
   ],
   "source": [
    "!pip3 install requests"
   ]
  },
  {
   "cell_type": "code",
   "execution_count": 5,
   "metadata": {},
   "outputs": [
    {
     "name": "stdout",
     "output_type": "stream",
     "text": [
      "Collecting pandas\n",
      "  Downloading pandas-2.0.2-cp310-cp310-win_amd64.whl (10.7 MB)\n",
      "                                              0.0/10.7 MB ? eta -:--:--\n",
      "     -                                        0.4/10.7 MB 11.2 MB/s eta 0:00:01\n",
      "     --                                       0.8/10.7 MB 8.0 MB/s eta 0:00:02\n",
      "     ----                                     1.2/10.7 MB 8.3 MB/s eta 0:00:02\n",
      "     ------                                   1.7/10.7 MB 8.8 MB/s eta 0:00:02\n",
      "     --------                                 2.2/10.7 MB 9.2 MB/s eta 0:00:01\n",
      "     ---------                                2.5/10.7 MB 8.7 MB/s eta 0:00:01\n",
      "     ----------                               2.9/10.7 MB 8.8 MB/s eta 0:00:01\n",
      "     ------------                             3.4/10.7 MB 9.1 MB/s eta 0:00:01\n",
      "     --------------                           3.9/10.7 MB 9.7 MB/s eta 0:00:01\n",
      "     -----------------                        4.5/10.7 MB 9.7 MB/s eta 0:00:01\n",
      "     ------------------                       4.9/10.7 MB 9.8 MB/s eta 0:00:01\n",
      "     --------------------                     5.5/10.7 MB 10.1 MB/s eta 0:00:01\n",
      "     ----------------------                   6.0/10.7 MB 10.2 MB/s eta 0:00:01\n",
      "     ------------------------                 6.4/10.7 MB 10.0 MB/s eta 0:00:01\n",
      "     --------------------------               6.9/10.7 MB 10.1 MB/s eta 0:00:01\n",
      "     ----------------------------             7.5/10.7 MB 10.2 MB/s eta 0:00:01\n",
      "     -----------------------------            8.0/10.7 MB 10.2 MB/s eta 0:00:01\n",
      "     -------------------------------          8.5/10.7 MB 10.3 MB/s eta 0:00:01\n",
      "     ---------------------------------        8.8/10.7 MB 10.1 MB/s eta 0:00:01\n",
      "     -----------------------------------      9.4/10.7 MB 10.2 MB/s eta 0:00:01\n",
      "     ------------------------------------     9.8/10.7 MB 10.1 MB/s eta 0:00:01\n",
      "     -------------------------------------   10.4/10.7 MB 10.2 MB/s eta 0:00:01\n",
      "     --------------------------------------  10.6/10.7 MB 10.4 MB/s eta 0:00:01\n",
      "     --------------------------------------- 10.7/10.7 MB 10.1 MB/s eta 0:00:00\n",
      "Requirement already satisfied: python-dateutil>=2.8.2 in c:\\vs_code_folder\\learning_new_stuff\\rest_fast_api\\flask_trail\\.venv\\lib\\site-packages (from pandas) (2.8.2)\n",
      "Collecting pytz>=2020.1 (from pandas)\n",
      "  Downloading pytz-2023.3-py2.py3-none-any.whl (502 kB)\n",
      "                                              0.0/502.3 kB ? eta -:--:--\n",
      "     ------------------------------        409.6/502.3 kB 12.5 MB/s eta 0:00:01\n",
      "     ------------------------------------- 502.3/502.3 kB 10.5 MB/s eta 0:00:00\n",
      "Collecting tzdata>=2022.1 (from pandas)\n",
      "  Downloading tzdata-2023.3-py2.py3-none-any.whl (341 kB)\n",
      "                                              0.0/341.8 kB ? eta -:--:--\n",
      "     -------------------------------------- 341.8/341.8 kB 7.1 MB/s eta 0:00:00\n",
      "Collecting numpy>=1.21.0 (from pandas)\n",
      "  Using cached numpy-1.24.3-cp310-cp310-win_amd64.whl (14.8 MB)\n",
      "Requirement already satisfied: six>=1.5 in c:\\vs_code_folder\\learning_new_stuff\\rest_fast_api\\flask_trail\\.venv\\lib\\site-packages (from python-dateutil>=2.8.2->pandas) (1.16.0)\n",
      "Installing collected packages: pytz, tzdata, numpy, pandas\n",
      "Successfully installed numpy-1.24.3 pandas-2.0.2 pytz-2023.3 tzdata-2023.3\n"
     ]
    }
   ],
   "source": [
    "!pip3 install pandas"
   ]
  },
  {
   "cell_type": "code",
   "execution_count": 8,
   "metadata": {},
   "outputs": [
    {
     "name": "stdout",
     "output_type": "stream",
     "text": [
      "Collecting flask\n",
      "  Downloading Flask-2.3.2-py3-none-any.whl (96 kB)\n",
      "                                              0.0/96.9 kB ? eta -:--:--\n",
      "     ---------------------------------------- 96.9/96.9 kB 5.4 MB/s eta 0:00:00\n",
      "Collecting Werkzeug>=2.3.3 (from flask)\n",
      "  Downloading Werkzeug-2.3.6-py3-none-any.whl (242 kB)\n",
      "                                              0.0/242.5 kB ? eta -:--:--\n",
      "     ------------------------------------- 242.5/242.5 kB 14.5 MB/s eta 0:00:00\n",
      "Collecting Jinja2>=3.1.2 (from flask)\n",
      "  Using cached Jinja2-3.1.2-py3-none-any.whl (133 kB)\n",
      "Collecting itsdangerous>=2.1.2 (from flask)\n",
      "  Using cached itsdangerous-2.1.2-py3-none-any.whl (15 kB)\n",
      "Collecting click>=8.1.3 (from flask)\n",
      "  Using cached click-8.1.3-py3-none-any.whl (96 kB)\n",
      "Collecting blinker>=1.6.2 (from flask)\n",
      "  Downloading blinker-1.6.2-py3-none-any.whl (13 kB)\n",
      "Requirement already satisfied: colorama in c:\\vs_code_folder\\learning_new_stuff\\rest_fast_api\\flask_trail\\.venv\\lib\\site-packages (from click>=8.1.3->flask) (0.4.6)\n",
      "Collecting MarkupSafe>=2.0 (from Jinja2>=3.1.2->flask)\n",
      "  Downloading MarkupSafe-2.1.3-cp310-cp310-win_amd64.whl (17 kB)\n",
      "Installing collected packages: MarkupSafe, itsdangerous, click, blinker, Werkzeug, Jinja2, flask\n",
      "Successfully installed Jinja2-3.1.2 MarkupSafe-2.1.3 Werkzeug-2.3.6 blinker-1.6.2 click-8.1.3 flask-2.3.2 itsdangerous-2.1.2\n"
     ]
    }
   ],
   "source": [
    "!pip3 install flask"
   ]
  },
  {
   "cell_type": "code",
   "execution_count": null,
   "metadata": {},
   "outputs": [],
   "source": []
  }
 ],
 "metadata": {
  "kernelspec": {
   "display_name": ".venv",
   "language": "python",
   "name": "python3"
  },
  "language_info": {
   "codemirror_mode": {
    "name": "ipython",
    "version": 3
   },
   "file_extension": ".py",
   "mimetype": "text/x-python",
   "name": "python",
   "nbconvert_exporter": "python",
   "pygments_lexer": "ipython3",
   "version": "3.10.6"
  },
  "orig_nbformat": 4
 },
 "nbformat": 4,
 "nbformat_minor": 2
}
