{
 "cells": [
  {
   "cell_type": "code",
   "execution_count": 2,
   "metadata": {},
   "outputs": [],
   "source": [
    "import spacy"
   ]
  },
  {
   "cell_type": "code",
   "execution_count": 3,
   "metadata": {},
   "outputs": [],
   "source": [
    "nlp = spacy.load(\"en_core_web_md\") # md - medium size "
   ]
  },
  {
   "cell_type": "code",
   "execution_count": 4,
   "metadata": {},
   "outputs": [],
   "source": [
    "sample_review = \"\"\"\n",
    "In the book, How To Become Rich, the author Devdutt Pattanaik, has written about twelve indispensable lessons that he has learned from Vedic and Puranic stories.\n",
    "This book is for everyone who is always curious to know about wealth and how to earn it.\n",
    "These lessons must be taught to children so that the world becomes more aware of the right ways to become wealthy.\n",
    "\"\"\""
   ]
  },
  {
   "cell_type": "markdown",
   "metadata": {},
   "source": [
    "Using Natural Language Processing to Preprocess and Clean Text Data"
   ]
  },
  {
   "cell_type": "code",
   "execution_count": 5,
   "metadata": {},
   "outputs": [],
   "source": [
    "doc = nlp(sample_review)"
   ]
  },
  {
   "cell_type": "code",
   "execution_count": 6,
   "metadata": {},
   "outputs": [],
   "source": [
    "token_list = [i for i in doc]"
   ]
  },
  {
   "cell_type": "code",
   "execution_count": 8,
   "metadata": {},
   "outputs": [
    {
     "name": "stdout",
     "output_type": "stream",
     "text": [
      "[\n",
      ", In, the, book, ,, How, To, Become, Rich, ,, the, author, Devdutt, Pattanaik, ,, has, written, about, twelve, indispensable, lessons, that, he, has, learned, from, Vedic, and, Puranic, stories, ., \n",
      ", This, book, is, for, everyone, who, is, always, curious, to, know, about, wealth, and, how, to, earn, it, ., \n",
      ", These, lessons, must, be, taught, to, children, so, that, the, world, becomes, more, aware, of, the, right, ways, to, become, wealthy, ., \n",
      "]\n"
     ]
    }
   ],
   "source": [
    "print(token_list)"
   ]
  },
  {
   "cell_type": "code",
   "execution_count": 9,
   "metadata": {},
   "outputs": [],
   "source": [
    "clean_token = [i for i in doc if not i.is_stop]"
   ]
  },
  {
   "cell_type": "code",
   "execution_count": 10,
   "metadata": {},
   "outputs": [
    {
     "name": "stdout",
     "output_type": "stream",
     "text": [
      "[\n",
      ", book, ,, Rich, ,, author, Devdutt, Pattanaik, ,, written, indispensable, lessons, learned, Vedic, Puranic, stories, ., \n",
      ", book, curious, know, wealth, earn, ., \n",
      ", lessons, taught, children, world, aware, right, ways, wealthy, ., \n",
      "]\n"
     ]
    }
   ],
   "source": [
    "print(clean_token)"
   ]
  },
  {
   "cell_type": "code",
   "execution_count": 11,
   "metadata": {},
   "outputs": [],
   "source": [
    "lemma_list = [i.lemma_ for i in doc]"
   ]
  },
  {
   "cell_type": "code",
   "execution_count": 12,
   "metadata": {},
   "outputs": [
    {
     "name": "stdout",
     "output_type": "stream",
     "text": [
      "['\\n', 'in', 'the', 'book', ',', 'how', 'to', 'become', 'Rich', ',', 'the', 'author', 'Devdutt', 'Pattanaik', ',', 'have', 'write', 'about', 'twelve', 'indispensable', 'lesson', 'that', 'he', 'have', 'learn', 'from', 'vedic', 'and', 'puranic', 'story', '.', '\\n', 'this', 'book', 'be', 'for', 'everyone', 'who', 'be', 'always', 'curious', 'to', 'know', 'about', 'wealth', 'and', 'how', 'to', 'earn', 'it', '.', '\\n', 'these', 'lesson', 'must', 'be', 'teach', 'to', 'child', 'so', 'that', 'the', 'world', 'become', 'more', 'aware', 'of', 'the', 'right', 'way', 'to', 'become', 'wealthy', '.', '\\n']\n"
     ]
    }
   ],
   "source": [
    "print(lemma_list)"
   ]
  },
  {
   "cell_type": "code",
   "execution_count": 13,
   "metadata": {},
   "outputs": [
    {
     "data": {
      "text/plain": [
       "array([-6.8309e-01, -3.0543e+00,  1.8606e+00, -5.2778e+00, -1.4218e+00,\n",
       "       -5.0699e+00,  4.8469e+00,  1.0062e+00, -3.9048e+00,  5.6402e-01,\n",
       "        3.9209e+00,  1.7589e+00, -7.5871e+00, -4.1922e-01,  1.3813e+00,\n",
       "       -1.2767e+00,  6.8939e+00,  2.8205e+00,  3.9300e+00,  5.1858e+00,\n",
       "       -3.6853e+00,  2.0035e+00, -2.0033e+00, -5.8109e-01, -6.3321e+00,\n",
       "       -4.3245e+00, -5.3810e+00, -1.7220e+00, -3.3966e+00,  6.4035e+00,\n",
       "       -3.0306e+00,  4.5631e+00,  2.4415e+00,  3.7705e+00, -4.3071e-01,\n",
       "       -6.6056e-01,  3.2355e+00, -6.6079e-01, -1.6213e+00, -3.2852e+00,\n",
       "       -2.5519e+00,  3.4178e+00, -4.7897e+00,  5.0813e+00,  1.0220e+01,\n",
       "        2.4846e+00,  4.2788e+00, -1.8019e-01,  2.0757e+00, -3.7951e+00,\n",
       "       -2.2355e+00, -2.2554e+00,  2.5106e+00, -6.7274e-01, -7.6655e+00,\n",
       "        2.5704e+00, -6.8008e+00,  3.4093e-02,  9.1547e+00,  1.6135e-01,\n",
       "        3.9302e+00,  5.2180e+00, -2.3684e+00,  3.3334e+00, -5.0434e-01,\n",
       "        1.4691e+00, -3.8114e+00, -8.0664e+00, -1.9028e+00,  1.8617e-01,\n",
       "       -1.3516e+00, -1.3692e+00, -2.7929e+00, -1.9924e+00,  7.3892e-01,\n",
       "        4.9117e+00,  3.4227e-01,  2.3745e+00,  4.6445e-01,  6.0298e+00,\n",
       "       -3.9302e-01,  3.7714e+00,  3.1798e+00,  2.4312e+00,  8.5742e-01,\n",
       "        3.2186e+00,  2.4646e+00, -5.0598e+00, -1.8678e+00, -3.5550e-01,\n",
       "       -2.6216e+00,  3.8022e+00,  4.1963e+00, -2.6638e+00, -1.2486e-01,\n",
       "       -5.5961e+00, -4.1191e+00,  4.1620e+00, -2.5289e-01,  1.7460e+00,\n",
       "       -1.4937e+00,  1.6185e+00,  2.2036e+00,  3.2050e+00,  3.4245e+00,\n",
       "       -7.6374e+00, -2.1352e+00, -3.9658e+00,  3.1005e+00, -3.8535e+00,\n",
       "        5.7755e+00,  1.7174e+00,  4.5071e-01,  6.0424e+00,  1.8611e+00,\n",
       "       -2.8141e-01, -3.4730e+00,  6.3003e-01, -4.5836e+00, -9.5168e-01,\n",
       "       -6.9496e-01, -5.0659e+00,  7.3618e+00,  4.0789e+00,  8.8548e+00,\n",
       "        2.6358e+00, -2.5934e+00, -1.5459e+00, -2.8595e-01, -2.1988e+00,\n",
       "       -5.0546e+00,  4.8807e+00, -3.5259e+00, -6.3992e+00, -5.5411e+00,\n",
       "        4.5247e+00, -2.1072e+00, -2.2111e-01,  3.4897e+00, -3.4611e+00,\n",
       "       -9.5317e-01, -6.8723e-01, -7.1437e-03, -8.9225e-01,  5.6726e+00,\n",
       "        1.3553e+00, -1.1966e+00, -6.0011e-02, -7.0012e+00,  8.4866e+00,\n",
       "        1.0430e+00,  5.5493e+00,  3.1706e+00, -1.6943e+00, -3.1252e+00,\n",
       "        3.5059e-01,  4.3552e+00,  6.2683e+00, -1.6087e+00, -1.3311e+00,\n",
       "        2.0369e+00, -8.7731e-01,  1.2254e+00,  7.2290e-02, -4.6671e+00,\n",
       "       -2.2213e+00, -3.5451e+00, -4.4050e+00, -2.4402e-01, -3.9336e+00,\n",
       "        5.8071e+00,  3.1015e+00, -2.9000e+00,  4.5574e+00,  2.7205e+00,\n",
       "        2.2827e+00,  2.9492e+00,  8.1898e+00,  4.2747e-01, -6.1161e+00,\n",
       "        6.2828e+00,  3.0280e+00,  4.3989e+00, -3.8333e+00,  8.2293e+00,\n",
       "        4.7794e-01,  2.7170e-01,  3.0993e-01,  5.4747e+00, -4.9926e-01,\n",
       "       -4.2465e+00, -6.9501e-01, -5.5377e+00,  4.2489e+00,  6.3441e+00,\n",
       "       -1.5990e+00, -5.4831e+00,  4.3513e+00,  2.7569e+00,  1.4362e+01,\n",
       "       -2.0194e+00,  6.5998e-01, -6.0017e+00,  4.4275e-01,  4.8154e+00,\n",
       "       -4.2486e+00, -1.4683e+00,  6.3459e-01, -4.9548e-01, -6.4542e+00,\n",
       "        5.7576e+00,  2.1954e-01,  6.6449e+00,  2.0058e+00,  3.2720e-01,\n",
       "        2.1421e+00, -3.9404e+00, -1.7273e-01, -1.9210e+00, -8.6389e-01,\n",
       "        7.0696e-01, -4.2586e-01, -8.9717e-01,  5.6519e+00, -4.2612e+00,\n",
       "        5.9057e+00,  4.3131e+00,  4.9639e+00, -4.2320e-01, -3.7484e-01,\n",
       "        4.5130e+00, -3.0745e+00,  4.4899e+00, -2.3566e+00, -1.2600e+00,\n",
       "        6.4880e+00,  2.3652e+00,  7.2208e+00, -3.9472e+00,  2.4615e+00,\n",
       "       -7.6943e-01, -6.7356e+00,  5.2001e+00,  4.9861e+00,  8.3302e+00,\n",
       "       -1.7994e-01, -4.5230e+00, -3.1477e+00,  1.6333e+00,  1.2706e+00,\n",
       "       -1.3570e+00, -1.2657e+00,  1.0856e+00, -5.2097e+00, -6.7072e+00,\n",
       "        3.7113e+00, -2.0497e+00, -3.7039e+00, -3.1425e+00,  3.2752e+00,\n",
       "        6.1626e-01, -2.1109e+00,  3.4634e+00,  1.4439e-01,  7.9198e-01,\n",
       "       -2.6030e-01, -4.8766e+00,  4.8707e+00, -3.8386e+00, -6.7803e-01,\n",
       "       -2.6329e+00, -1.0455e+01, -3.5742e-01, -1.0371e+00,  5.6633e-01,\n",
       "        3.4941e+00, -4.1645e+00, -2.8074e+00, -2.7678e+00,  1.7166e+00,\n",
       "        1.1077e+00, -2.7380e+00,  2.0060e+00, -8.9958e-01,  7.5857e-01,\n",
       "        8.7656e-01,  3.6327e+00, -6.0664e-01,  4.7380e-01, -3.3598e+00,\n",
       "        4.1596e+00, -6.7077e+00,  5.0283e+00,  2.8732e-01, -4.1822e+00,\n",
       "       -3.4453e+00,  2.8582e+00, -6.0700e+00, -7.1533e+00,  8.8060e-01],\n",
       "      dtype=float32)"
      ]
     },
     "execution_count": 13,
     "metadata": {},
     "output_type": "execute_result"
    }
   ],
   "source": [
    "clean_token[1].vector"
   ]
  },
  {
   "cell_type": "code",
   "execution_count": null,
   "metadata": {},
   "outputs": [],
   "source": []
  },
  {
   "cell_type": "code",
   "execution_count": 15,
   "metadata": {},
   "outputs": [],
   "source": [
    "import os"
   ]
  },
  {
   "cell_type": "code",
   "execution_count": 18,
   "metadata": {},
   "outputs": [
    {
     "name": "stdout",
     "output_type": "stream",
     "text": [
      "\n",
      "In the book, How To Become Rich, the author Devdutt Pattanaik, has written about twelve indispensable lessons that he has learned from Vedic and Puranic stories.\n",
      "This book is for everyone who is always curious to know about wealth and how to earn it.\n",
      "These lessons must be taught to children so that the world becomes more aware of the right ways to become wealthy.\n",
      "/pos\n",
      "\n",
      "In the book, How To Become Rich, the author Devdutt Pattanaik, has written about twelve indispensable lessons that he has learned from Vedic and Puranic stories.\n",
      "This book is for everyone who is always curious to know about wealth and how to earn it.\n",
      "These lessons must be taught to children so that the world becomes more aware of the right ways to become wealthy.\n",
      "/neg\n"
     ]
    }
   ],
   "source": [
    "for label in [\"pos\", \"neg\"]:\n",
    "        labeled_directory = f\"{sample_review}/{label}\"\n",
    "        print(labeled_directory)\n",
    "        "
   ]
  },
  {
   "cell_type": "code",
   "execution_count": null,
   "metadata": {},
   "outputs": [],
   "source": []
  },
  {
   "cell_type": "code",
   "execution_count": null,
   "metadata": {},
   "outputs": [],
   "source": []
  },
  {
   "cell_type": "code",
   "execution_count": null,
   "metadata": {},
   "outputs": [],
   "source": []
  },
  {
   "cell_type": "code",
   "execution_count": null,
   "metadata": {},
   "outputs": [],
   "source": []
  },
  {
   "cell_type": "code",
   "execution_count": null,
   "metadata": {},
   "outputs": [],
   "source": []
  },
  {
   "cell_type": "code",
   "execution_count": null,
   "metadata": {},
   "outputs": [],
   "source": []
  }
 ],
 "metadata": {
  "kernelspec": {
   "display_name": "Python 3.10.6 64-bit",
   "language": "python",
   "name": "python3"
  },
  "language_info": {
   "codemirror_mode": {
    "name": "ipython",
    "version": 3
   },
   "file_extension": ".py",
   "mimetype": "text/x-python",
   "name": "python",
   "nbconvert_exporter": "python",
   "pygments_lexer": "ipython3",
   "version": "3.10.6"
  },
  "orig_nbformat": 4,
  "vscode": {
   "interpreter": {
    "hash": "369f2c481f4da34e4445cda3fffd2e751bd1c4d706f27375911949ba6bb62e1c"
   }
  }
 },
 "nbformat": 4,
 "nbformat_minor": 2
}
