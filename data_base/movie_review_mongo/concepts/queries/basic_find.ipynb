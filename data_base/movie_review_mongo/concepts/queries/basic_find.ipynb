{
 "cells": [
  {
   "cell_type": "code",
   "execution_count": 49,
   "metadata": {},
   "outputs": [],
   "source": [
    "import pymongo"
   ]
  },
  {
   "cell_type": "code",
   "execution_count": 1,
   "metadata": {},
   "outputs": [],
   "source": [
    "from pymongo import MongoClient"
   ]
  },
  {
   "cell_type": "code",
   "execution_count": 2,
   "metadata": {},
   "outputs": [],
   "source": [
    "client = MongoClient(\"mongodb://localhost:27017/\")"
   ]
  },
  {
   "cell_type": "code",
   "execution_count": 3,
   "metadata": {},
   "outputs": [
    {
     "data": {
      "text/plain": [
       "['admin',\n",
       " 'config',\n",
       " 'local',\n",
       " 'movies',\n",
       " 'random_comment',\n",
       " 'sample_01',\n",
       " 'some_comment',\n",
       " 'youtube_db']"
      ]
     },
     "execution_count": 3,
     "metadata": {},
     "output_type": "execute_result"
    }
   ],
   "source": [
    "client.list_database_names()"
   ]
  },
  {
   "cell_type": "code",
   "execution_count": 4,
   "metadata": {},
   "outputs": [],
   "source": [
    "mydb = client[\"movies\"] # database "
   ]
  },
  {
   "cell_type": "code",
   "execution_count": 5,
   "metadata": {},
   "outputs": [
    {
     "data": {
      "text/plain": [
       "['base_data']"
      ]
     },
     "execution_count": 5,
     "metadata": {},
     "output_type": "execute_result"
    }
   ],
   "source": [
    "mydb.list_collection_names() # collection (inside database) == Tables (R DBMS)"
   ]
  },
  {
   "cell_type": "code",
   "execution_count": 6,
   "metadata": {},
   "outputs": [],
   "source": [
    "my_collection = mydb['base_data'] "
   ]
  },
  {
   "cell_type": "code",
   "execution_count": 8,
   "metadata": {},
   "outputs": [
    {
     "data": {
      "text/plain": [
       "<bound method Collection.list_indexes of Collection(Database(MongoClient(host=['localhost:27017'], document_class=dict, tz_aware=False, connect=True), 'movies'), 'base_data')>"
      ]
     },
     "execution_count": 8,
     "metadata": {},
     "output_type": "execute_result"
    }
   ],
   "source": [
    "my_collection.list_indexes"
   ]
  },
  {
   "cell_type": "code",
   "execution_count": 9,
   "metadata": {},
   "outputs": [
    {
     "data": {
      "text/plain": [
       "<pymongo.command_cursor.CommandCursor at 0x1992f86cee0>"
      ]
     },
     "execution_count": 9,
     "metadata": {},
     "output_type": "execute_result"
    }
   ],
   "source": [
    "my_collection.list_indexes()"
   ]
  },
  {
   "cell_type": "code",
   "execution_count": 11,
   "metadata": {},
   "outputs": [
    {
     "name": "stdout",
     "output_type": "stream",
     "text": [
      "1 {'_id': ObjectId('6443ad5ddddb9a9e407eedfc'), 'budget': 0, 'genres': ['Animation', 'Comedy', 'Family'], 'original_language': 'en', 'original_title': 'Toy Story', 'overview': \"Led by Woody, Andy's toys live happily in his room until Andy's birthday brings Buzz Lightyear onto the scene. Afraid of losing his place in Andy's heart, Woody plots against Buzz. But when circumstances separate Buzz and Woody from their owner, the duo eventually learns to put aside their differences.\", 'release_date': '1995-10-30T00:00:00', 'revenue': 373554033.0, 'runtime': 81.0, 'spoken_languages': ['English'], 'tagline': '0', 'title': 'Toy Story', 'vote_average': 7.7}\n",
      "2 {'_id': ObjectId('6443ad5ddddb9a9e407eedfd'), 'budget': 0, 'genres': ['Adventure', 'Fantasy', 'Family'], 'original_language': 'en', 'original_title': 'Jumanji', 'overview': \"When siblings Judy and Peter discover an enchanted board game that opens the door to a magical world, they unwittingly invite Alan -- an adult who's been trapped inside the game for 26 years -- into their living room. Alan's only hope for freedom is to finish the game, which proves risky as all three find themselves running from giant rhinoceroses, evil monkeys and other terrifying creatures.\", 'release_date': '1995-12-15T00:00:00', 'revenue': 262797249.0, 'runtime': 104.0, 'spoken_languages': ['English', 'Français'], 'tagline': 'Roll the dice and unleash the excitement!', 'title': 'Jumanji', 'vote_average': 6.9}\n",
      "3 {'_id': ObjectId('6443ad5ddddb9a9e407eedfe'), 'budget': 0, 'genres': ['Romance', 'Comedy'], 'original_language': 'en', 'original_title': 'Grumpier Old Men', 'overview': \"A family wedding reignites the ancient feud between next-door neighbors and fishing buddies John and Max. Meanwhile, a sultry Italian divorcée opens a restaurant at the local bait shop, alarming the locals who worry she'll scare the fish away. But she's less interested in seafood than she is in cooking up a hot time with Max.\", 'release_date': '1995-12-22T00:00:00', 'revenue': 0.0, 'runtime': 101.0, 'spoken_languages': ['English'], 'tagline': 'Still Yelling. Still Fighting. Still Ready for Love.', 'title': 'Grumpier Old Men', 'vote_average': 6.5}\n",
      "4 {'_id': ObjectId('6443ad5ddddb9a9e407eedff'), 'budget': 0, 'genres': ['Comedy', 'Drama', 'Romance'], 'original_language': 'en', 'original_title': 'Waiting to Exhale', 'overview': 'Cheated on, mistreated and stepped on, the women are holding their breath, waiting for the elusive \"good man\" to break a string of less-than-stellar lovers. Friends and confidants Vannah, Bernie, Glo and Robin talk it all out, determined to find a better way to breathe.', 'release_date': '1995-12-22T00:00:00', 'revenue': 81452156.0, 'runtime': 127.0, 'spoken_languages': ['English'], 'tagline': 'Friends are the people who let you be yourself... and never let you forget it.', 'title': 'Waiting to Exhale', 'vote_average': 6.1}\n",
      "5 {'_id': ObjectId('6443ad5ddddb9a9e407eee00'), 'budget': 0, 'genres': ['Comedy'], 'original_language': 'en', 'original_title': 'Father of the Bride Part II', 'overview': \"Just when George Banks has recovered from his daughter's wedding, he receives the news that she's pregnant ... and that George's wife, Nina, is expecting too. He was planning on selling their home, but that's a plan that -- like George -- will have to change with the arrival of both a grandchild and a kid of his own.\", 'release_date': '1995-02-10T00:00:00', 'revenue': 76578911.0, 'runtime': 106.0, 'spoken_languages': ['English'], 'tagline': \"Just When His World Is Back To Normal... He's In For The Surprise Of His Life!\", 'title': 'Father of the Bride Part II', 'vote_average': 5.7}\n",
      "6 {'_id': ObjectId('6443ad5ddddb9a9e407eee01'), 'budget': 0, 'genres': ['Action', 'Crime', 'Drama', 'Thriller'], 'original_language': 'en', 'original_title': 'Heat', 'overview': 'Obsessive master thief, Neil McCauley leads a top-notch crew on various insane heists throughout Los Angeles while a mentally unstable detective, Vincent Hanna pursues him without rest. Each man recognizes and respects the ability and the dedication of the other even though they are aware their cat-and-mouse game may end in violence.', 'release_date': '1995-12-15T00:00:00', 'revenue': 187436818.0, 'runtime': 170.0, 'spoken_languages': ['English', 'Español'], 'tagline': 'A Los Angeles Crime Saga', 'title': 'Heat', 'vote_average': 7.7}\n",
      "7 {'_id': ObjectId('6443ad5ddddb9a9e407eee02'), 'budget': 0, 'genres': ['Comedy', 'Romance'], 'original_language': 'en', 'original_title': 'Sabrina', 'overview': 'An ugly duckling having undergone a remarkable change, still harbors feelings for her crush: a carefree playboy, but not before his business-focused brother has something to say about it.', 'release_date': '1995-12-15T00:00:00', 'revenue': 0.0, 'runtime': 127.0, 'spoken_languages': ['Français', 'English'], 'tagline': 'You are cordially invited to the most surprising merger of the year.', 'title': 'Sabrina', 'vote_average': 6.2}\n",
      "8 {'_id': ObjectId('6443ad5ddddb9a9e407eee03'), 'budget': 0, 'genres': ['Action', 'Adventure', 'Drama', 'Family'], 'original_language': 'en', 'original_title': 'Tom and Huck', 'overview': 'A mischievous young boy, Tom Sawyer, witnesses a murder by the deadly Injun Joe. Tom becomes friends with Huckleberry Finn, a boy with no future and no family. Tom has to choose between honoring a friendship or honoring an oath because the town alcoholic is accused of the murder. Tom and Huck go through several adventures trying to retrieve evidence.', 'release_date': '1995-12-22T00:00:00', 'revenue': 0.0, 'runtime': 97.0, 'spoken_languages': ['English', 'Deutsch'], 'tagline': 'The Original Bad Boys.', 'title': 'Tom and Huck', 'vote_average': 5.4}\n",
      "9 {'_id': ObjectId('6443ad5ddddb9a9e407eee04'), 'budget': 0, 'genres': ['Action', 'Adventure', 'Thriller'], 'original_language': 'en', 'original_title': 'Sudden Death', 'overview': \"International action superstar Jean Claude Van Damme teams with Powers Boothe in a Tension-packed, suspense thriller, set against the back-drop of a Stanley Cup game.Van Damme portrays a father whose daughter is suddenly taken during a championship hockey game. With the captors demanding a billion dollars by game's end, Van Damme frantically sets a plan in motion to rescue his daughter and abort an impending explosion before the final buzzer...\", 'release_date': '1995-12-22T00:00:00', 'revenue': 64350171.0, 'runtime': 106.0, 'spoken_languages': ['English'], 'tagline': 'Terror goes into overtime.', 'title': 'Sudden Death', 'vote_average': 5.5}\n",
      "10 {'_id': ObjectId('6443ad5ddddb9a9e407eee05'), 'budget': 0, 'genres': ['Adventure', 'Action', 'Thriller'], 'original_language': 'en', 'original_title': 'GoldenEye', 'overview': 'James Bond must unmask the mysterious head of the Janus Syndicate and prevent the leader from utilizing the GoldenEye weapons system to inflict devastating revenge on Britain.', 'release_date': '1995-11-16T00:00:00', 'revenue': 352194034.0, 'runtime': 130.0, 'spoken_languages': ['English', 'Pусский', 'Español'], 'tagline': 'No limits. No fears. No substitutes.', 'title': 'GoldenEye', 'vote_average': 6.6}\n",
      "11 {'_id': ObjectId('6443ad5ddddb9a9e407eee06'), 'budget': 0, 'genres': ['Comedy', 'Drama', 'Romance'], 'original_language': 'en', 'original_title': 'The American President', 'overview': \"Widowed U.S. president Andrew Shepherd, one of the world's most powerful men, can have anything he wants -- and what he covets most is Sydney Ellen Wade, a Washington lobbyist. But Shepherd's attempts at courting her spark wild rumors and decimate his approval ratings.\", 'release_date': '1995-11-17T00:00:00', 'revenue': 107879496.0, 'runtime': 106.0, 'spoken_languages': ['English'], 'tagline': \"Why can't the most powerful man in the world have the one thing he wants most?\", 'title': 'The American President', 'vote_average': 6.5}\n",
      "12 {'_id': ObjectId('6443ad5ddddb9a9e407eee07'), 'budget': 0, 'genres': ['Comedy', 'Horror'], 'original_language': 'en', 'original_title': 'Dracula: Dead and Loving It', 'overview': \"When a lawyer shows up at the vampire's doorstep, he falls prey to his charms and joins him in his search for fresh blood. Enter Dr. van Helsing, who may be the only one able to vanquish the count.\", 'release_date': '1995-12-22T00:00:00', 'revenue': 0.0, 'runtime': 88.0, 'spoken_languages': ['English', 'Deutsch'], 'tagline': '0', 'title': 'Dracula: Dead and Loving It', 'vote_average': 5.7}\n",
      "13 {'_id': ObjectId('6443ad5ddddb9a9e407eee08'), 'budget': 0, 'genres': ['Family', 'Animation', 'Adventure'], 'original_language': 'en', 'original_title': 'Balto', 'overview': 'An outcast half-wolf risks his life to prevent a deadly epidemic from ravaging Nome, Alaska.', 'release_date': '1995-12-22T00:00:00', 'revenue': 11348324.0, 'runtime': 78.0, 'spoken_languages': ['English'], 'tagline': 'Part Dog. Part Wolf. All Hero.', 'title': 'Balto', 'vote_average': 7.1}\n",
      "14 {'_id': ObjectId('6443ad5ddddb9a9e407eee09'), 'budget': 0, 'genres': ['History', 'Drama'], 'original_language': 'en', 'original_title': 'Nixon', 'overview': 'An all-star cast powers this epic look at American President Richard M. Nixon, a man carrying the fate of the world on his shoulders while battling the self-destructive demands within. Spanning his troubled boyhood in California to the shocking Watergate scandal that would end his presidency.', 'release_date': '1995-12-22T00:00:00', 'revenue': 13681765.0, 'runtime': 192.0, 'spoken_languages': ['English'], 'tagline': 'Triumphant in Victory, Bitter in Defeat. He Changed the World, But Lost a Nation.', 'title': 'Nixon', 'vote_average': 7.1}\n",
      "15 {'_id': ObjectId('6443ad5ddddb9a9e407eee0a'), 'budget': 0, 'genres': ['Action', 'Adventure'], 'original_language': 'en', 'original_title': 'Cutthroat Island', 'overview': 'Morgan Adams and her slave, William Shaw, are on a quest to recover the three portions of a treasure map. Unfortunately, the final portion is held by her murderous uncle, Dawg. Her crew is skeptical of her leadership abilities, so she must complete her quest before they mutiny against her. This is made yet more difficult by the efforts of the British crown to end her pirate raids.', 'release_date': '1995-12-22T00:00:00', 'revenue': 10017322.0, 'runtime': 119.0, 'spoken_languages': ['English', 'Latin'], 'tagline': 'The Course Has Been Set. There Is No Turning Back. Prepare Your Weapons. Summon Your Courage. Discover the Adventure of a Lifetime!', 'title': 'Cutthroat Island', 'vote_average': 5.7}\n",
      "16 {'_id': ObjectId('6443ad5ddddb9a9e407eee0b'), 'budget': 0, 'genres': ['Drama', 'Crime'], 'original_language': 'en', 'original_title': 'Casino', 'overview': 'The life of the gambling paradise – Las Vegas – and its dark mafia underbelly.', 'release_date': '1995-11-22T00:00:00', 'revenue': 116112375.0, 'runtime': 178.0, 'spoken_languages': ['English'], 'tagline': 'No one stays at the top forever.', 'title': 'Casino', 'vote_average': 7.8}\n",
      "17 {'_id': ObjectId('6443ad5ddddb9a9e407eee0c'), 'budget': 0, 'genres': ['Drama', 'Romance'], 'original_language': 'en', 'original_title': 'Sense and Sensibility', 'overview': 'Rich Mr. Dashwood dies, leaving his second wife and her daughters poor by the rules of inheritance. Two daughters are the titular opposites.', 'release_date': '1995-12-13T00:00:00', 'revenue': 135000000.0, 'runtime': 136.0, 'spoken_languages': ['English'], 'tagline': 'Lose your heart and come to your senses.', 'title': 'Sense and Sensibility', 'vote_average': 7.2}\n",
      "18 {'_id': ObjectId('6443ad5ddddb9a9e407eee0d'), 'budget': 0, 'genres': ['Crime', 'Comedy'], 'original_language': 'en', 'original_title': 'Four Rooms', 'overview': \"It's Ted the Bellhop's first night on the job...and the hotel's very unusual guests are about to place him in some outrageous predicaments. It seems that this evening's room service is serving up one unbelievable happening after another.\", 'release_date': '1995-12-09T00:00:00', 'revenue': 4300000.0, 'runtime': 98.0, 'spoken_languages': ['English'], 'tagline': \"Twelve outrageous guests. Four scandalous requests. And one lone bellhop, in his first day on the job, who's in for the wildest New year's Eve of his life.\", 'title': 'Four Rooms', 'vote_average': 6.5}\n",
      "19 {'_id': ObjectId('6443ad5ddddb9a9e407eee0e'), 'budget': 0, 'genres': ['Crime', 'Comedy', 'Adventure'], 'original_language': 'en', 'original_title': 'Ace Ventura: When Nature Calls', 'overview': \"Summoned from an ashram in Tibet, Ace finds himself on a perilous journey into the jungles of Africa to find Shikaka, the missing sacred animal of the friendly Wachati tribe. He must accomplish this before the wedding of the Wachati's Princess to the prince of the warrior Wachootoos. If Ace fails, the result will be a vicious tribal war.\", 'release_date': '1995-11-10T00:00:00', 'revenue': 212385533.0, 'runtime': 90.0, 'spoken_languages': ['English'], 'tagline': 'New animals. New adventures. Same hair.', 'title': 'Ace Ventura: When Nature Calls', 'vote_average': 6.1}\n",
      "20 {'_id': ObjectId('6443ad5ddddb9a9e407eee0f'), 'budget': 0, 'genres': ['Action', 'Comedy', 'Crime'], 'original_language': 'en', 'original_title': 'Money Train', 'overview': 'A vengeful New York transit cop decides to steal a trainload of subway fares; his foster brother, a fellow cop, tries to protect him.', 'release_date': '1995-11-21T00:00:00', 'revenue': 35431113.0, 'runtime': 103.0, 'spoken_languages': ['English'], 'tagline': 'Get on, or GET OUT THE WAY!', 'title': 'Money Train', 'vote_average': 5.4}\n",
      "21 {'_id': ObjectId('6443ad5ddddb9a9e407eee10'), 'budget': 0, 'genres': ['Comedy', 'Thriller', 'Crime'], 'original_language': 'en', 'original_title': 'Get Shorty', 'overview': 'Chili Palmer is a Miami mobster who gets sent by his boss, the psychopathic \"Bones\" Barboni, to collect a bad debt from Harry Zimm, a Hollywood producer who specializes in cheesy horror films. When Chili meets Harry\\'s leading lady, the romantic sparks fly. After pitching his own life story as a movie idea, Chili learns that being a mobster and being a Hollywood producer really aren\\'t all that different.', 'release_date': '1995-10-20T00:00:00', 'revenue': 115101622.0, 'runtime': 105.0, 'spoken_languages': ['English'], 'tagline': 'The mob is tough, but it’s nothing like show business.', 'title': 'Get Shorty', 'vote_average': 6.4}\n"
     ]
    }
   ],
   "source": [
    "runner = 0\n",
    "for each_dict in my_collection.find({}):\n",
    "    runner += 1\n",
    "    print(runner, each_dict)\n",
    "    if runner > 20:\n",
    "        break"
   ]
  },
  {
   "cell_type": "code",
   "execution_count": null,
   "metadata": {},
   "outputs": [],
   "source": []
  },
  {
   "cell_type": "code",
   "execution_count": 13,
   "metadata": {},
   "outputs": [
    {
     "name": "stdout",
     "output_type": "stream",
     "text": [
      "1 {'budget': 0}\n",
      "2 {'budget': 0}\n",
      "3 {'budget': 0}\n",
      "4 {'budget': 0}\n",
      "5 {'budget': 0}\n",
      "6 {'budget': 0}\n"
     ]
    }
   ],
   "source": [
    "runner = 0\n",
    "for each_dict in my_collection.find({},  {'_id':0, 'budget': 1}):\n",
    "    runner += 1\n",
    "    print(runner, each_dict)\n",
    "    if runner > 5:\n",
    "        break"
   ]
  },
  {
   "cell_type": "code",
   "execution_count": 19,
   "metadata": {},
   "outputs": [
    {
     "name": "stdout",
     "output_type": "stream",
     "text": [
      "1 {'budget': 0, 'genres': ['Animation', 'Comedy', 'Family'], 'original_language': 'en', 'original_title': 'Toy Story', 'release_date': '1995-10-30T00:00:00', 'revenue': 373554033.0, 'runtime': 81.0, 'spoken_languages': ['English'], 'tagline': '0', 'title': 'Toy Story', 'vote_average': 7.7}\n",
      "2 {'budget': 0, 'genres': ['Romance', 'Comedy'], 'original_language': 'en', 'original_title': 'Grumpier Old Men', 'release_date': '1995-12-22T00:00:00', 'revenue': 0.0, 'runtime': 101.0, 'spoken_languages': ['English'], 'tagline': 'Still Yelling. Still Fighting. Still Ready for Love.', 'title': 'Grumpier Old Men', 'vote_average': 6.5}\n",
      "3 {'budget': 0, 'genres': ['Comedy', 'Drama', 'Romance'], 'original_language': 'en', 'original_title': 'Waiting to Exhale', 'release_date': '1995-12-22T00:00:00', 'revenue': 81452156.0, 'runtime': 127.0, 'spoken_languages': ['English'], 'tagline': 'Friends are the people who let you be yourself... and never let you forget it.', 'title': 'Waiting to Exhale', 'vote_average': 6.1}\n"
     ]
    }
   ],
   "source": [
    "runner = 0\n",
    "for each_dict in my_collection.find({}, {'_id':0, 'overview':0}).limit(4):\n",
    "    if 'Comedy' in each_dict['genres']:\n",
    "        runner += 1\n",
    "        print(runner, each_dict)\n",
    "        # if runner > 5:\n",
    "        #     break"
   ]
  },
  {
   "cell_type": "code",
   "execution_count": null,
   "metadata": {},
   "outputs": [],
   "source": []
  },
  {
   "cell_type": "code",
   "execution_count": 24,
   "metadata": {},
   "outputs": [
    {
     "name": "stdout",
     "output_type": "stream",
     "text": [
      "1 Toy Story --> 7.7 --> 1995-10-30T00:00:00 ----> ['Animation', 'Comedy', 'Family']\n",
      "2 A Midwinter's Tale --> 7.5 --> 1995-12-01T00:00:00 ----> ['Comedy']\n",
      "3 Living in Oblivion --> 7.2 --> 1995-01-20T00:00:00 ----> ['Drama', 'Comedy']\n",
      "4 Reckless --> 10.0 --> 1995-11-17T00:00:00 ----> ['Fantasy', 'Comedy', 'Drama']\n",
      "5 Smoke --> 7.2 --> 1995-06-09T00:00:00 ----> ['Comedy', 'Drama']\n",
      "6 Clerks --> 7.4 --> 1994-09-13T00:00:00 ----> ['Comedy']\n",
      "7 Ed Wood --> 7.3 --> 1994-09-27T00:00:00 ----> ['Comedy', 'Drama', 'History']\n",
      "8 The Adventures of Priscilla, Queen of the Desert --> 7.2 --> 1994-05-31T00:00:00 ----> ['Drama', 'Comedy']\n",
      "9 Forrest Gump --> 8.2 --> 1994-07-06T00:00:00 ----> ['Comedy', 'Drama', 'Romance']\n",
      "10 Dazed and Confused --> 7.4 --> 1993-09-24T00:00:00 ----> ['Comedy', 'Drama']\n",
      "11 The Hudsucker Proxy --> 7.1 --> 1994-03-11T00:00:00 ----> ['Comedy', 'Drama']\n",
      "12 Manhattan Murder Mystery --> 7.1 --> 1993-08-18T00:00:00 ----> ['Comedy', 'Mystery']\n",
      "13 Much Ado About Nothing --> 7.2 --> 1993-05-07T00:00:00 ----> ['Drama', 'Comedy', 'Romance']\n",
      "14 Naked --> 7.5 --> 1993-09-14T00:00:00 ----> ['Comedy', 'Drama']\n",
      "15 Io speriamo che me la cavo --> 7.2 --> 1992-10-01T00:00:00 ----> ['Comedy', 'Foreign']\n",
      "16 Home Alone --> 7.1 --> 1990-11-09T00:00:00 ----> ['Comedy', 'Family']\n"
     ]
    }
   ],
   "source": [
    "runner = 0\n",
    "for each_dict in my_collection.find({}, {'_id':0, 'overview':0, 'budget':0}):\n",
    "    if ('Comedy' in each_dict['genres']) and (each_dict['vote_average'] > 7) and (each_dict['original_language'] == 'en'):\n",
    "        runner += 1\n",
    "        print(runner, each_dict['original_title'], \"-->\", each_dict['vote_average'], \"-->\", each_dict['release_date'], \"---->\", each_dict['genres'])\n",
    "        if runner > 15:\n",
    "            break"
   ]
  },
  {
   "cell_type": "code",
   "execution_count": null,
   "metadata": {},
   "outputs": [],
   "source": []
  },
  {
   "cell_type": "code",
   "execution_count": null,
   "metadata": {},
   "outputs": [],
   "source": []
  },
  {
   "cell_type": "code",
   "execution_count": 26,
   "metadata": {},
   "outputs": [
    {
     "name": "stdout",
     "output_type": "stream",
     "text": [
      "32 {'Western', 'Crime', 'Documentary', 'Adventure', 'Horror', 'Telescene Film Group Productions', 'BROSTA TV', 'Romance', 'TV Movie', 'Science Fiction', 'Aniplex', 'Odyssey Media', 'Fantasy', 'Music', 'Carousel Productions', 'Pulser Productions', 'History', 'Family', 'War', 'Sentai Filmworks', 'GoHands', 'Vision View Entertainment', 'Drama', 'Rogue State', 'The Cartel', 'Comedy', 'Action', 'Foreign', 'Animation', 'Thriller', 'Mardock Scramble Production Committee', 'Mystery'}\n"
     ]
    }
   ],
   "source": [
    "runner = 0\n",
    "genres_set = set([])\n",
    "for each_dict in my_collection.find({}):\n",
    "    genres_set.update(each_dict['genres'])\n",
    "print(len(genres_set), genres_set)"
   ]
  },
  {
   "cell_type": "code",
   "execution_count": null,
   "metadata": {},
   "outputs": [],
   "source": []
  },
  {
   "cell_type": "code",
   "execution_count": 28,
   "metadata": {},
   "outputs": [
    {
     "name": "stdout",
     "output_type": "stream",
     "text": [
      "93 {'it', 'ps', 'pl', 'el', 'is', 'lt', 'he', 'ro', 'kn', 'ne', 'uz', 'hi', 'xx', 'pt', 'da', 'nl', '104.0', 'nb', 'gl', 'sh', 'mk', 'ja', 'ko', 'hr', 'tl', '68.0', 'lb', 'fi', 'th', 'cy', 'ky', 'ta', 'am', 'jv', 'mt', 'sk', 'uk', 'vi', 'en', 'fr', 'et', '82.0', 'zh', 'eu', 'ku', 'lo', 'mr', 'cn', 'bo', 'te', 'hu', 'sv', 'ca', 'tr', 'ml', '0', 'ur', 'fy', 'ay', 'sm', 'ar', 'sl', 'wo', 'ka', 'sr', 'si', 'zu', 'bg', 'hy', 'qu', 'iu', 'bs', 'lv', 'id', 'la', 'no', 'cs', 'mn', 'ms', 'kk', 'pa', 'af', 'ab', 'es', 'eo', 'bn', 'sq', 'tg', 'de', 'fa', 'ru', 'bm', 'rw'}\n"
     ]
    }
   ],
   "source": [
    "runner = 0\n",
    "genres_set = set([])\n",
    "for each_dict in my_collection.find({}):\n",
    "    genres_set.add(each_dict['original_language'])\n",
    "print(len(genres_set), genres_set)"
   ]
  },
  {
   "cell_type": "code",
   "execution_count": null,
   "metadata": {},
   "outputs": [],
   "source": []
  },
  {
   "cell_type": "code",
   "execution_count": 30,
   "metadata": {},
   "outputs": [
    {
     "name": "stdout",
     "output_type": "stream",
     "text": [
      "32 {'Drama': 20265, 'Comedy': 13182, 'Thriller': 7624, 'Romance': 6735, 'Action': 6596, 'Horror': 4673, 'Crime': 4307, 'Documentary': 3932, 'Adventure': 3496, 'Science Fiction': 3049, 'Family': 2770, 'Mystery': 2467, 'Fantasy': 2313, 'Animation': 1935, 'Foreign': 1622, 'Music': 1598, 'History': 1398, 'War': 1323, 'Western': 1042, 'TV Movie': 767, 'Carousel Productions': 1, 'Vision View Entertainment': 1, 'Telescene Film Group Productions': 1, 'Aniplex': 1, 'GoHands': 1, 'BROSTA TV': 1, 'Mardock Scramble Production Committee': 1, 'Sentai Filmworks': 1, 'Odyssey Media': 1, 'Pulser Productions': 1, 'Rogue State': 1, 'The Cartel': 1}\n"
     ]
    }
   ],
   "source": [
    "runner = 0\n",
    "genres_counter = {}\n",
    "for each_dict in my_collection.find({}):\n",
    "    for each_gener in each_dict['genres']:\n",
    "        if each_gener in genres_counter:\n",
    "            genres_counter[each_gener] += 1\n",
    "        else:\n",
    "            genres_counter[each_gener] = 1\n",
    "\n",
    "genres_counter = sorted(genres_counter.items(), key=lambda x:x[1], reverse=True)\n",
    "print(len(genres_counter), dict(genres_counter))"
   ]
  },
  {
   "cell_type": "code",
   "execution_count": null,
   "metadata": {},
   "outputs": [],
   "source": []
  },
  {
   "cell_type": "code",
   "execution_count": null,
   "metadata": {},
   "outputs": [],
   "source": []
  },
  {
   "cell_type": "code",
   "execution_count": 33,
   "metadata": {},
   "outputs": [
    {
     "name": "stdout",
     "output_type": "stream",
     "text": [
      "1 Toy Story --> 7.7 --> 1995-10-30T00:00:00 ----> ['Animation', 'Comedy', 'Family']\n",
      "{'_id': ObjectId('6443ad5ddddb9a9e407eedfc'), 'budget': 0, 'genres': ['Animation', 'Comedy', 'Family'], 'original_language': 'en', 'original_title': 'Toy Story', 'overview': \"Led by Woody, Andy's toys live happily in his room until Andy's birthday brings Buzz Lightyear onto the scene. Afraid of losing his place in Andy's heart, Woody plots against Buzz. But when circumstances separate Buzz and Woody from their owner, the duo eventually learns to put aside their differences.\", 'release_date': '1995-10-30T00:00:00', 'revenue': 373554033.0, 'runtime': 81.0, 'spoken_languages': ['English'], 'tagline': '0', 'title': 'Toy Story', 'vote_average': 7.7}\n"
     ]
    }
   ],
   "source": [
    "# myquery = { \"address\": \"Park Lane 38\" }\n",
    "runner = 0\n",
    "myquery = {\"original_title\": \"Toy Story\"}\n",
    "\n",
    "for each_dict in my_collection.find(myquery):\n",
    "    runner += 1\n",
    "    print(runner, each_dict['original_title'], \"-->\", each_dict['vote_average'], \"-->\", each_dict['release_date'], \"---->\", each_dict['genres'])\n",
    "    print(each_dict)\n",
    "    if runner > 15:\n",
    "        break"
   ]
  },
  {
   "cell_type": "code",
   "execution_count": null,
   "metadata": {},
   "outputs": [],
   "source": []
  },
  {
   "cell_type": "code",
   "execution_count": 35,
   "metadata": {},
   "outputs": [
    {
     "name": "stdout",
     "output_type": "stream",
     "text": [
      "1 Heat --> 7.7 --> 1995-12-15T00:00:00 ----> ['Action', 'Crime', 'Drama', 'Thriller']\n",
      "2 Sudden Death --> 5.5 --> 1995-12-22T00:00:00 ----> ['Action', 'Adventure', 'Thriller']\n",
      "3 GoldenEye --> 6.6 --> 1995-11-16T00:00:00 ----> ['Adventure', 'Action', 'Thriller']\n",
      "4 Get Shorty --> 6.4 --> 1995-10-20T00:00:00 ----> ['Comedy', 'Thriller', 'Crime']\n",
      "5 Copycat --> 6.5 --> 1995-10-27T00:00:00 ----> ['Drama', 'Thriller']\n",
      "6 Assassins --> 6.0 --> 1995-10-06T00:00:00 ----> ['Action', 'Adventure', 'Crime', 'Thriller']\n"
     ]
    }
   ],
   "source": [
    "runner = 0\n",
    "myquery = {\"genres\": \"Comedy\", \"genres\": \"Thriller\"}\n",
    "\n",
    "for each_dict in my_collection.find(myquery):\n",
    "    runner += 1\n",
    "    print(runner, each_dict['original_title'], \"-->\", each_dict['vote_average'], \"-->\", each_dict['release_date'], \"---->\", each_dict['genres'])\n",
    "    #print(each_dict)\n",
    "    if runner > 5:\n",
    "        break"
   ]
  },
  {
   "cell_type": "code",
   "execution_count": null,
   "metadata": {},
   "outputs": [],
   "source": []
  },
  {
   "cell_type": "code",
   "execution_count": 39,
   "metadata": {},
   "outputs": [
    {
     "name": "stdout",
     "output_type": "stream",
     "text": [
      "{'_id': ObjectId('6443ad5ddddb9a9e407eedfc'), 'genres': 'Thriller'}\n",
      "{'_id': ObjectId('6443ad5ddddb9a9e407eedfe'), 'genres': 'Thriller'}\n",
      "{'_id': ObjectId('6443ad5ddddb9a9e407eedff'), 'genres': 'Thriller'}\n",
      "{'_id': ObjectId('6443ad5ddddb9a9e407eee00'), 'genres': 'Thriller'}\n",
      "{'_id': ObjectId('6443ad5ddddb9a9e407eee02'), 'genres': 'Thriller'}\n",
      "{'_id': ObjectId('6443ad5ddddb9a9e407eee06'), 'genres': 'Thriller'}\n"
     ]
    }
   ],
   "source": [
    "runner = 0\n",
    "myquery = {\"genres\": \"Comedy\"}\n",
    "another_query = {'genres': 'Thriller'}\n",
    "\n",
    "for each_dict in my_collection.find(myquery, another_query):\n",
    "    runner += 1\n",
    "    #print(runner, each_dict['original_title'], \"-->\", each_dict['vote_average'], \"-->\", each_dict['release_date'], \"---->\", each_dict['genres'])\n",
    "    print(each_dict)\n",
    "    if runner > 5:\n",
    "        break"
   ]
  },
  {
   "cell_type": "code",
   "execution_count": null,
   "metadata": {},
   "outputs": [],
   "source": []
  },
  {
   "cell_type": "code",
   "execution_count": 45,
   "metadata": {},
   "outputs": [
    {
     "name": "stdout",
     "output_type": "stream",
     "text": [
      "1 Se7en --> 8.1 --> 1995-09-22T00:00:00 ----> ['Crime', 'Mystery', 'Thriller']\n",
      "2 The Usual Suspects --> 8.1 --> 1995-07-19T00:00:00 ----> ['Drama', 'Crime', 'Thriller']\n",
      "3 Taxi Driver --> 8.1 --> 1976-02-07T00:00:00 ----> ['Crime', 'Drama']\n",
      "4 Reckless --> 10.0 --> 1995-11-17T00:00:00 ----> ['Fantasy', 'Comedy', 'Drama']\n",
      "5 Star Wars --> 8.1 --> 1977-05-25T00:00:00 ----> ['Adventure', 'Action', 'Science Fiction']\n",
      "6 Léon --> 8.2 --> 1994-09-14T00:00:00 ----> ['Thriller', 'Crime', 'Drama']\n"
     ]
    }
   ],
   "source": [
    "# { “$and”:[{exp1}, {exp2}, …, {expN}] }\n",
    "runner = 0\n",
    "myquery = {\"vote_average\": {\"$gt\": 8}}\n",
    "\n",
    "for each_dict in my_collection.find(myquery):\n",
    "    runner += 1\n",
    "    print(runner, each_dict['original_title'], \"-->\", each_dict['vote_average'], \"-->\", each_dict['release_date'], \"---->\", each_dict['genres'])\n",
    "    if runner > 5:\n",
    "        break"
   ]
  },
  {
   "cell_type": "code",
   "execution_count": null,
   "metadata": {},
   "outputs": [],
   "source": []
  },
  {
   "cell_type": "code",
   "execution_count": 47,
   "metadata": {},
   "outputs": [
    {
     "name": "stdout",
     "output_type": "stream",
     "text": [
      "1 Toy Story --> 7.7 --> 1995-10-30T00:00:00 ----> ['Animation', 'Comedy', 'Family']\n",
      "2 Grumpier Old Men --> 6.5 --> 1995-12-22T00:00:00 ----> ['Romance', 'Comedy']\n",
      "3 Waiting to Exhale --> 6.1 --> 1995-12-22T00:00:00 ----> ['Comedy', 'Drama', 'Romance']\n",
      "4 Father of the Bride Part II --> 5.7 --> 1995-02-10T00:00:00 ----> ['Comedy']\n",
      "5 Heat --> 7.7 --> 1995-12-15T00:00:00 ----> ['Action', 'Crime', 'Drama', 'Thriller']\n",
      "6 Sabrina --> 6.2 --> 1995-12-15T00:00:00 ----> ['Comedy', 'Romance']\n"
     ]
    }
   ],
   "source": [
    "runner = 0 # \n",
    "myquery = {\"genres\": { \"$regex\": \"^C\" }}\n",
    "#another_query = {'genres': 'Thriller'}\n",
    "\n",
    "for each_dict in my_collection.find(myquery):\n",
    "    runner += 1\n",
    "    print(runner, each_dict['original_title'], \"-->\", each_dict['vote_average'], \"-->\", each_dict['release_date'], \"---->\", each_dict['genres'])\n",
    "    #print(each_dict)\n",
    "    if runner > 5:\n",
    "        break"
   ]
  },
  {
   "cell_type": "code",
   "execution_count": null,
   "metadata": {},
   "outputs": [],
   "source": []
  },
  {
   "cell_type": "code",
   "execution_count": 52,
   "metadata": {},
   "outputs": [
    {
     "name": "stdout",
     "output_type": "stream",
     "text": [
      "1 A Star Is Born --> 6.3 --> 1937-04-27T00:00:00 ----> ['Drama']\n",
      "Overview >>> Esther Blodgett is just another starry-eyed farm kid trying to break into the movies. Waitressing at a Hollywood party, she catches the eye of alcoholic star Norman Maine, is given a test, and is caught up in the Hollywood glamor machine (ruthlessly satirized). She and her idol Norman marry; but his career abruptly dwindles to nothing\n",
      "\n",
      "2 A Star Is Born --> 7.1 --> 1954-09-29T00:00:00 ----> ['Drama', 'Music', 'Romance']\n",
      "Overview >>> A movie star helps a young singer/actress find fame, even as age and alcoholism send his own career into a downward spiral.\n",
      "\n",
      "3 A Star Is Born --> 5.7 --> 1976-12-16T00:00:00 ----> ['Drama', 'Music', 'Romance']\n",
      "Overview >>> A Star Is Born is a 1976 rock music film telling the story of a young woman, played by Barbra Streisand who enters show business, and meets and falls in love with an established male star, played by Kris Kristofferson, only to find her career ascending while his goes into decline.\n",
      "\n"
     ]
    }
   ],
   "source": [
    "runner = 0 # \n",
    "pipeline = [\n",
    "   {\n",
    "      \"$match\": {\n",
    "         \"title\": \"A Star Is Born\"\n",
    "      }\n",
    "   }, \n",
    "   {\n",
    "      \"$sort\": {\n",
    "         \"year\": pymongo.ASCENDING\n",
    "      }\n",
    "   },\n",
    "]\n",
    "results = my_collection.aggregate(pipeline)\n",
    "\n",
    "for each_dict in results:\n",
    "    runner += 1\n",
    "    print(runner, each_dict['original_title'], \"-->\", each_dict['vote_average'], \"-->\", each_dict['release_date'], \"---->\", each_dict['genres'])\n",
    "    print(\"Overview >>>\", each_dict['overview'])\n",
    "    print()\n",
    "    #print(each_dict)\n",
    "    if runner > 5:\n",
    "        break"
   ]
  },
  {
   "cell_type": "code",
   "execution_count": null,
   "metadata": {},
   "outputs": [],
   "source": []
  },
  {
   "cell_type": "code",
   "execution_count": 56,
   "metadata": {},
   "outputs": [
    {
     "name": "stdout",
     "output_type": "stream",
     "text": [
      "1 Girl in the Cadillac --> 10.0 --> 1995-10-24T00:00:00 ----> ['Romance', 'Adventure', 'Crime', 'Drama']\n",
      "2 هیچ کجا هیچ کس --> 10.0 --> 2013-08-07T00:00:00 ----> ['Mystery', 'Crime', 'Drama']\n",
      "3 Deliver Us from Evil --> 10.0 --> 1973-09-11T00:00:00 ----> ['Crime', 'Drama', 'TV Movie']\n",
      "4 La polizia sta a guardare --> 10.0 --> 1973-11-16T00:00:00 ----> ['Crime']\n",
      "5 The Walking Stick --> 10.0 --> 1970-06-05T00:00:00 ----> ['Crime', 'Drama', 'Romance']\n",
      "6 Goodbye & Amen --> 10.0 --> 1978-02-08T00:00:00 ----> ['Thriller']\n"
     ]
    }
   ],
   "source": [
    "runner = 0 # \n",
    "pipeline = [\n",
    "   {\n",
    "      \"$match\": {\n",
    "         \"genres\": {\"$in\" : ['Thriller', 'Crime'] } #  \"A Star Is Born\"\n",
    "      }\n",
    "   }, \n",
    "   {\n",
    "      \"$sort\": {\n",
    "         \"vote_average\": pymongo.DESCENDING #ASCENDING\n",
    "      }\n",
    "   },\n",
    "]\n",
    "results = my_collection.aggregate(pipeline)\n",
    "\n",
    "for each_dict in results:\n",
    "    runner += 1\n",
    "    print(runner, each_dict['original_title'], \"-->\", each_dict['vote_average'], \"-->\", each_dict['release_date'], \"---->\", each_dict['genres'])\n",
    "    #print(\"Overview >>>\", each_dict['overview'])\n",
    "    #print()\n",
    "    #print(each_dict)\n",
    "    if runner > 5:\n",
    "        break"
   ]
  },
  {
   "cell_type": "code",
   "execution_count": null,
   "metadata": {},
   "outputs": [],
   "source": []
  },
  {
   "cell_type": "code",
   "execution_count": 67,
   "metadata": {},
   "outputs": [
    {
     "name": "stdout",
     "output_type": "stream",
     "text": [
      "1 American Hostage --> 10.0 --> 2016-03-25T00:00:00 ----> ['Thriller', 'Crime', 'Drama']\n",
      "Overview >>> American Hostage pulls back the curtains on a terrorist plot centered on a group of terrorists holding two American soldiers hostage on U.S. soil. They demand the release of all prisoners of Guantanamo Bay or they will kill the soldiers.\n",
      "\n",
      "2 London Spy --> 8.8 --> 2015-11-09T00:00:00 ----> ['Romance', 'Crime', 'Drama', 'Mystery', 'Thriller']\n",
      "Overview >>> A romance between an MI6 code genius and an ordinary man promises happiness. But tragedy strikes when the spy dies in suspicious circumstances, forcing his lover to pursue the truth behind his death.\n",
      "\n",
      "3 Charlie Chan at the Wax Museum --> 8.4 --> 1940-09-06T00:00:00 ----> ['Crime', 'Mystery', 'Drama', 'Thriller', 'Comedy']\n",
      "Overview >>> A wax museum run by a demented doctor contains statues of such crime figures as Jack the Ripper and Bluebeard. In addition to making wax statues the doctor performs plastic surgery. It is here that an arch fiend takes refuge. The museum also houses a statue of Charlie. Frustrated number-two son kicks statue in rear; oops, number-two son wrong in his assumption\n",
      "\n"
     ]
    }
   ],
   "source": [
    "runner = 0 # \n",
    "pipeline = [\n",
    "   {\n",
    "      \"$match\": {\n",
    "         \"$and\": [{\"genres\" : 'Thriller'}, {'genres' : 'Crime'}, {\"original_language\": 'en'}]  #  \"A Star Is Born\"\n",
    "      }\n",
    "   }, \n",
    "   {\n",
    "      \"$sort\": {\n",
    "         \"vote_average\": pymongo.DESCENDING #ASCENDING\n",
    "      }\n",
    "   },\n",
    "]\n",
    "results = my_collection.aggregate(pipeline)\n",
    "\n",
    "for each_dict in results:\n",
    "    runner += 1\n",
    "    print(runner, each_dict['original_title'], \"-->\", each_dict['vote_average'], \"-->\", each_dict['release_date'], \"---->\", each_dict['genres'])\n",
    "    print(\"Overview >>>\", each_dict['overview'])\n",
    "    print()\n",
    "    #print(each_dict)\n",
    "    if runner > 2:\n",
    "        break"
   ]
  },
  {
   "cell_type": "code",
   "execution_count": null,
   "metadata": {},
   "outputs": [],
   "source": []
  },
  {
   "cell_type": "code",
   "execution_count": 73,
   "metadata": {},
   "outputs": [],
   "source": [
    "import datetime"
   ]
  },
  {
   "cell_type": "code",
   "execution_count": 80,
   "metadata": {},
   "outputs": [
    {
     "name": "stdout",
     "output_type": "stream",
     "text": [
      "Collecting ISODate\n",
      "  Downloading isodate-0.6.1-py2.py3-none-any.whl (41 kB)\n",
      "     ---------------------------------------- 41.7/41.7 kB 2.0 MB/s eta 0:00:00\n",
      "Requirement already satisfied: six in c:\\python310\\lib\\site-packages (from ISODate) (1.16.0)\n",
      "Installing collected packages: ISODate\n",
      "Successfully installed ISODate-0.6.1\n"
     ]
    },
    {
     "name": "stderr",
     "output_type": "stream",
     "text": [
      "WARNING: Ignoring invalid distribution -illow (c:\\python310\\lib\\site-packages)\n",
      "WARNING: Ignoring invalid distribution -illow (c:\\python310\\lib\\site-packages)\n",
      "WARNING: Ignoring invalid distribution -illow (c:\\python310\\lib\\site-packages)\n",
      "WARNING: Ignoring invalid distribution -illow (c:\\python310\\lib\\site-packages)\n",
      "WARNING: Ignoring invalid distribution -illow (c:\\python310\\lib\\site-packages)\n",
      "WARNING: Ignoring invalid distribution -illow (c:\\python310\\lib\\site-packages)\n",
      "WARNING: Ignoring invalid distribution -illow (c:\\python310\\lib\\site-packages)\n",
      "\n",
      "[notice] A new release of pip is available: 23.0.1 -> 23.1.1\n",
      "[notice] To update, run: python.exe -m pip install --upgrade pip\n"
     ]
    }
   ],
   "source": [
    "! pip install ISODate"
   ]
  },
  {
   "cell_type": "code",
   "execution_count": 82,
   "metadata": {},
   "outputs": [],
   "source": [
    "import isodate"
   ]
  },
  {
   "cell_type": "code",
   "execution_count": 100,
   "metadata": {},
   "outputs": [
    {
     "name": "stdout",
     "output_type": "stream",
     "text": [
      "<class 'datetime.datetime'> 2009-11-12 00:00:00\n",
      "<class 'str'> 2009-11-12T00:00:00\n",
      "working\n",
      "<pymongo.command_cursor.CommandCursor object at 0x0000019933BF6DD0>\n"
     ]
    }
   ],
   "source": [
    "runner = 0 # \n",
    "#datee = datetime.datetime(2009, 11, 12).fromisoformat()\n",
    "datee = datetime.datetime.fromisoformat(\"2009-11-12\")\n",
    "print(type(datee), datee)\n",
    "datee2 = isodate.datetime_isoformat(datee)\n",
    "print(type(datee2), datee2)\n",
    "pipeline = [\n",
    "   {\n",
    "      \"$match\": {\n",
    "         \"relased_date\" : {\"$lt\": isodate.datetime_isoformat(datee)},\n",
    "         #\"$and\": [{\"genres\" : 'Thriller'}, {'genres' : 'Crime'}, {\"original_language\": 'en'}]  #  \"A Star Is Born\"\n",
    "      }\n",
    "   }, \n",
    "   {\n",
    "      \"$sort\": {\n",
    "         \"vote_average\": pymongo.DESCENDING #ASCENDING\n",
    "      }\n",
    "   },\n",
    "]\n",
    "results = my_collection.aggregate(pipeline)\n",
    "if results:\n",
    "    print(\"working\")\n",
    "    print(results)\n",
    "if not results:\n",
    "   print(results, \"-- not working\")\n",
    "\n",
    "\n",
    "for each_dict in results:\n",
    "   print(each_dict)\n",
    "   runner += 1\n",
    "   print(runner, each_dict['original_title'], \"-->\", each_dict['vote_average'], \"-->\", each_dict['release_date'], \"---->\", each_dict['genres'])\n",
    "   print(\"Overview >>>\", each_dict['overview'])\n",
    "   print()\n",
    "   #print(each_dict)\n",
    "   if runner > 2:\n",
    "      break"
   ]
  },
  {
   "cell_type": "code",
   "execution_count": null,
   "metadata": {},
   "outputs": [],
   "source": []
  },
  {
   "cell_type": "code",
   "execution_count": 103,
   "metadata": {},
   "outputs": [
    {
     "name": "stdout",
     "output_type": "stream",
     "text": [
      "1 Into Great Silence --> 8.4 --> 2005-09-04T00:00:00 ----> ['Documentary', 'Foreign']\n",
      "2 The Dark Knight --> 8.3 --> 2008-07-16T00:00:00 ----> ['Drama', 'Action', 'Crime', 'Thriller']\n",
      "3 If God Is Willing and da Creek Don't Rise --> 10.0 --> 2010-08-23T00:00:00 ----> ['Documentary']\n",
      "4 The Trap: What Happened to Our Dream of Freedom --> 8.3 --> 2007-03-11T00:00:00 ----> []\n",
      "5 Madagascar --> 8.6 --> 2011-02-16T00:00:00 ----> ['Documentary', 'Foreign']\n",
      "6 Frozen Planet --> 8.3 --> 2011-10-26T00:00:00 ----> ['Documentary']\n"
     ]
    }
   ],
   "source": [
    "# db.base_data.find({\"release_date\": {\"$gt\": \"2000-01-01\"}})\n",
    "runner = 0 # \n",
    "\n",
    "for each_dict in my_collection.find({\"release_date\": {\"$gt\": \"2000-01-01\"}, \"vote_average\": {\"$gt\": 8.2}, \"runtime\": {\"$gt\": 150.0}}):\n",
    "    runner += 1\n",
    "    print(runner, each_dict['original_title'], \"-->\", each_dict['vote_average'], \"-->\", each_dict['release_date'], \"---->\", each_dict['genres'])\n",
    "    #print(each_dict)\n",
    "    if runner > 5:\n",
    "        break\n"
   ]
  },
  {
   "cell_type": "code",
   "execution_count": null,
   "metadata": {},
   "outputs": [],
   "source": []
  }
 ],
 "metadata": {
  "kernelspec": {
   "display_name": "Python 3",
   "language": "python",
   "name": "python3"
  },
  "language_info": {
   "codemirror_mode": {
    "name": "ipython",
    "version": 3
   },
   "file_extension": ".py",
   "mimetype": "text/x-python",
   "name": "python",
   "nbconvert_exporter": "python",
   "pygments_lexer": "ipython3",
   "version": "3.10.6"
  },
  "orig_nbformat": 4
 },
 "nbformat": 4,
 "nbformat_minor": 2
}
