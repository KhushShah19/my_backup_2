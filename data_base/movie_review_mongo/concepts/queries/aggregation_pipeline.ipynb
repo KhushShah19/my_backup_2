{
 "cells": [
  {
   "cell_type": "code",
   "execution_count": null,
   "metadata": {},
   "outputs": [],
   "source": []
  },
  {
   "cell_type": "code",
   "execution_count": 1,
   "metadata": {},
   "outputs": [],
   "source": [
    "import pymongo"
   ]
  },
  {
   "cell_type": "code",
   "execution_count": 2,
   "metadata": {},
   "outputs": [],
   "source": [
    "client = pymongo.MongoClient(\"mongodb://localhost:27017/\")"
   ]
  },
  {
   "cell_type": "code",
   "execution_count": 3,
   "metadata": {},
   "outputs": [
    {
     "data": {
      "text/plain": [
       "['admin',\n",
       " 'config',\n",
       " 'local',\n",
       " 'movies',\n",
       " 'random_comment',\n",
       " 'sample_01',\n",
       " 'some_comment',\n",
       " 'youtube_db']"
      ]
     },
     "execution_count": 3,
     "metadata": {},
     "output_type": "execute_result"
    }
   ],
   "source": [
    "client.list_database_names()"
   ]
  },
  {
   "cell_type": "code",
   "execution_count": 4,
   "metadata": {},
   "outputs": [],
   "source": [
    "my_collection = client[\"movies\"]['base_data'] # database "
   ]
  },
  {
   "cell_type": "code",
   "execution_count": 5,
   "metadata": {},
   "outputs": [
    {
     "name": "stdout",
     "output_type": "stream",
     "text": [
      "1 {'_id': ObjectId('6443ad5ddddb9a9e407eedfc'), 'budget': 0, 'genres': ['Animation', 'Comedy', 'Family'], 'original_language': 'en', 'original_title': 'Toy Story', 'overview': \"Led by Woody, Andy's toys live happily in his room until Andy's birthday brings Buzz Lightyear onto the scene. Afraid of losing his place in Andy's heart, Woody plots against Buzz. But when circumstances separate Buzz and Woody from their owner, the duo eventually learns to put aside their differences.\", 'release_date': '1995-10-30T00:00:00', 'revenue': 373554033.0, 'runtime': 81.0, 'spoken_languages': ['English'], 'tagline': '0', 'title': 'Toy Story', 'vote_average': 7.7}\n",
      "2 {'_id': ObjectId('6443ad5ddddb9a9e407eedfd'), 'budget': 0, 'genres': ['Adventure', 'Fantasy', 'Family'], 'original_language': 'en', 'original_title': 'Jumanji', 'overview': \"When siblings Judy and Peter discover an enchanted board game that opens the door to a magical world, they unwittingly invite Alan -- an adult who's been trapped inside the game for 26 years -- into their living room. Alan's only hope for freedom is to finish the game, which proves risky as all three find themselves running from giant rhinoceroses, evil monkeys and other terrifying creatures.\", 'release_date': '1995-12-15T00:00:00', 'revenue': 262797249.0, 'runtime': 104.0, 'spoken_languages': ['English', 'Français'], 'tagline': 'Roll the dice and unleash the excitement!', 'title': 'Jumanji', 'vote_average': 6.9}\n",
      "3 {'_id': ObjectId('6443ad5ddddb9a9e407eedfe'), 'budget': 0, 'genres': ['Romance', 'Comedy'], 'original_language': 'en', 'original_title': 'Grumpier Old Men', 'overview': \"A family wedding reignites the ancient feud between next-door neighbors and fishing buddies John and Max. Meanwhile, a sultry Italian divorcée opens a restaurant at the local bait shop, alarming the locals who worry she'll scare the fish away. But she's less interested in seafood than she is in cooking up a hot time with Max.\", 'release_date': '1995-12-22T00:00:00', 'revenue': 0.0, 'runtime': 101.0, 'spoken_languages': ['English'], 'tagline': 'Still Yelling. Still Fighting. Still Ready for Love.', 'title': 'Grumpier Old Men', 'vote_average': 6.5}\n",
      "4 {'_id': ObjectId('6443ad5ddddb9a9e407eedff'), 'budget': 0, 'genres': ['Comedy', 'Drama', 'Romance'], 'original_language': 'en', 'original_title': 'Waiting to Exhale', 'overview': 'Cheated on, mistreated and stepped on, the women are holding their breath, waiting for the elusive \"good man\" to break a string of less-than-stellar lovers. Friends and confidants Vannah, Bernie, Glo and Robin talk it all out, determined to find a better way to breathe.', 'release_date': '1995-12-22T00:00:00', 'revenue': 81452156.0, 'runtime': 127.0, 'spoken_languages': ['English'], 'tagline': 'Friends are the people who let you be yourself... and never let you forget it.', 'title': 'Waiting to Exhale', 'vote_average': 6.1}\n",
      "5 {'_id': ObjectId('6443ad5ddddb9a9e407eee00'), 'budget': 0, 'genres': ['Comedy'], 'original_language': 'en', 'original_title': 'Father of the Bride Part II', 'overview': \"Just when George Banks has recovered from his daughter's wedding, he receives the news that she's pregnant ... and that George's wife, Nina, is expecting too. He was planning on selling their home, but that's a plan that -- like George -- will have to change with the arrival of both a grandchild and a kid of his own.\", 'release_date': '1995-02-10T00:00:00', 'revenue': 76578911.0, 'runtime': 106.0, 'spoken_languages': ['English'], 'tagline': \"Just When His World Is Back To Normal... He's In For The Surprise Of His Life!\", 'title': 'Father of the Bride Part II', 'vote_average': 5.7}\n",
      "6 {'_id': ObjectId('6443ad5ddddb9a9e407eee01'), 'budget': 0, 'genres': ['Action', 'Crime', 'Drama', 'Thriller'], 'original_language': 'en', 'original_title': 'Heat', 'overview': 'Obsessive master thief, Neil McCauley leads a top-notch crew on various insane heists throughout Los Angeles while a mentally unstable detective, Vincent Hanna pursues him without rest. Each man recognizes and respects the ability and the dedication of the other even though they are aware their cat-and-mouse game may end in violence.', 'release_date': '1995-12-15T00:00:00', 'revenue': 187436818.0, 'runtime': 170.0, 'spoken_languages': ['English', 'Español'], 'tagline': 'A Los Angeles Crime Saga', 'title': 'Heat', 'vote_average': 7.7}\n"
     ]
    }
   ],
   "source": [
    "runner = 0\n",
    "for each_dict in my_collection.find({}):\n",
    "    runner += 1\n",
    "    print(runner, each_dict)\n",
    "    if runner > 5:\n",
    "        break"
   ]
  },
  {
   "cell_type": "code",
   "execution_count": 7,
   "metadata": {},
   "outputs": [
    {
     "name": "stdout",
     "output_type": "stream",
     "text": [
      "1 {'genres': ['Animation', 'Comedy', 'Family'], 'original_language': 'en', 'original_title': 'Toy Story', 'release_date': '1995-10-30T00:00:00', 'revenue': 373554033.0, 'runtime': 81.0, 'spoken_languages': ['English'], 'title': 'Toy Story', 'vote_average': 7.7}\n",
      "2 {'genres': ['Adventure', 'Fantasy', 'Family'], 'original_language': 'en', 'original_title': 'Jumanji', 'release_date': '1995-12-15T00:00:00', 'revenue': 262797249.0, 'runtime': 104.0, 'spoken_languages': ['English', 'Français'], 'title': 'Jumanji', 'vote_average': 6.9}\n",
      "3 {'genres': ['Romance', 'Comedy'], 'original_language': 'en', 'original_title': 'Grumpier Old Men', 'release_date': '1995-12-22T00:00:00', 'revenue': 0.0, 'runtime': 101.0, 'spoken_languages': ['English'], 'title': 'Grumpier Old Men', 'vote_average': 6.5}\n",
      "4 {'genres': ['Comedy', 'Drama', 'Romance'], 'original_language': 'en', 'original_title': 'Waiting to Exhale', 'release_date': '1995-12-22T00:00:00', 'revenue': 81452156.0, 'runtime': 127.0, 'spoken_languages': ['English'], 'title': 'Waiting to Exhale', 'vote_average': 6.1}\n",
      "5 {'genres': ['Comedy'], 'original_language': 'en', 'original_title': 'Father of the Bride Part II', 'release_date': '1995-02-10T00:00:00', 'revenue': 76578911.0, 'runtime': 106.0, 'spoken_languages': ['English'], 'title': 'Father of the Bride Part II', 'vote_average': 5.7}\n",
      "6 {'genres': ['Action', 'Crime', 'Drama', 'Thriller'], 'original_language': 'en', 'original_title': 'Heat', 'release_date': '1995-12-15T00:00:00', 'revenue': 187436818.0, 'runtime': 170.0, 'spoken_languages': ['English', 'Español'], 'title': 'Heat', 'vote_average': 7.7}\n"
     ]
    }
   ],
   "source": [
    "runner = 0\n",
    "for each_dict in my_collection.find({}, {\"_id\":0, \"budget\":0, \"overview\":0, \"tagline\":0}):\n",
    "    runner += 1\n",
    "    print(runner, each_dict)\n",
    "    if runner > 5:\n",
    "        break"
   ]
  },
  {
   "cell_type": "code",
   "execution_count": null,
   "metadata": {},
   "outputs": [],
   "source": []
  },
  {
   "cell_type": "code",
   "execution_count": null,
   "metadata": {},
   "outputs": [],
   "source": []
  },
  {
   "cell_type": "code",
   "execution_count": null,
   "metadata": {},
   "outputs": [],
   "source": [
    "# starting basic aggregation \n",
    "# we allpy aggregation on collection (database --> collections --> document --> fields == database --> tables --> rows --> columns)\n",
    "# match, group, sort, project --> output (mix of these stages together are called pipelines)\n",
    "\n",
    "# match == find the exact stuff (match exact values)\n",
    "# group == group stuff base on common values if any \n",
    "# sort == filter them accordingly\n",
    "# project == things to keep and to remove \n",
    "# unwind == make all the elements seperate from a list of elements"
   ]
  },
  {
   "cell_type": "code",
   "execution_count": null,
   "metadata": {},
   "outputs": [],
   "source": []
  },
  {
   "cell_type": "code",
   "execution_count": 8,
   "metadata": {},
   "outputs": [
    {
     "name": "stdout",
     "output_type": "stream",
     "text": [
      "1 A Star Is Born --> 6.3 --> 1937-04-27T00:00:00 ----> ['Drama']\n",
      "Overview >>> Esther Blodgett is just another starry-eyed farm kid trying to break into the movies. Waitressing at a Hollywood party, she catches the eye of alcoholic star Norman Maine, is given a test, and is caught up in the Hollywood glamor machine (ruthlessly satirized). She and her idol Norman marry; but his career abruptly dwindles to nothing\n",
      "\n",
      "2 A Star Is Born --> 7.1 --> 1954-09-29T00:00:00 ----> ['Drama', 'Music', 'Romance']\n",
      "Overview >>> A movie star helps a young singer/actress find fame, even as age and alcoholism send his own career into a downward spiral.\n",
      "\n",
      "3 A Star Is Born --> 5.7 --> 1976-12-16T00:00:00 ----> ['Drama', 'Music', 'Romance']\n",
      "Overview >>> A Star Is Born is a 1976 rock music film telling the story of a young woman, played by Barbra Streisand who enters show business, and meets and falls in love with an established male star, played by Kris Kristofferson, only to find her career ascending while his goes into decline.\n",
      "\n"
     ]
    }
   ],
   "source": [
    "runner = 0 # \n",
    "pipeline = [\n",
    "   {\n",
    "        \"$match\": {\n",
    "            \"title\": \"A Star Is Born\"\n",
    "        }\n",
    "   }, \n",
    "   {\n",
    "      \"$sort\": {\n",
    "            \"year\": pymongo.ASCENDING\n",
    "       }\n",
    "   },\n",
    "]\n",
    "results = my_collection.aggregate(pipeline)\n",
    "\n",
    "for each_dict in results:\n",
    "    runner += 1\n",
    "    print(runner, each_dict['original_title'], \"-->\", each_dict['vote_average'], \"-->\", each_dict['release_date'], \"---->\", each_dict['genres'])\n",
    "    print(\"Overview >>>\", each_dict['overview'])\n",
    "    print()\n",
    "    #print(each_dict)\n",
    "    if runner > 5:\n",
    "        break"
   ]
  },
  {
   "cell_type": "code",
   "execution_count": 9,
   "metadata": {},
   "outputs": [
    {
     "name": "stdout",
     "output_type": "stream",
     "text": [
      "1 American Hostage --> 10.0 --> 2016-03-25T00:00:00 ----> ['Thriller', 'Crime', 'Drama']\n",
      "Overview >>> American Hostage pulls back the curtains on a terrorist plot centered on a group of terrorists holding two American soldiers hostage on U.S. soil. They demand the release of all prisoners of Guantanamo Bay or they will kill the soldiers.\n",
      "\n",
      "2 London Spy --> 8.8 --> 2015-11-09T00:00:00 ----> ['Romance', 'Crime', 'Drama', 'Mystery', 'Thriller']\n",
      "Overview >>> A romance between an MI6 code genius and an ordinary man promises happiness. But tragedy strikes when the spy dies in suspicious circumstances, forcing his lover to pursue the truth behind his death.\n",
      "\n",
      "3 Charlie Chan at the Wax Museum --> 8.4 --> 1940-09-06T00:00:00 ----> ['Crime', 'Mystery', 'Drama', 'Thriller', 'Comedy']\n",
      "Overview >>> A wax museum run by a demented doctor contains statues of such crime figures as Jack the Ripper and Bluebeard. In addition to making wax statues the doctor performs plastic surgery. It is here that an arch fiend takes refuge. The museum also houses a statue of Charlie. Frustrated number-two son kicks statue in rear; oops, number-two son wrong in his assumption\n",
      "\n"
     ]
    }
   ],
   "source": [
    "runner = 0 # \n",
    "pipeline = [\n",
    "   {\n",
    "      \"$match\": {\n",
    "         \"$and\": [{\"genres\" : 'Thriller'}, {'genres' : 'Crime'}, {\"original_language\": 'en'}]  #  \"A Star Is Born\"\n",
    "      }\n",
    "   }, \n",
    "   {\n",
    "      \"$sort\": {\n",
    "         \"vote_average\": pymongo.DESCENDING #ASCENDING\n",
    "      }\n",
    "   },\n",
    "]\n",
    "results = my_collection.aggregate(pipeline)\n",
    "\n",
    "for each_dict in results:\n",
    "    runner += 1\n",
    "    print(runner, each_dict['original_title'], \"-->\", each_dict['vote_average'], \"-->\", each_dict['release_date'], \"---->\", each_dict['genres'])\n",
    "    print(\"Overview >>>\", each_dict['overview'])\n",
    "    print()\n",
    "    #print(each_dict)\n",
    "    if runner > 2:\n",
    "        break"
   ]
  },
  {
   "cell_type": "code",
   "execution_count": null,
   "metadata": {},
   "outputs": [],
   "source": []
  },
  {
   "cell_type": "code",
   "execution_count": null,
   "metadata": {},
   "outputs": [],
   "source": []
  },
  {
   "cell_type": "code",
   "execution_count": 29,
   "metadata": {},
   "outputs": [
    {
     "name": "stdout",
     "output_type": "stream",
     "text": [
      "1 The Farmer's Wife --> 10.0 --> 2012-06-20T00:00:00 ----> ['Drama']\n",
      "Overview >>> As her surroundings are invaded by outsiders, THE FARMER'S WIFE stoically carries out her daily tasks in preparation for what will be her final day on her farm, the only land she has known. Unable to accept this forced future, subconscious memories return that ultimately lead her to connect more to the countryside of her youth than ever before.\n",
      "\n",
      "2 Stuey --> 10.0 --> 2003-05-01T00:00:00 ----> ['Drama', 'Action']\n",
      "Overview >>> Based on the true story of the rise and fall of poker legend Stu \"The Kid\" Ungar.\n",
      "\n",
      "3 Pavement: Slow Century --> 10.0 --> 2002-10-22T00:00:00 ----> ['Documentary']\n",
      "Overview >>> Documentary tracing the existence of noted rock band Pavement from 1989 to their final performance in late 1999. The DVD also compiles all of their music videos, rare live footage, audio commentary from the band and directors, and two live concerts available with multiple angles.\n",
      "\n"
     ]
    }
   ],
   "source": [
    "runner = 0 \n",
    "pipeline = [\n",
    "   {\n",
    "      \"$match\": {\n",
    "         \"release_date\" : {\"$gt\": \"2000-01-01\"}\n",
    "      }\n",
    "   },\n",
    "   {\n",
    "      \"$sort\": {\n",
    "         \"vote_average\": pymongo.DESCENDING #ASCENDING\n",
    "      }\n",
    "   },\n",
    "]\n",
    "results = my_collection.aggregate(pipeline)\n",
    "\n",
    "for each_dict in results:\n",
    "   runner += 1\n",
    "   print(runner, each_dict['original_title'], \"-->\", each_dict['vote_average'], \"-->\", each_dict['release_date'], \"---->\", each_dict['genres'])\n",
    "   print(\"Overview >>>\", each_dict['overview'])\n",
    "   print()\n",
    "   if runner > 2:\n",
    "      break"
   ]
  },
  {
   "cell_type": "code",
   "execution_count": 28,
   "metadata": {},
   "outputs": [
    {
     "name": "stdout",
     "output_type": "stream",
     "text": [
      "1 American Hostage --> 10.0 --> 2016-03-25T00:00:00 ----> ['Thriller', 'Crime', 'Drama']\n",
      "Overview >>> American Hostage pulls back the curtains on a terrorist plot centered on a group of terrorists holding two American soldiers hostage on U.S. soil. They demand the release of all prisoners of Guantanamo Bay or they will kill the soldiers.\n",
      "\n",
      "2 Patient Zero --> 10.0 --> 2023-04-22T00:00:00 ----> ['Action', 'Drama', 'Horror', 'Thriller']\n",
      "Overview >>> After an unprecedented global pandemic has turned the majority of humankind into violent \"Infected,\" a man gifted with the ability to speak the Infected's new language leads the last survivors on a hunt for Patient Zero and a cure.\n",
      "\n",
      "3 Say Nothing --> 9.0 --> 2001-08-01T00:00:00 ----> ['Action', 'Drama', 'Mystery', 'Romance', 'Science Fiction', 'Thriller']\n",
      "Overview >>> Housewife Grace Needham (Nastassja Kinski) has a one-night stand with Julian Grant (William Baldwin), who then becomes obsessed with sinking her marriage to husband Matt (Hart Bochner). The twist here is that Julian is a millionaire global powerbroker, and Matt works for him! It's a titanic battle of testosterone as the guys duke it out while Grace simmers angrily.\n",
      "\n"
     ]
    }
   ],
   "source": [
    "runner = 0 # \n",
    "pipeline = [\n",
    "   {\n",
    "      \"$match\": {\n",
    "         \"release_date\" : {\"$gt\": \"2000-01-01\"},\n",
    "         \"genres\": {\"$in\": ['Thriller']},\n",
    "         \"original_language\": 'en'\n",
    "      }\n",
    "   },\n",
    "   {\n",
    "      \"$sort\": {\n",
    "         \"vote_average\": pymongo.DESCENDING #ASCENDING\n",
    "      }\n",
    "   },\n",
    "]\n",
    "results = my_collection.aggregate(pipeline)\n",
    "\n",
    "for each_dict in results:\n",
    "   #print(each_dict)\n",
    "   runner += 1\n",
    "   print(runner, each_dict['original_title'], \"-->\", each_dict['vote_average'], \"-->\", each_dict['release_date'], \"---->\", each_dict['genres'])\n",
    "   print(\"Overview >>>\", each_dict['overview'])\n",
    "   print()\n",
    "   #print(each_dict)\n",
    "   if runner > 2:\n",
    "      break"
   ]
  },
  {
   "cell_type": "code",
   "execution_count": 53,
   "metadata": {},
   "outputs": [
    {
     "name": "stdout",
     "output_type": "stream",
     "text": [
      "{'_id': 0.0, 'total': 3004}\n",
      "{'_id': 6.0, 'total': 2468}\n",
      "{'_id': 5.0, 'total': 2001}\n",
      "{'_id': 7.0, 'total': 1886}\n",
      "{'_id': 6.5, 'total': 1722}\n"
     ]
    }
   ],
   "source": [
    "runner = 0 \n",
    "pipeline = [\n",
    "   {\n",
    "      \"$group\": {\n",
    "         \"_id\": \"$vote_average\", # some common thing between documents to group on \n",
    "         \"total\": {\"$sum\": 1}\n",
    "      }\n",
    "   },\n",
    "   {\n",
    "      \"$sort\": {\n",
    "         \"total\": pymongo.DESCENDING #ASCENDING\n",
    "      }\n",
    "   },\n",
    "]\n",
    "results = my_collection.aggregate(pipeline)\n",
    "\n",
    "for each_dict in results:\n",
    "   runner += 1\n",
    "   # print(runner, each_dict['original_title'], \"-->\", each_dict['vote_average'], \"-->\", each_dict['release_date'], \"---->\", each_dict['genres'])\n",
    "   # print(\"Overview >>>\", each_dict['overview'])\n",
    "   print(each_dict)\n",
    "   if runner > 4:\n",
    "      break"
   ]
  },
  {
   "cell_type": "code",
   "execution_count": 52,
   "metadata": {},
   "outputs": [
    {
     "name": "stdout",
     "output_type": "stream",
     "text": [
      "{'_id': 10.0, 'total': 97}\n",
      "{'_id': 9.6, 'total': 1}\n",
      "{'_id': 9.5, 'total': 10}\n",
      "{'_id': 9.4, 'total': 3}\n",
      "{'_id': 9.3, 'total': 13}\n"
     ]
    }
   ],
   "source": [
    "runner = 0 \n",
    "pipeline = [\n",
    "   {\n",
    "      \"$match\": {\n",
    "         \"release_date\" : {\"$gt\": \"2000-01-01\"},\n",
    "         #  \"vote_average\": {\"$gte\": 8}\n",
    "      }\n",
    "   },\n",
    "   {\n",
    "      \"$group\": {\n",
    "         \"_id\": \"$vote_average\",\n",
    "         \"total\": {\"$sum\": 1}\n",
    "      }\n",
    "   },\n",
    "   {\n",
    "      \"$sort\": {\n",
    "         \"_id\": pymongo.DESCENDING #ASCENDING\n",
    "      }\n",
    "   },\n",
    "]\n",
    "results = my_collection.aggregate(pipeline)\n",
    "\n",
    "for each_dict in results:\n",
    "   runner += 1\n",
    "   # print(runner, each_dict['original_title'], \"-->\", each_dict['vote_average'], \"-->\", each_dict['release_date'], \"---->\", each_dict['genres'])\n",
    "   # print(\"Overview >>>\", each_dict['overview'])\n",
    "   print(each_dict)\n",
    "   if runner > 4:\n",
    "      break"
   ]
  },
  {
   "cell_type": "code",
   "execution_count": null,
   "metadata": {},
   "outputs": [],
   "source": []
  },
  {
   "cell_type": "code",
   "execution_count": 57,
   "metadata": {},
   "outputs": [
    {
     "name": "stdout",
     "output_type": "stream",
     "text": [
      "{'_id': ['Horror', 'Thriller'], 'total': 363}\n",
      "{'_id': ['Thriller'], 'total': 326}\n",
      "{'_id': ['Drama', 'Thriller'], 'total': 305}\n",
      "{'_id': ['Action', 'Thriller'], 'total': 157}\n",
      "{'_id': ['Thriller', 'Drama'], 'total': 130}\n"
     ]
    }
   ],
   "source": [
    "runner = 0 \n",
    "pipeline = [\n",
    "   {\n",
    "      \"$match\": {\n",
    "         \"release_date\" : {\"$gt\": \"2000-01-01\"},\n",
    "         \"genres\" : {\"$in\": ['Thriller']}\n",
    "      }\n",
    "   },\n",
    "   {\n",
    "      \"$group\": {\n",
    "         \"_id\": \"$genres\",\n",
    "         \"total\": {\"$sum\": 1}\n",
    "      }\n",
    "   },\n",
    "   {\n",
    "      \"$sort\": {\n",
    "         \"total\": pymongo.DESCENDING #ASCENDING\n",
    "      }\n",
    "   },\n",
    "]\n",
    "results = my_collection.aggregate(pipeline)\n",
    "\n",
    "for each_dict in results:\n",
    "   runner += 1\n",
    "   # print(runner, each_dict['original_title'], \"-->\", each_dict['vote_average'], \"-->\", each_dict['release_date'], \"---->\", each_dict['genres'])\n",
    "   # print(\"Overview >>>\", each_dict['overview'])\n",
    "   print(each_dict)\n",
    "   if runner > 4:\n",
    "      break"
   ]
  },
  {
   "cell_type": "code",
   "execution_count": 58,
   "metadata": {},
   "outputs": [
    {
     "name": "stdout",
     "output_type": "stream",
     "text": [
      "{'_id': ['Horror', 'Thriller'], 'total': 363, 'total_rating': 1831.8}\n",
      "{'_id': ['Thriller'], 'total': 326, 'total_rating': 1700.7}\n",
      "{'_id': ['Drama', 'Thriller'], 'total': 305, 'total_rating': 1781.0}\n",
      "{'_id': ['Action', 'Thriller'], 'total': 157, 'total_rating': 841.0}\n",
      "{'_id': ['Thriller', 'Drama'], 'total': 130, 'total_rating': 728.6}\n"
     ]
    }
   ],
   "source": [
    "runner = 0 \n",
    "pipeline = [\n",
    "   {\n",
    "      \"$match\": {\n",
    "         \"release_date\" : {\"$gt\": \"2000-01-01\"},\n",
    "         \"genres\" : {\"$in\": ['Thriller']}\n",
    "      }\n",
    "   },\n",
    "   {\n",
    "      \"$group\": {\n",
    "         \"_id\": \"$genres\",\n",
    "         \"total\": {\"$sum\": 1},\n",
    "         \"total_rating\": {\"$sum\": \"$vote_average\"}\n",
    "      }\n",
    "   },\n",
    "   {\n",
    "      \"$sort\": {\n",
    "         \"total\": pymongo.DESCENDING #ASCENDING\n",
    "      }\n",
    "   },\n",
    "]\n",
    "results = my_collection.aggregate(pipeline)\n",
    "\n",
    "for each_dict in results:\n",
    "   runner += 1\n",
    "   # print(runner, each_dict['original_title'], \"-->\", each_dict['vote_average'], \"-->\", each_dict['release_date'], \"---->\", each_dict['genres'])\n",
    "   # print(\"Overview >>>\", each_dict['overview'])\n",
    "   print(each_dict)\n",
    "   if runner > 4:\n",
    "      break"
   ]
  },
  {
   "cell_type": "code",
   "execution_count": null,
   "metadata": {},
   "outputs": [],
   "source": []
  },
  {
   "cell_type": "code",
   "execution_count": 59,
   "metadata": {},
   "outputs": [
    {
     "name": "stdout",
     "output_type": "stream",
     "text": [
      "{'_id': 'Drama', 'genres_types': 10475}\n",
      "{'_id': 'Comedy', 'genres_types': 6918}\n",
      "{'_id': 'Thriller', 'genres_types': 4537}\n",
      "{'_id': 'Action', 'genres_types': 3341}\n",
      "{'_id': 'Romance', 'genres_types': 3217}\n"
     ]
    }
   ],
   "source": [
    "runner = 0 \n",
    "pipeline = [\n",
    "   {\n",
    "      \"$match\": {\n",
    "         \"release_date\" : {\"$gt\": \"2000-01-01\"},\n",
    "         #\"genres\" : {\"$in\": ['Thriller']}\n",
    "      }\n",
    "   },\n",
    "   {  \"$project\": {       # only shows what is requried\n",
    "         \"_id\": 0, \"genres\": 1 \n",
    "      } },\n",
    "   {  \"$unwind\": \"$genres\" }, # unwind -- make a set of each elements from list\n",
    "\n",
    "   {  \"$group\" : { \n",
    "         \"_id\": \"$genres\", \n",
    "         \"genres_types\": { \"$sum\" : 1 } \n",
    "      }},\n",
    "   {\n",
    "      \"$sort\": {\n",
    "         \"genres_types\": pymongo.DESCENDING \n",
    "      }\n",
    "   },\n",
    "]\n",
    "results = my_collection.aggregate(pipeline)\n",
    "\n",
    "for each_dict in results:\n",
    "   runner += 1\n",
    "   print(each_dict)\n",
    "   if runner > 4:\n",
    "      break"
   ]
  },
  {
   "cell_type": "code",
   "execution_count": null,
   "metadata": {},
   "outputs": [],
   "source": []
  },
  {
   "cell_type": "code",
   "execution_count": 60,
   "metadata": {},
   "outputs": [
    {
     "name": "stdout",
     "output_type": "stream",
     "text": [
      "{'_id': 'Drama', 'genres_types': 20265}\n",
      "{'_id': 'Comedy', 'genres_types': 13182}\n",
      "{'_id': 'Thriller', 'genres_types': 7624}\n",
      "{'_id': 'Romance', 'genres_types': 6735}\n",
      "{'_id': 'Action', 'genres_types': 6596}\n"
     ]
    }
   ],
   "source": [
    "runner = 0 # {\"_id\":0, \"budget\":0, \"overview\":0, \"tagline\":0}\n",
    "pipeline = [\n",
    "   {  \"$project\": {       # only shows what is requried\n",
    "         \"_id\":0, \"budget\":0, \"overview\":0, \"tagline\":0\n",
    "      } },\n",
    "   {  \"$unwind\": \"$genres\" }, # unwind -- make a set of each elements from list\n",
    "  \n",
    "   {  \"$group\" : { \n",
    "         \"_id\": \"$genres\", \n",
    "         \"genres_types\": { \"$sum\" : 1 } \n",
    "      }},\n",
    "   {\n",
    "      \"$sort\": {\n",
    "         \"genres_types\": pymongo.DESCENDING \n",
    "      }\n",
    "   },\n",
    "]\n",
    "results = my_collection.aggregate(pipeline)\n",
    "\n",
    "for each_dict in results:\n",
    "   runner += 1\n",
    "   print(each_dict)\n",
    "   if runner > 4:\n",
    "      break"
   ]
  },
  {
   "cell_type": "code",
   "execution_count": 92,
   "metadata": {},
   "outputs": [
    {
     "name": "stdout",
     "output_type": "stream",
     "text": [
      "{'_id': 'Elaine Stritch: At Liberty', 'vote_avg': 10.0, 'genres_list': ['Comedy', 'TV Movie'], 'date': '2002-01-01T00:00:00'}\n",
      "{'_id': 'The Taming of the Shrew', 'vote_avg': 10.0, 'genres_list': ['Comedy'], 'date': '1980-10-23T00:00:00'}\n",
      "{'_id': \"One Man's Hero\", 'vote_avg': 9.3, 'genres_list': ['Western', 'Action'], 'date': '1999-08-02T00:00:00'}\n",
      "{'_id': 'The Cinema Snob Movie', 'vote_avg': 9.0, 'genres_list': ['Comedy'], 'date': '2012-09-27T00:00:00'}\n",
      "{'_id': 'The Last Bolshevik', 'vote_avg': 9.0, 'genres_list': ['Foreign'], 'date': '1993-03-25T00:00:00'}\n"
     ]
    }
   ],
   "source": [
    "runner = 0 \n",
    "pipeline = [\n",
    "   {\"$match\": {\"release_date\" : {\"$gt\": \"1975-01-01\"},\n",
    "         \"overview\": {\"$exists\": True},\n",
    "         \"runtime\" : {\"$gt\": 120},\n",
    "         \"original_language\" : \"en\"}},\n",
    "   {  \"$unwind\": \"$genres\"    },\n",
    "   {  \"$unwind\": \"$spoken_languages\"  },\n",
    "   {  \"$match\": {\n",
    "         \"spoken_languages\": \"English\",\n",
    "         \"genres\" : {\"$not\": {\"$in\": ['Drama', 'Romance', 'Documentary', 'Music', 'History', '']}},\n",
    "         \"vote_average\": {\"$gte\": 9}}},\n",
    "   {  \"$project\": {\"_id\":0, \"budget\":0, \"overview\":0, \"tagline\":0}},\n",
    "   {  \"$project\": {\"original_language\":0, \"revenue\": 0, \"runtime\": 0, \"spoken_languages\":0, \"original_title\":0}},\n",
    "   {  \"$sort\": {\"vote_average\": pymongo.DESCENDING}},\n",
    "   {  \"$group\": {\"_id\": \"$title\", \n",
    "               \"vote_avg\": {\"$max\": \"$vote_average\"}, \n",
    "               \"genres_list\": {\"$push\": \"$genres\",}, \n",
    "               \"date\": {\"$max\": \"$release_date\",}}},\n",
    "   {  \"$sort\": {\"vote_avg\": pymongo.DESCENDING, \"date\": pymongo.DESCENDING}},\n",
    "]\n",
    "results = my_collection.aggregate(pipeline)\n",
    "\n",
    "for each_dict in results:\n",
    "   runner += 1\n",
    "   print(each_dict)\n",
    "   if runner > 10:\n",
    "      break"
   ]
  },
  {
   "cell_type": "code",
   "execution_count": null,
   "metadata": {},
   "outputs": [],
   "source": []
  },
  {
   "cell_type": "code",
   "execution_count": null,
   "metadata": {},
   "outputs": [],
   "source": []
  },
  {
   "cell_type": "code",
   "execution_count": null,
   "metadata": {},
   "outputs": [],
   "source": []
  },
  {
   "cell_type": "code",
   "execution_count": null,
   "metadata": {},
   "outputs": [],
   "source": []
  }
 ],
 "metadata": {
  "kernelspec": {
   "display_name": "Python 3",
   "language": "python",
   "name": "python3"
  },
  "language_info": {
   "codemirror_mode": {
    "name": "ipython",
    "version": 3
   },
   "file_extension": ".py",
   "mimetype": "text/x-python",
   "name": "python",
   "nbconvert_exporter": "python",
   "pygments_lexer": "ipython3",
   "version": "3.10.6"
  },
  "orig_nbformat": 4
 },
 "nbformat": 4,
 "nbformat_minor": 2
}
