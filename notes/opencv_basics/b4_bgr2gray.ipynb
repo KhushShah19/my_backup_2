{
 "cells": [
  {
   "cell_type": "code",
   "execution_count": 1,
   "metadata": {},
   "outputs": [],
   "source": [
    "import cv2"
   ]
  },
  {
   "cell_type": "code",
   "execution_count": 27,
   "metadata": {},
   "outputs": [],
   "source": [
    "path_vid = 'C:/Users/2me41/Downloads/sample_video_01.mp4'\n",
    "path_img = 'C:/Users/2me41/Pictures/anu_img/anu1.jpg'"
   ]
  },
  {
   "cell_type": "code",
   "execution_count": 28,
   "metadata": {},
   "outputs": [],
   "source": [
    "img_read = cv2.imread(path_img) # to read image\n",
    "gray = cv2.cvtColor(img_read, cv2.COLOR_BGR2GRAY)\n",
    "\n",
    "cv2.imshow('Normal Image', img_read) # to show the read image\n",
    "cv2.imshow('Gray Image', gray)\n",
    "\n",
    "img_wait = cv2.waitKey(0)"
   ]
  },
  {
   "cell_type": "code",
   "execution_count": 33,
   "metadata": {},
   "outputs": [],
   "source": [
    "# None working -- can't change back to normal bgr\n",
    "\n",
    "back2rgb = cv2.cvtColor(gray, cv2.COLOR_GRAY2RGB) \n",
    "back2bgr = cv2.cvtColor(gray, cv2.COLOR_GRAY2BGR) \n",
    "back2bgrA = cv2.cvtColor(gray, cv2.COLOR_GRAY2BGRA)\n",
    "back2rgbA = cv2.cvtColor(gray, cv2.COLOR_GRAY2RGBA)\n",
    "\n",
    "cv2.imshow('back2rgb Image', back2rgb)\n",
    "cv2.imshow('back2bgr Image', back2bgr)\n",
    "cv2.imshow('back2bgrA Image', back2bgrA)\n",
    "cv2.imshow('back2rgbA Image', back2rgbA)\n",
    "\n",
    "\n",
    "img_wait = cv2.waitKey(0)"
   ]
  },
  {
   "cell_type": "code",
   "execution_count": 34,
   "metadata": {},
   "outputs": [],
   "source": [
    "cv2.destroyAllWindows()"
   ]
  },
  {
   "cell_type": "code",
   "execution_count": null,
   "metadata": {},
   "outputs": [],
   "source": []
  },
  {
   "cell_type": "code",
   "execution_count": null,
   "metadata": {},
   "outputs": [],
   "source": []
  }
 ],
 "metadata": {
  "kernelspec": {
   "display_name": "Python 3.10.6 64-bit",
   "language": "python",
   "name": "python3"
  },
  "language_info": {
   "codemirror_mode": {
    "name": "ipython",
    "version": 3
   },
   "file_extension": ".py",
   "mimetype": "text/x-python",
   "name": "python",
   "nbconvert_exporter": "python",
   "pygments_lexer": "ipython3",
   "version": "3.10.6"
  },
  "orig_nbformat": 4,
  "vscode": {
   "interpreter": {
    "hash": "369f2c481f4da34e4445cda3fffd2e751bd1c4d706f27375911949ba6bb62e1c"
   }
  }
 },
 "nbformat": 4,
 "nbformat_minor": 2
}
