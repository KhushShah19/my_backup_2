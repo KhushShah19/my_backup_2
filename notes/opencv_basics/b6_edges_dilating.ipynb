{
 "cells": [
  {
   "cell_type": "code",
   "execution_count": 1,
   "metadata": {},
   "outputs": [],
   "source": [
    "import cv2\n",
    "\n",
    "path_vid = 'C:/Users/2me41/Downloads/sample_video_01.mp4'\n",
    "path_img = 'C:/Users/2me41/Pictures/anu_img/anu1.jpg'"
   ]
  },
  {
   "cell_type": "code",
   "execution_count": 2,
   "metadata": {},
   "outputs": [],
   "source": [
    "img_read = cv2.imread(path_img) # to read image\n",
    "gray = cv2.cvtColor(img_read, cv2.COLOR_BGR2GRAY)\n"
   ]
  },
  {
   "cell_type": "code",
   "execution_count": null,
   "metadata": {},
   "outputs": [],
   "source": [
    "# we are going to edge cascade the image\n",
    "# there are many advance methods to do so \n",
    "# here we are using simple method called canny method\n",
    "# "
   ]
  },
  {
   "cell_type": "code",
   "execution_count": 3,
   "metadata": {},
   "outputs": [],
   "source": [
    "normal_canny = cv2.Canny(img_read, 125, 175)\n",
    "gray_canny = cv2.Canny(gray, 125, 175)\n",
    "\n",
    "cv2.imshow('Normal Image', img_read) # to show the read image\n",
    "cv2.imshow('Gray Image', gray)\n",
    "\n",
    "cv2.imshow('normal_canny Image', normal_canny) \n",
    "cv2.imshow('gray_canny Image', gray_canny) # little less edges\n",
    "\n",
    "img_wait = cv2.waitKey(0)"
   ]
  },
  {
   "cell_type": "code",
   "execution_count": 5,
   "metadata": {},
   "outputs": [],
   "source": [
    "# Dilating the image\n",
    "normal_dilate = cv2.dilate(normal_canny, (3, 3), iterations=1)\n",
    "gray_dilate = cv2.dilate(gray_canny, (3, 3), iterations=1) # more number == more thicker\n",
    "\n",
    "cv2.imshow('normal_dilate Image', normal_dilate) \n",
    "cv2.imshow('gray_dilate Image', gray_dilate) # making edges thicker\n",
    "\n",
    "cv2.imshow('normal_canny Image', normal_canny) \n",
    "cv2.imshow('gray_canny Image', gray_canny) # little less edges\n",
    "\n",
    "img_wait = cv2.waitKey(0)"
   ]
  },
  {
   "cell_type": "code",
   "execution_count": 2,
   "metadata": {},
   "outputs": [],
   "source": [
    "# Eroding (making dilate image back to normal)\n",
    "eroded = cv2.erode(gray_dilate, (3,3), iterations=1)\n",
    "\n",
    "cv2.imshow('gray_dilate Image', gray_dilate)\n",
    "cv2.imshow('eroded Image', eroded)\n",
    "\n",
    "img_wait = cv2.waitKey(0)"
   ]
  },
  {
   "cell_type": "code",
   "execution_count": 4,
   "metadata": {},
   "outputs": [],
   "source": [
    "cv2.destroyAllWindows()"
   ]
  }
 ],
 "metadata": {
  "kernelspec": {
   "display_name": "Python 3.10.6 64-bit",
   "language": "python",
   "name": "python3"
  },
  "language_info": {
   "codemirror_mode": {
    "name": "ipython",
    "version": 3
   },
   "file_extension": ".py",
   "mimetype": "text/x-python",
   "name": "python",
   "nbconvert_exporter": "python",
   "pygments_lexer": "ipython3",
   "version": "3.10.6"
  },
  "orig_nbformat": 4,
  "vscode": {
   "interpreter": {
    "hash": "369f2c481f4da34e4445cda3fffd2e751bd1c4d706f27375911949ba6bb62e1c"
   }
  }
 },
 "nbformat": 4,
 "nbformat_minor": 2
}
