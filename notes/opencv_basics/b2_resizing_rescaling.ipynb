{
 "cells": [
  {
   "cell_type": "code",
   "execution_count": 1,
   "metadata": {},
   "outputs": [],
   "source": [
    "import cv2"
   ]
  },
  {
   "cell_type": "code",
   "execution_count": 13,
   "metadata": {},
   "outputs": [],
   "source": [
    "def rescaleframe(frame, scale):\n",
    "\n",
    "    width = int(frame.shape[1] * scale)\n",
    "    height = int(frame.shape[0] * scale)\n",
    "\n",
    "    dimensions = (width, height) # first width and then height\n",
    "\n",
    "    return cv2.resize(frame, dimensions, interpolation=cv2.INTER_AREA)"
   ]
  },
  {
   "cell_type": "markdown",
   "metadata": {},
   "source": [
    "# for images"
   ]
  },
  {
   "cell_type": "code",
   "execution_count": 2,
   "metadata": {},
   "outputs": [],
   "source": [
    "path_img = 'C:/Users/2me41/Pictures/anu_img/anu1.jpg'\n"
   ]
  },
  {
   "cell_type": "code",
   "execution_count": 14,
   "metadata": {},
   "outputs": [],
   "source": [
    "img_read = cv2.imread(path_img) # to read image\n",
    "resized_img = rescaleframe(img_read, 1.5)\n",
    "\n",
    "img_show = cv2.imshow('Resized Image', resized_img) \n",
    "cv2.imshow(\"normal image\", img_read) # to show the read image\n",
    "\n",
    "img_wait = cv2.waitKey(0)"
   ]
  },
  {
   "cell_type": "code",
   "execution_count": 15,
   "metadata": {},
   "outputs": [],
   "source": [
    "cv2.destroyAllWindows()"
   ]
  },
  {
   "cell_type": "code",
   "execution_count": null,
   "metadata": {},
   "outputs": [],
   "source": []
  },
  {
   "cell_type": "code",
   "execution_count": null,
   "metadata": {},
   "outputs": [],
   "source": [
    "# Resizing the image (already did in b2) in more detail\n",
    "resized = cv2.resize(img_read, (500, 500), interpolation=cv2.INTER_CUBIC)\n",
    "\n",
    "# interpolation=cv2.INTER_ == area for smaller image\n",
    "# cv2.INTER_ == cubic(more clear) and liner for bigger image\n",
    "\n",
    "cv2.imshow('Normal Image', img_read)\n",
    "cv2.imshow('Resized Image', resized)\n",
    "\n",
    "img_wait = cv2.waitKey(0)\n",
    "cv2.destroyAllWindows()"
   ]
  },
  {
   "cell_type": "code",
   "execution_count": null,
   "metadata": {},
   "outputs": [],
   "source": [
    "# Cropping the image\n",
    "cropped = img_read[20:200, 50:300] # treat as array\n",
    "\n",
    "cv2.imshow('Resized Image', resized)\n",
    "cv2.imshow('Cropped Image', cropped)\n",
    "\n",
    "img_wait = cv2.waitKey(0)\n",
    "cv2.destroyAllWindows()"
   ]
  },
  {
   "cell_type": "code",
   "execution_count": null,
   "metadata": {},
   "outputs": [],
   "source": []
  },
  {
   "cell_type": "markdown",
   "metadata": {},
   "source": [
    "# for videos"
   ]
  },
  {
   "cell_type": "code",
   "execution_count": 20,
   "metadata": {},
   "outputs": [],
   "source": [
    "# for videos\n",
    "capture = cv2.VideoCapture('C:/Users/2me41/Downloads/sample_video_01.mp4')\n"
   ]
  },
  {
   "cell_type": "code",
   "execution_count": 21,
   "metadata": {},
   "outputs": [],
   "source": [
    "# works fine\n",
    "while True:\n",
    "    istrue, frame = capture.read() \n",
    "    resize_vid = rescaleframe(frame, 1.5)\n",
    "    # video is read by each frame side by side\n",
    "\n",
    "    cv2.imshow('Video', frame)\n",
    "    cv2.imshow('Resized Video', resize_vid)\n",
    "\n",
    "    if cv2.waitKey(20) & 0xFF==ord('d'): \n",
    "        # press d to stop or get error after video ends (or frame ends)\n",
    "        break\n",
    "\n",
    "capture.release()"
   ]
  },
  {
   "cell_type": "code",
   "execution_count": 22,
   "metadata": {},
   "outputs": [],
   "source": [
    "cv2.destroyAllWindows()"
   ]
  },
  {
   "cell_type": "code",
   "execution_count": null,
   "metadata": {},
   "outputs": [],
   "source": []
  }
 ],
 "metadata": {
  "kernelspec": {
   "display_name": "Python 3.10.6 64-bit",
   "language": "python",
   "name": "python3"
  },
  "language_info": {
   "codemirror_mode": {
    "name": "ipython",
    "version": 3
   },
   "file_extension": ".py",
   "mimetype": "text/x-python",
   "name": "python",
   "nbconvert_exporter": "python",
   "pygments_lexer": "ipython3",
   "version": "3.10.6"
  },
  "orig_nbformat": 4,
  "vscode": {
   "interpreter": {
    "hash": "369f2c481f4da34e4445cda3fffd2e751bd1c4d706f27375911949ba6bb62e1c"
   }
  }
 },
 "nbformat": 4,
 "nbformat_minor": 2
}
