{
 "cells": [
  {
   "cell_type": "code",
   "execution_count": 1,
   "metadata": {},
   "outputs": [],
   "source": [
    "import cv2"
   ]
  },
  {
   "cell_type": "code",
   "execution_count": 2,
   "metadata": {},
   "outputs": [],
   "source": [
    "path_vid = 'C:/Users/2me41/Downloads/sample_video_01.mp4'\n",
    "path_img = 'C:/Users/2me41/Pictures/anu_img/anu1.jpg'"
   ]
  },
  {
   "cell_type": "code",
   "execution_count": 6,
   "metadata": {},
   "outputs": [],
   "source": [
    "img_read = cv2.imread(path_img) # to read image\n",
    "gray = cv2.cvtColor(img_read, cv2.COLOR_BGR2GRAY)\n",
    "\n",
    "cv2.imshow('Normal Image', img_read) # to show the read image\n",
    "cv2.imshow('Gray Image', gray)\n",
    "\n",
    "img_wait = cv2.waitKey(0)"
   ]
  },
  {
   "cell_type": "code",
   "execution_count": null,
   "metadata": {},
   "outputs": [],
   "source": [
    "# we are going to blur the image\n",
    "# there are many advance methods to do so \n",
    "# here we are using simple method called gaussian blur method\n",
    "# "
   ]
  },
  {
   "cell_type": "code",
   "execution_count": null,
   "metadata": {},
   "outputs": [],
   "source": []
  },
  {
   "cell_type": "code",
   "execution_count": 7,
   "metadata": {},
   "outputs": [],
   "source": [
    "normal_blur = cv2.GaussianBlur(img_read, (3, 3), cv2.BORDER_DEFAULT)\n",
    "gray_blur = cv2.GaussianBlur(gray, (7, 7), cv2.BORDER_DEFAULT) # more number == more blur\n",
    "\n",
    "cv2.imshow('Normal Blur Image', normal_blur) # to show the read image\n",
    "cv2.imshow('Gray Blur Image', gray_blur)\n",
    "\n",
    "img_wait = cv2.waitKey(0)"
   ]
  },
  {
   "cell_type": "code",
   "execution_count": 8,
   "metadata": {},
   "outputs": [],
   "source": [
    "cv2.destroyAllWindows()"
   ]
  }
 ],
 "metadata": {
  "kernelspec": {
   "display_name": "Python 3.10.6 64-bit",
   "language": "python",
   "name": "python3"
  },
  "language_info": {
   "codemirror_mode": {
    "name": "ipython",
    "version": 3
   },
   "file_extension": ".py",
   "mimetype": "text/x-python",
   "name": "python",
   "nbconvert_exporter": "python",
   "pygments_lexer": "ipython3",
   "version": "3.10.6"
  },
  "orig_nbformat": 4,
  "vscode": {
   "interpreter": {
    "hash": "369f2c481f4da34e4445cda3fffd2e751bd1c4d706f27375911949ba6bb62e1c"
   }
  }
 },
 "nbformat": 4,
 "nbformat_minor": 2
}
