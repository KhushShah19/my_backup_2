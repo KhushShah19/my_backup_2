{
 "cells": [
  {
   "cell_type": "code",
   "execution_count": 2,
   "metadata": {},
   "outputs": [],
   "source": [
    "import cv2\n",
    "\n",
    "path_vid = 'C:/Users/2me41/Downloads/sample_video_01.mp4'\n",
    "path_img = 'C:/Users/2me41/Pictures/anu_img/anu1.jpg'"
   ]
  },
  {
   "cell_type": "code",
   "execution_count": 3,
   "metadata": {},
   "outputs": [],
   "source": [
    "img_read = cv2.imread(path_img) # to read image\n",
    "gray = cv2.cvtColor(img_read, cv2.COLOR_BGR2GRAY)\n"
   ]
  },
  {
   "cell_type": "code",
   "execution_count": 6,
   "metadata": {},
   "outputs": [],
   "source": [
    "# Resizing the image (already did in b2) in more detail\n",
    "resized = cv2.resize(img_read, (500, 500), interpolation=cv2.INTER_CUBIC)\n",
    "\n",
    "# interpolation=cv2.INTER_ == area for smaller image\n",
    "# cv2.INTER_ == cubic(more clear) and liner for bigger image\n",
    "\n",
    "cv2.imshow('Normal Image', img_read)\n",
    "cv2.imshow('Cropped Image', resized)\n",
    "\n",
    "img_wait = cv2.waitKey(0)\n",
    "cv2.destroyAllWindows()"
   ]
  },
  {
   "cell_type": "code",
   "execution_count": 10,
   "metadata": {},
   "outputs": [],
   "source": [
    "# Cropping the image\n",
    "cropped = img_read[20:200, 50:300] # treat as array\n",
    "\n",
    "cv2.imshow('Resized Image', resized)\n",
    "cv2.imshow('Cropped Image', cropped)\n",
    "\n",
    "img_wait = cv2.waitKey(0)\n",
    "cv2.destroyAllWindows()"
   ]
  },
  {
   "cell_type": "code",
   "execution_count": 4,
   "metadata": {},
   "outputs": [],
   "source": [
    "# Flipping the image\n",
    "flipped = cv2.flip(img_read, -1) # -1 == mirrior + water image\n",
    "# 0 == vertical/ x-axis filp (water image) ## 1 == horizontal/y-axis flip (mirror image)\n",
    "\n",
    "cv2.imshow('Normal Image', img_read)\n",
    "cv2.imshow('flipped Image', flipped)\n",
    "\n",
    "img_wait = cv2.waitKey(0)\n",
    "cv2.destroyAllWindows()"
   ]
  },
  {
   "cell_type": "code",
   "execution_count": null,
   "metadata": {},
   "outputs": [],
   "source": [
    "# there is also rotation and translating of image\n",
    "# in translating we move an image from a side (that moved space is filled with black (blank))"
   ]
  },
  {
   "cell_type": "code",
   "execution_count": 4,
   "metadata": {},
   "outputs": [],
   "source": [
    "cv2.destroyAllWindows()"
   ]
  }
 ],
 "metadata": {
  "kernelspec": {
   "display_name": "Python 3.10.6 64-bit",
   "language": "python",
   "name": "python3"
  },
  "language_info": {
   "codemirror_mode": {
    "name": "ipython",
    "version": 3
   },
   "file_extension": ".py",
   "mimetype": "text/x-python",
   "name": "python",
   "nbconvert_exporter": "python",
   "pygments_lexer": "ipython3",
   "version": "3.10.6"
  },
  "orig_nbformat": 4,
  "vscode": {
   "interpreter": {
    "hash": "369f2c481f4da34e4445cda3fffd2e751bd1c4d706f27375911949ba6bb62e1c"
   }
  }
 },
 "nbformat": 4,
 "nbformat_minor": 2
}
