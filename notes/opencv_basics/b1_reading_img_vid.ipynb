{
 "cells": [
  {
   "cell_type": "code",
   "execution_count": 1,
   "metadata": {},
   "outputs": [],
   "source": [
    "import cv2"
   ]
  },
  {
   "cell_type": "code",
   "execution_count": null,
   "metadata": {},
   "outputs": [],
   "source": [
    "# refered == https://youtu.be/oXlwWbU8l2o\n",
    "# opencv course - full tutorial with python (freecodecamp)"
   ]
  },
  {
   "cell_type": "code",
   "execution_count": 9,
   "metadata": {},
   "outputs": [],
   "source": [
    "def reading_image(image_path):\n",
    "\n",
    "    img_read = cv2.imread(image_path) # to read image\n",
    "\n",
    "    img_show = cv2.imshow('image', img_read) # to show the read image\n",
    "\n",
    "    img_wait = cv2.waitKey(0)\n",
    "\n",
    "    return img_wait\n"
   ]
  },
  {
   "cell_type": "code",
   "execution_count": 13,
   "metadata": {},
   "outputs": [],
   "source": [
    "path_img = 'C:/Users/2me41/Pictures/anu_img/anu1.jpg'\n",
    "# (-215:Assertion failed) cv::imshow erreo == couldn't find the path\n"
   ]
  },
  {
   "cell_type": "code",
   "execution_count": 15,
   "metadata": {},
   "outputs": [],
   "source": [
    "img_read = cv2.imread(path_img) # to read image\n",
    "\n",
    "img_show = cv2.imshow('image', img_read) # to show the read image\n",
    "\n",
    "img_wait = cv2.waitKey(0)"
   ]
  },
  {
   "cell_type": "code",
   "execution_count": 36,
   "metadata": {},
   "outputs": [],
   "source": [
    "cv2.destroyAllWindows()"
   ]
  },
  {
   "cell_type": "code",
   "execution_count": null,
   "metadata": {},
   "outputs": [],
   "source": [
    "img_read = cv2.imread(path_img) # to read image\n",
    "\n",
    "cv2.imshow('image', img_read) # to show the read image\n",
    "\n",
    "cv2.waitKey(0)\n",
    "cv2.destroyAllWindows()"
   ]
  },
  {
   "cell_type": "code",
   "execution_count": null,
   "metadata": {},
   "outputs": [],
   "source": []
  },
  {
   "cell_type": "code",
   "execution_count": null,
   "metadata": {},
   "outputs": [],
   "source": [
    "def reading_video(video_path):\n",
    "    pass"
   ]
  },
  {
   "cell_type": "code",
   "execution_count": 34,
   "metadata": {},
   "outputs": [],
   "source": [
    "capture = cv2.VideoCapture('C:/Users/2me41/Downloads/sample_video_01.mp4')\n",
    "# capture (instance or variable that capture video)\n",
    "# (-215:Assertion failed) cv::imshow erreo == couldn't find the path\n",
    "# to remove error => reRun the path cell"
   ]
  },
  {
   "cell_type": "code",
   "execution_count": 35,
   "metadata": {},
   "outputs": [],
   "source": [
    "# working\n",
    "\n",
    "while True:\n",
    "    istrue, frame = capture.read() \n",
    "    # video is read by each frame side by side\n",
    "\n",
    "    cv2.imshow('Video', frame)\n",
    "\n",
    "    if cv2.waitKey(20) & 0xFF==ord('d'): \n",
    "        # press d to stop or get error after video ends (or frame ends)\n",
    "        break\n",
    "\n",
    "capture.release()"
   ]
  },
  {
   "cell_type": "code",
   "execution_count": null,
   "metadata": {},
   "outputs": [],
   "source": [
    "cv2.destroyAllWindows()"
   ]
  },
  {
   "cell_type": "code",
   "execution_count": null,
   "metadata": {},
   "outputs": [],
   "source": []
  }
 ],
 "metadata": {
  "kernelspec": {
   "display_name": "Python 3.10.6 64-bit",
   "language": "python",
   "name": "python3"
  },
  "language_info": {
   "codemirror_mode": {
    "name": "ipython",
    "version": 3
   },
   "file_extension": ".py",
   "mimetype": "text/x-python",
   "name": "python",
   "nbconvert_exporter": "python",
   "pygments_lexer": "ipython3",
   "version": "3.10.6"
  },
  "orig_nbformat": 4,
  "vscode": {
   "interpreter": {
    "hash": "369f2c481f4da34e4445cda3fffd2e751bd1c4d706f27375911949ba6bb62e1c"
   }
  }
 },
 "nbformat": 4,
 "nbformat_minor": 2
}
