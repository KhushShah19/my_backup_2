{
 "cells": [
  {
   "cell_type": "code",
   "execution_count": 2,
   "metadata": {},
   "outputs": [],
   "source": [
    "import numpy as np"
   ]
  },
  {
   "cell_type": "code",
   "execution_count": 3,
   "metadata": {},
   "outputs": [],
   "source": [
    "inputs = [[1.0, 2.0, 3.1 , 2.3],  # these are called Batch(es)\n",
    "          [1.1, 2.2, 3.2 , 2.5],\n",
    "          [1.3, 2.3, 3.4 , 2.6]]\n",
    "\n",
    "weights = [[0.2, 0.8, -0.5, 1.0], \n",
    "           [0.1, 0.7, -0.4, 1.1], \n",
    "           [0.4, 1.0, -0.7, 1.3]]\n",
    "\n",
    "biases = [2, 2.5, 1.2]"
   ]
  },
  {
   "cell_type": "code",
   "execution_count": 4,
   "metadata": {},
   "outputs": [
    {
     "name": "stdout",
     "output_type": "stream",
     "text": [
      "(3, 4)\n",
      "(3, 4)\n",
      "4\n"
     ]
    }
   ],
   "source": [
    "print(np.shape(inputs))\n",
    "print(np.shape(weights))\n",
    "print(np.shape(weights)[1])"
   ]
  },
  {
   "cell_type": "code",
   "execution_count": 5,
   "metadata": {},
   "outputs": [
    {
     "name": "stdout",
     "output_type": "stream",
     "text": [
      "[[ 0.2  0.1  0.4]\n",
      " [ 0.8  0.7  1. ]\n",
      " [-0.5 -0.4 -0.7]\n",
      " [ 1.   1.1  1.3]]\n",
      "(4, 3)\n"
     ]
    }
   ],
   "source": [
    "print(np.array(weights).T)\n",
    "print(np.shape(np.array(weights).T))"
   ]
  },
  {
   "cell_type": "code",
   "execution_count": 6,
   "metadata": {},
   "outputs": [
    {
     "name": "stdout",
     "output_type": "stream",
     "text": [
      "[[4.55 5.29 4.42]\n",
      " [4.88 5.62 4.85]\n",
      " [5.   5.74 5.02]]\n"
     ]
    }
   ],
   "source": [
    "output = np.dot(inputs, np.array(weights).T) + biases\n",
    "print(output) # (3, 4).(4, 3) = (3, 3)"
   ]
  },
  {
   "cell_type": "code",
   "execution_count": null,
   "metadata": {},
   "outputs": [],
   "source": []
  },
  {
   "cell_type": "markdown",
   "metadata": {},
   "source": [
    "Making multi layer output"
   ]
  },
  {
   "cell_type": "code",
   "execution_count": 7,
   "metadata": {},
   "outputs": [],
   "source": [
    "np.random.seed(0)"
   ]
  },
  {
   "cell_type": "code",
   "execution_count": 8,
   "metadata": {},
   "outputs": [],
   "source": [
    "class Layer_Denser:\n",
    "    def __init__(self, n_inputs, n_neurons):\n",
    "        self.weight = 0.1 * np.random.randn(n_inputs, n_neurons)\n",
    "        self.biases = np.zeros((1, n_neurons))\n",
    "\n",
    "    def forware(self, inputs):\n",
    "        self.output = np.dot(inputs, self.weight) + self.biases\n",
    "        # no need of return"
   ]
  },
  {
   "cell_type": "code",
   "execution_count": 9,
   "metadata": {},
   "outputs": [],
   "source": [
    "layer1 = Layer_Denser(4, 2) # init class\n",
    "layer2 = Layer_Denser(2, 5) # layer1[output] = layer2[input]\n"
   ]
  },
  {
   "cell_type": "code",
   "execution_count": 10,
   "metadata": {},
   "outputs": [
    {
     "name": "stdout",
     "output_type": "stream",
     "text": [
      "[[1.16961614 0.15042606]\n",
      " [1.24450878 0.18644557]\n",
      " [1.33642925 0.19579852]]\n"
     ]
    }
   ],
   "source": [
    "layer1.forware(inputs)\n",
    "print(layer1.output) # (3, 4).(4, 2) = (3, 2)"
   ]
  },
  {
   "cell_type": "code",
   "execution_count": 11,
   "metadata": {},
   "outputs": [
    {
     "name": "stdout",
     "output_type": "stream",
     "text": [
      "[[-0.01024233  0.05470112  0.0218669   0.19256902  0.08592609]\n",
      " [-0.0105771   0.05937498  0.02414756  0.20884206  0.09088673]\n",
      " [-0.01141209  0.06356436  0.0257837   0.22360721  0.09769034]]\n"
     ]
    }
   ],
   "source": [
    "layer2.forware(layer1.output)\n",
    "print(layer2.output) # (3, 5)"
   ]
  },
  {
   "cell_type": "code",
   "execution_count": 12,
   "metadata": {},
   "outputs": [
    {
     "name": "stdout",
     "output_type": "stream",
     "text": [
      "[[ 0.03170609 -0.0267877 ]\n",
      " [ 0.0344158  -0.02908243]\n",
      " [ 0.03684401 -0.03113346]]\n"
     ]
    }
   ],
   "source": [
    "layer3 = Layer_Denser(5, 2) # init class\n",
    "layer3.forware(layer2.output)\n",
    "print(layer3.output) # (3, 2)"
   ]
  }
 ],
 "metadata": {
  "kernelspec": {
   "display_name": "Python 3.10.6 64-bit",
   "language": "python",
   "name": "python3"
  },
  "language_info": {
   "codemirror_mode": {
    "name": "ipython",
    "version": 3
   },
   "file_extension": ".py",
   "mimetype": "text/x-python",
   "name": "python",
   "nbconvert_exporter": "python",
   "pygments_lexer": "ipython3",
   "version": "3.10.6"
  },
  "orig_nbformat": 4,
  "vscode": {
   "interpreter": {
    "hash": "369f2c481f4da34e4445cda3fffd2e751bd1c4d706f27375911949ba6bb62e1c"
   }
  }
 },
 "nbformat": 4,
 "nbformat_minor": 2
}
