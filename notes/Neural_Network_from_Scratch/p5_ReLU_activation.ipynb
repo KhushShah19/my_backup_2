{
 "cells": [
  {
   "cell_type": "code",
   "execution_count": 3,
   "metadata": {},
   "outputs": [],
   "source": [
    "tryout1 = [1, -2, 3 , -4, 5, -6, -7]"
   ]
  },
  {
   "cell_type": "code",
   "execution_count": 8,
   "metadata": {},
   "outputs": [
    {
     "name": "stdout",
     "output_type": "stream",
     "text": [
      "[1, 0, 3, 0, 5, 0, 0]\n"
     ]
    }
   ],
   "source": [
    "output_try1 = []\n",
    "for j in tryout1:\n",
    "    if j > 0:\n",
    "        output_try1.append(j)\n",
    "    elif j <= 0:\n",
    "        output_try1.append(0)\n",
    "\n",
    "print(output_try1)"
   ]
  },
  {
   "cell_type": "code",
   "execution_count": 7,
   "metadata": {},
   "outputs": [
    {
     "name": "stdout",
     "output_type": "stream",
     "text": [
      "[1, 0, 3, 0, 5, 0, 0]\n"
     ]
    }
   ],
   "source": [
    "output_try1 = []\n",
    "for i in tryout1: # Activation Function ReLU\n",
    "    output_try1.append(max(0, i)) # Rectifier Linear Unit\n",
    "\n",
    "print(output_try1)"
   ]
  },
  {
   "cell_type": "code",
   "execution_count": null,
   "metadata": {},
   "outputs": [],
   "source": []
  },
  {
   "cell_type": "code",
   "execution_count": 13,
   "metadata": {},
   "outputs": [],
   "source": [
    "import numpy as np\n",
    "np.random.seed(0)"
   ]
  },
  {
   "cell_type": "code",
   "execution_count": 9,
   "metadata": {},
   "outputs": [],
   "source": [
    "X = [[1.0, 2.0, 3.1 , 2.3],  # inputs/feature set\n",
    "     [1.1, 2.2, 3.2 , 2.5],\n",
    "     [1.3, 2.3, 3.4 , 2.6]]\n",
    "\n",
    "weights = [[0.2, 0.8, -0.5, 1.0], \n",
    "           [0.1, 0.7, -0.4, 1.1], \n",
    "           [0.4, 1.0, -0.7, 1.3]]\n",
    "\n",
    "biases = [2, 2.5, 1.2]"
   ]
  },
  {
   "cell_type": "code",
   "execution_count": 14,
   "metadata": {},
   "outputs": [],
   "source": [
    "class Layer_Denser:\n",
    "    def __init__(self, n_inputs, n_neurons):\n",
    "        self.weight = 0.1 * np.random.randn(n_inputs, n_neurons)\n",
    "        self.biases = np.zeros((1, n_neurons))\n",
    "\n",
    "    def forware(self, inputs):\n",
    "        self.output = np.dot(inputs, self.weight) + self.biases\n",
    "        # no need of return"
   ]
  },
  {
   "cell_type": "code",
   "execution_count": 22,
   "metadata": {},
   "outputs": [],
   "source": [
    "class Activation_ReLU:\n",
    "    def forward(self, inputs):\n",
    "        self.output = np.maximum(0, inputs)"
   ]
  },
  {
   "cell_type": "code",
   "execution_count": 17,
   "metadata": {},
   "outputs": [
    {
     "name": "stdout",
     "output_type": "stream",
     "text": [
      "[[ 2.54875561e-02 -3.32654227e-02  7.67333084e-03  4.49973505e-05]\n",
      " [ 2.71653809e-02 -3.55988821e-02  7.64804028e-03 -7.19300128e-04]\n",
      " [ 2.86212605e-02 -3.75362137e-02  7.94907356e-03 -9.15302301e-04]]\n"
     ]
    }
   ],
   "source": [
    "layer1 = Layer_Denser(4, 2) # init class\n",
    "layer1.forware(X)\n",
    "\n",
    "layer2 = Layer_Denser(2, 5)\n",
    "layer2.forware(layer1.output)\n",
    "\n",
    "layer3 = Layer_Denser(5, 4) # init class\n",
    "layer3.forware(layer2.output) # many negative values\n",
    "print(layer3.output) # (3, 4) "
   ]
  },
  {
   "cell_type": "code",
   "execution_count": 23,
   "metadata": {},
   "outputs": [
    {
     "name": "stdout",
     "output_type": "stream",
     "text": [
      "[[2.54875561e-02 0.00000000e+00 7.67333084e-03 4.49973505e-05]\n",
      " [2.71653809e-02 0.00000000e+00 7.64804028e-03 0.00000000e+00]\n",
      " [2.86212605e-02 0.00000000e+00 7.94907356e-03 0.00000000e+00]]\n"
     ]
    }
   ],
   "source": [
    "active1 = Activation_ReLU() # init class\n",
    "active1.forward(layer3.output)\n",
    "print(active1.output)\n",
    "# negative values => zeros now"
   ]
  },
  {
   "cell_type": "code",
   "execution_count": null,
   "metadata": {},
   "outputs": [],
   "source": []
  },
  {
   "cell_type": "code",
   "execution_count": null,
   "metadata": {},
   "outputs": [],
   "source": []
  }
 ],
 "metadata": {
  "kernelspec": {
   "display_name": "Python 3.10.6 64-bit",
   "language": "python",
   "name": "python3"
  },
  "language_info": {
   "codemirror_mode": {
    "name": "ipython",
    "version": 3
   },
   "file_extension": ".py",
   "mimetype": "text/x-python",
   "name": "python",
   "nbconvert_exporter": "python",
   "pygments_lexer": "ipython3",
   "version": "3.10.6"
  },
  "orig_nbformat": 4,
  "vscode": {
   "interpreter": {
    "hash": "369f2c481f4da34e4445cda3fffd2e751bd1c4d706f27375911949ba6bb62e1c"
   }
  }
 },
 "nbformat": 4,
 "nbformat_minor": 2
}
