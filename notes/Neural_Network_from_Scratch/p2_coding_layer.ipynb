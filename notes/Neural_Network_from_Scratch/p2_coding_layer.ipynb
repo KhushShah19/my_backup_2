{
 "cells": [
  {
   "cell_type": "code",
   "execution_count": 13,
   "metadata": {},
   "outputs": [],
   "source": [
    "# NO imports"
   ]
  },
  {
   "cell_type": "code",
   "execution_count": 14,
   "metadata": {},
   "outputs": [],
   "source": [
    "ip = [1, 2, 3 , 2.5]"
   ]
  },
  {
   "cell_type": "code",
   "execution_count": 24,
   "metadata": {},
   "outputs": [],
   "source": [
    "w1 = [0.2, 0.8, -0.5, 1.0] # num of inputs[values] == num of weights[values] \n",
    "w2 = [0.1, 0.7, -0.4, 1.1]\n",
    "w3 = [0.4, 1.0, -0.7, 1.3]"
   ]
  },
  {
   "cell_type": "code",
   "execution_count": 25,
   "metadata": {},
   "outputs": [],
   "source": [
    "bias1 = 2  # num of bias = num of weights\n",
    "bias2 = 2.5\n",
    "bias3 = 1.2 # bias == inner neuron"
   ]
  },
  {
   "cell_type": "code",
   "execution_count": 26,
   "metadata": {},
   "outputs": [
    {
     "data": {
      "text/plain": [
       "[4.8, 5.55, 4.75]"
      ]
     },
     "execution_count": 26,
     "metadata": {},
     "output_type": "execute_result"
    }
   ],
   "source": [
    "op_bias1 = ip[0]*w1[0] + ip[1]*w1[1] + ip[2]*w1[2] + ip[3]*w1[3] + bias1\n",
    "op_bias2 = ip[0]*w2[0] + ip[1]*w2[1] + ip[2]*w2[2] + ip[3]*w2[3] + bias2\n",
    "op_bias3 = ip[0]*w3[0] + ip[1]*w3[1] + ip[2]*w3[2] + ip[3]*w3[3] + bias3\n",
    "\n",
    "final_output = [op_bias1, op_bias2, op_bias3] # num(bias) = num(outputs)\n",
    "final_output"
   ]
  },
  {
   "cell_type": "code",
   "execution_count": 27,
   "metadata": {},
   "outputs": [
    {
     "data": {
      "text/plain": [
       "[4.8, 5.55, 4.75]"
      ]
     },
     "execution_count": 27,
     "metadata": {},
     "output_type": "execute_result"
    }
   ],
   "source": [
    "output = [ip[0]*w1[0] + ip[1]*w1[1] + ip[2]*w1[2] + ip[3]*w1[3] + bias1,\n",
    "          ip[0]*w2[0] + ip[1]*w2[1] + ip[2]*w2[2] + ip[3]*w2[3] + bias2, \n",
    "          ip[0]*w3[0] + ip[1]*w3[1] + ip[2]*w3[2] + ip[3]*w3[3] + bias3]\n",
    "\n",
    "output"
   ]
  }
 ],
 "metadata": {
  "kernelspec": {
   "display_name": "Python 3.10.6 64-bit",
   "language": "python",
   "name": "python3"
  },
  "language_info": {
   "codemirror_mode": {
    "name": "ipython",
    "version": 3
   },
   "file_extension": ".py",
   "mimetype": "text/x-python",
   "name": "python",
   "nbconvert_exporter": "python",
   "pygments_lexer": "ipython3",
   "version": "3.10.6"
  },
  "orig_nbformat": 4,
  "vscode": {
   "interpreter": {
    "hash": "369f2c481f4da34e4445cda3fffd2e751bd1c4d706f27375911949ba6bb62e1c"
   }
  }
 },
 "nbformat": 4,
 "nbformat_minor": 2
}
