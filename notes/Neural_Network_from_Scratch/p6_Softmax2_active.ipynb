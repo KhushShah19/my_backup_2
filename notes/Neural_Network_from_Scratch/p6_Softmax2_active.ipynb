{
 "cells": [
  {
   "cell_type": "code",
   "execution_count": 1,
   "metadata": {},
   "outputs": [],
   "source": [
    "import numpy as np\n",
    "np.random.seed(0)"
   ]
  },
  {
   "cell_type": "code",
   "execution_count": 2,
   "metadata": {},
   "outputs": [],
   "source": [
    "X = [[1.0, 2.0, 3.1 , 2.3],  # inputs/feature set\n",
    "     [1.1, 2.2, 3.2 , 2.5],\n",
    "     [1.3, 2.3, 3.4 , 2.6]]\n",
    "\n",
    "weights = [[0.2, 0.8, -0.5, 1.0], \n",
    "           [0.1, 0.7, -0.4, 1.1], \n",
    "           [0.4, 1.0, -0.7, 1.3]]\n",
    "\n",
    "biases = [2, 2.5, 1.2]"
   ]
  },
  {
   "cell_type": "code",
   "execution_count": 7,
   "metadata": {},
   "outputs": [],
   "source": [
    "class Layer_Denser:\n",
    "    def __init__(self, n_inputs, n_neurons):\n",
    "        self.weight = 0.1 * np.random.randn(n_inputs, n_neurons)\n",
    "        self.biases = np.zeros((1, n_neurons))\n",
    "\n",
    "    def forward(self, inputs):\n",
    "        self.output = np.dot(inputs, self.weight) + self.biases\n",
    "        # no need of return"
   ]
  },
  {
   "cell_type": "code",
   "execution_count": 4,
   "metadata": {},
   "outputs": [],
   "source": [
    "class Activation_ReLU:\n",
    "    def forward(self, inputs):\n",
    "        self.output = np.maximum(0, inputs)"
   ]
  },
  {
   "cell_type": "code",
   "execution_count": 5,
   "metadata": {},
   "outputs": [],
   "source": [
    "class Softmax_activation:\n",
    "    def forward(self, inputs):\n",
    "        expo_val = np.exp(inputs - np.max(inputs))\n",
    "        # norm_base = np.sum(expo_values, axis=1, keepdims=True)\n",
    "        proba = expo_val/np.sum(expo_val, axis=1, keepdims=True)\n",
    "        self.output = proba # probabilities"
   ]
  },
  {
   "cell_type": "code",
   "execution_count": null,
   "metadata": {},
   "outputs": [],
   "source": []
  },
  {
   "cell_type": "code",
   "execution_count": 8,
   "metadata": {},
   "outputs": [],
   "source": [
    "dense1 = Layer_Denser(4, 2)\n",
    "dense1.forward(X)\n",
    "\n",
    "activ1 = Activation_ReLU()\n",
    "activ1.forward(dense1.output)"
   ]
  },
  {
   "cell_type": "code",
   "execution_count": 13,
   "metadata": {},
   "outputs": [],
   "source": [
    "dense2 = Layer_Denser(2, 3)\n",
    "dense2.forward(activ1.output)\n",
    "\n",
    "activ2 = Softmax_activation()\n",
    "activ2.forward(dense2.output)"
   ]
  },
  {
   "cell_type": "code",
   "execution_count": 14,
   "metadata": {},
   "outputs": [
    {
     "name": "stdout",
     "output_type": "stream",
     "text": [
      "[[0.32497341 0.32790251 0.34712408]\n",
      " [0.32412076 0.32783057 0.34804867]\n",
      " [0.3235638  0.32758903 0.34884717]]\n"
     ]
    }
   ],
   "source": [
    "print(activ2.output) # nearly equal probabilities\n",
    "# the more they run, the more accurate they will get"
   ]
  }
 ],
 "metadata": {
  "kernelspec": {
   "display_name": "Python 3.10.6 64-bit",
   "language": "python",
   "name": "python3"
  },
  "language_info": {
   "codemirror_mode": {
    "name": "ipython",
    "version": 3
   },
   "file_extension": ".py",
   "mimetype": "text/x-python",
   "name": "python",
   "nbconvert_exporter": "python",
   "pygments_lexer": "ipython3",
   "version": "3.10.6"
  },
  "orig_nbformat": 4,
  "vscode": {
   "interpreter": {
    "hash": "369f2c481f4da34e4445cda3fffd2e751bd1c4d706f27375911949ba6bb62e1c"
   }
  }
 },
 "nbformat": 4,
 "nbformat_minor": 2
}
