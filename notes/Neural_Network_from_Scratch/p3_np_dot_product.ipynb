{
 "cells": [
  {
   "cell_type": "code",
   "execution_count": 12,
   "metadata": {},
   "outputs": [],
   "source": [
    "# NO imports\n",
    "\n",
    "ip = [1, 2, 3 , 2.5]\n",
    "\n",
    "w1 = [0.2, 0.8, -0.5, 1.0] # num of inputs[values] == num of weights[values] \n",
    "w2 = [0.1, 0.7, -0.4, 1.1]\n",
    "w3 = [0.4, 1.0, -0.7, 1.3]\n",
    "\n",
    "bias1 = 2  # num of bias = num of weights\n",
    "bias2 = 2.5\n",
    "bias3 = 1.2 # bias == inner neuron"
   ]
  },
  {
   "cell_type": "code",
   "execution_count": 13,
   "metadata": {},
   "outputs": [],
   "source": [
    "inputs = [1, 2, 3 , 2.5]"
   ]
  },
  {
   "cell_type": "code",
   "execution_count": 14,
   "metadata": {},
   "outputs": [],
   "source": [
    "weights = [[0.2, 0.8, -0.5, 1.0], \n",
    "           [0.1, 0.7, -0.4, 1.1], \n",
    "           [0.4, 1.0, -0.7, 1.3]]\n"
   ]
  },
  {
   "cell_type": "code",
   "execution_count": 15,
   "metadata": {},
   "outputs": [],
   "source": [
    "biases = [2, 2.5, 1.2]"
   ]
  },
  {
   "cell_type": "code",
   "execution_count": 16,
   "metadata": {},
   "outputs": [
    {
     "name": "stdout",
     "output_type": "stream",
     "text": [
      "1 2\n",
      "3 [4]\n",
      "5 [6, 6]\n",
      "7 [8, 8, 8]\n"
     ]
    }
   ],
   "source": [
    "even = [2, [4], [6, 6], [8, 8, 8]]\n",
    "odd = [1, 3, 5, 7]\n",
    "for i, j in zip(odd, even):\n",
    "    print(i, j) # match index wise"
   ]
  },
  {
   "cell_type": "code",
   "execution_count": 17,
   "metadata": {},
   "outputs": [
    {
     "name": "stdout",
     "output_type": "stream",
     "text": [
      "[4.8, 5.55, 4.75]\n"
     ]
    }
   ],
   "source": [
    "\n",
    "layer_output = [] # output of current layer\n",
    "for neuron_weights, neuron_bias in zip(weights, biases):\n",
    "    neuron_output = 0 # output of given neuron\n",
    "\n",
    "    for n_inputs, nth_weight in zip(inputs, neuron_weights):\n",
    "        neuron_output += n_inputs*nth_weight\n",
    "\n",
    "    neuron_output += neuron_bias\n",
    "    layer_output.append(neuron_output)\n",
    "\n",
    "print(layer_output)"
   ]
  },
  {
   "cell_type": "code",
   "execution_count": null,
   "metadata": {},
   "outputs": [],
   "source": []
  },
  {
   "cell_type": "markdown",
   "metadata": {},
   "source": [
    "Numpy for making loops much more faster"
   ]
  },
  {
   "cell_type": "code",
   "execution_count": 18,
   "metadata": {},
   "outputs": [],
   "source": [
    "import numpy as np"
   ]
  },
  {
   "cell_type": "code",
   "execution_count": 20,
   "metadata": {},
   "outputs": [
    {
     "name": "stdout",
     "output_type": "stream",
     "text": [
      "100\n"
     ]
    }
   ],
   "source": [
    "odd = [1, 3, 5, 7]\n",
    "even = [2, 4, 6, 8] \n",
    "\n",
    "print(np.dot(odd, even)) # dop product = odd.even\n",
    "# (1*2) + (3*4) + (5*6) + (7*8) = 2 + 12 + 30 + 56 = 100"
   ]
  },
  {
   "cell_type": "code",
   "execution_count": 21,
   "metadata": {},
   "outputs": [
    {
     "name": "stdout",
     "output_type": "stream",
     "text": [
      "[4.8  5.55 4.75]\n"
     ]
    }
   ],
   "source": [
    "np_output = np.dot(weights, inputs) + biases\n",
    "# dot product ( matix(2d array) , vector(1d array) )\n",
    "# (a, b).(b, c) = (a, c) ==> shape matters\n",
    "print(np_output)"
   ]
  },
  {
   "cell_type": "code",
   "execution_count": null,
   "metadata": {},
   "outputs": [],
   "source": []
  },
  {
   "cell_type": "code",
   "execution_count": null,
   "metadata": {},
   "outputs": [],
   "source": []
  },
  {
   "cell_type": "code",
   "execution_count": null,
   "metadata": {},
   "outputs": [],
   "source": []
  }
 ],
 "metadata": {
  "kernelspec": {
   "display_name": "Python 3.10.6 64-bit",
   "language": "python",
   "name": "python3"
  },
  "language_info": {
   "codemirror_mode": {
    "name": "ipython",
    "version": 3
   },
   "file_extension": ".py",
   "mimetype": "text/x-python",
   "name": "python",
   "nbconvert_exporter": "python",
   "pygments_lexer": "ipython3",
   "version": "3.10.6"
  },
  "orig_nbformat": 4,
  "vscode": {
   "interpreter": {
    "hash": "369f2c481f4da34e4445cda3fffd2e751bd1c4d706f27375911949ba6bb62e1c"
   }
  }
 },
 "nbformat": 4,
 "nbformat_minor": 2
}
