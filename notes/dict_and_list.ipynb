{
 "cells": [
  {
   "cell_type": "code",
   "execution_count": 1,
   "metadata": {},
   "outputs": [],
   "source": [
    "traget = {\n",
    "    'skills_1': {'title': 'Natural Foods & Products'}, \n",
    "    'skills_2': {'title': 'New Business Development', 'sub_title': ['Endorsed by 2 colleagues at iLevel Brands']}, \n",
    "    'skills_3': {'title': 'Brand Management'}\n",
    "}"
   ]
  },
  {
   "cell_type": "code",
   "execution_count": 7,
   "metadata": {},
   "outputs": [],
   "source": [
    "list_title = {'Natural Foods & Products':4444, 'New Business Development':333, 'Brand Management':22}"
   ]
  },
  {
   "cell_type": "code",
   "execution_count": 9,
   "metadata": {},
   "outputs": [
    {
     "name": "stdout",
     "output_type": "stream",
     "text": [
      "{'Natural Foods & Products': 4444, 'New Business Development': 333, 'Brand Management': 22}\n"
     ]
    }
   ],
   "source": [
    "new_target = {}\n",
    "new_target.update(list_title)\n",
    "print(new_target)"
   ]
  },
  {
   "cell_type": "code",
   "execution_count": 11,
   "metadata": {},
   "outputs": [
    {
     "data": {
      "text/plain": [
       "{'Natural Foods & Products': 4444,\n",
       " 'New Business Development': 333,\n",
       " 'Brand Management': 22,\n",
       " 'skills_1': {'title': 'Natural Foods & Products'},\n",
       " 'skills_2': {'title': 'New Business Development',\n",
       "  'sub_title': ['Endorsed by 2 colleagues at iLevel Brands']},\n",
       " 'skills_3': {'title': 'Brand Management'}}"
      ]
     },
     "execution_count": 11,
     "metadata": {},
     "output_type": "execute_result"
    }
   ],
   "source": [
    "new_target.update(traget)\n",
    "new_target"
   ]
  },
  {
   "cell_type": "code",
   "execution_count": 15,
   "metadata": {},
   "outputs": [
    {
     "data": {
      "text/plain": [
       "[{'title': 'Natural Foods & Products'}]"
      ]
     },
     "execution_count": 15,
     "metadata": {},
     "output_type": "execute_result"
    }
   ],
   "source": [
    "list_1 = []\n",
    "list_1.append({'title': 'Natural Foods & Products'})\n",
    "list_1"
   ]
  },
  {
   "cell_type": "code",
   "execution_count": 17,
   "metadata": {},
   "outputs": [],
   "source": [
    "inner_dict = [\n",
    "    {'title': 'Natural Foods & Products'}, \n",
    "    {'title': 'New Business Development','sub_title': ['Endorsed by 2 colleagues at iLevel Brands']},\n",
    "    {'title': 'Brand Management'}]"
   ]
  },
  {
   "cell_type": "code",
   "execution_count": 18,
   "metadata": {},
   "outputs": [
    {
     "data": {
      "text/plain": [
       "[{'title': 'Natural Foods & Products'}]"
      ]
     },
     "execution_count": 18,
     "metadata": {},
     "output_type": "execute_result"
    }
   ],
   "source": [
    "making_inner_dict = []\n",
    "making_inner_dict.append({'title': 'Natural Foods & Products'})\n",
    "making_inner_dict"
   ]
  },
  {
   "cell_type": "code",
   "execution_count": 19,
   "metadata": {},
   "outputs": [
    {
     "data": {
      "text/plain": [
       "[{'title': 'Natural Foods & Products'},\n",
       " {'title': 'New Business Development',\n",
       "  'sub_title': ['Endorsed by 2 colleagues at iLevel Brands']}]"
      ]
     },
     "execution_count": 19,
     "metadata": {},
     "output_type": "execute_result"
    }
   ],
   "source": [
    "making_inner_dict.append({'title': 'New Business Development','sub_title': ['Endorsed by 2 colleagues at iLevel Brands']})\n",
    "making_inner_dict"
   ]
  },
  {
   "cell_type": "code",
   "execution_count": 20,
   "metadata": {},
   "outputs": [
    {
     "data": {
      "text/plain": [
       "[{'title': 'Natural Foods & Products'},\n",
       " {'title': 'New Business Development',\n",
       "  'sub_title': ['Endorsed by 2 colleagues at iLevel Brands']},\n",
       " {'title': 'Brand Management'}]"
      ]
     },
     "execution_count": 20,
     "metadata": {},
     "output_type": "execute_result"
    }
   ],
   "source": [
    "making_inner_dict.append({'title': 'Brand Management'})\n",
    "making_inner_dict"
   ]
  },
  {
   "cell_type": "code",
   "execution_count": 22,
   "metadata": {},
   "outputs": [
    {
     "data": {
      "text/plain": [
       "'New Business Development'"
      ]
     },
     "execution_count": 22,
     "metadata": {},
     "output_type": "execute_result"
    }
   ],
   "source": [
    "making_inner_dict[1]['title']"
   ]
  },
  {
   "cell_type": "code",
   "execution_count": null,
   "metadata": {},
   "outputs": [],
   "source": [
    "final_list = [\n",
    "    {\n",
    "        'title': 'Natural Foods & Products'\n",
    "    },\n",
    "    {\n",
    "        'title': 'New Business Development',   \n",
    "        'sub_title': ['Endorsed by 2 colleagues at iLevel Brands']\n",
    "    },\n",
    "    {\n",
    "        'title': 'Brand Management'\n",
    "    }\n",
    "]"
   ]
  },
  {
   "cell_type": "code",
   "execution_count": null,
   "metadata": {},
   "outputs": [],
   "source": []
  },
  {
   "cell_type": "code",
   "execution_count": null,
   "metadata": {},
   "outputs": [],
   "source": []
  },
  {
   "cell_type": "code",
   "execution_count": null,
   "metadata": {},
   "outputs": [],
   "source": []
  }
 ],
 "metadata": {
  "kernelspec": {
   "display_name": "Python 3",
   "language": "python",
   "name": "python3"
  },
  "language_info": {
   "codemirror_mode": {
    "name": "ipython",
    "version": 3
   },
   "file_extension": ".py",
   "mimetype": "text/x-python",
   "name": "python",
   "nbconvert_exporter": "python",
   "pygments_lexer": "ipython3",
   "version": "3.10.6 (tags/v3.10.6:9c7b4bd, Aug  1 2022, 21:53:49) [MSC v.1932 64 bit (AMD64)]"
  },
  "orig_nbformat": 4,
  "vscode": {
   "interpreter": {
    "hash": "369f2c481f4da34e4445cda3fffd2e751bd1c4d706f27375911949ba6bb62e1c"
   }
  }
 },
 "nbformat": 4,
 "nbformat_minor": 2
}
