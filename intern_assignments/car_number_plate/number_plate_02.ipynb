{
 "cells": [
  {
   "cell_type": "code",
   "execution_count": 52,
   "metadata": {},
   "outputs": [],
   "source": [
    "\n",
    "import cv2\n",
    "import numpy as np\n",
    "from matplotlib import pyplot as plt\n",
    "\n",
    "import imutils\n",
    "import pytesseract"
   ]
  },
  {
   "cell_type": "code",
   "execution_count": 53,
   "metadata": {},
   "outputs": [],
   "source": [
    "# \"C:\\Users\\2me41\\AppData\\Local\\Tesseract-OCR\\tesseract.exe\"\n",
    "pytesseract.pytesseract.tesseract_cmd = r'C:/Users/2me41/AppData/Local/Tesseract-OCR/tesseract.exe'\n"
   ]
  },
  {
   "cell_type": "code",
   "execution_count": 54,
   "metadata": {},
   "outputs": [],
   "source": [
    "img = cv2.imread('C:/Users/2me41/Downloads/car-front-view.webp')\n",
    "gray = cv2.cvtColor(img, cv2.COLOR_BGR2GRAY)"
   ]
  },
  {
   "cell_type": "code",
   "execution_count": 57,
   "metadata": {},
   "outputs": [],
   "source": [
    "bfilter = cv2.bilateralFilter(gray, 11, 17, 17)\n",
    "edged = cv2.Canny(bfilter, 20, 30)"
   ]
  },
  {
   "cell_type": "code",
   "execution_count": 58,
   "metadata": {},
   "outputs": [],
   "source": [
    "read = pytesseract.image_to_string(edged)"
   ]
  },
  {
   "cell_type": "code",
   "execution_count": 59,
   "metadata": {},
   "outputs": [
    {
     "data": {
      "text/plain": [
       "' \\n\\n \\n\\n'"
      ]
     },
     "execution_count": 59,
     "metadata": {},
     "output_type": "execute_result"
    }
   ],
   "source": [
    "read"
   ]
  },
  {
   "cell_type": "code",
   "execution_count": 1,
   "metadata": {},
   "outputs": [],
   "source": [
    "# imports\n",
    "import cv2 \n",
    "import pytesseract # for reading text in images\n",
    "import numpy as np"
   ]
  },
  {
   "cell_type": "code",
   "execution_count": 2,
   "metadata": {},
   "outputs": [],
   "source": [
    "\n",
    "pytesseract.pytesseract.tesseract_cmd = r'C:/Users/2me41/Downloads/tesseract-ocr-setup-4.00.00dev.exe'\n"
   ]
  },
  {
   "cell_type": "code",
   "execution_count": 37,
   "metadata": {},
   "outputs": [],
   "source": [
    "# \"C:\\Users\\2me41\\Downloads\\haarcascade_russian_plate_number.xml\"\n",
    "# r'C:/Users/2me41/Downloads/haarcascade_russian_plate_number.xml'\n",
    "cascade = cv2.CascadeClassifier(r'C:/Users/2me41/Downloads/haarcascade_russian_plate_number.xml')\n"
   ]
  },
  {
   "cell_type": "code",
   "execution_count": null,
   "metadata": {},
   "outputs": [],
   "source": [
    "img = cv2.imread('C:/Users/2me41/Downloads/car-front-view.webp')\n",
    "gray = cv2.cvtColor(img, cv2.COLOR_BGR2GRAY)\n"
   ]
  },
  {
   "cell_type": "code",
   "execution_count": 51,
   "metadata": {},
   "outputs": [],
   "source": [
    "cv2.destroyAllWindows()"
   ]
  },
  {
   "cell_type": "code",
   "execution_count": 4,
   "metadata": {},
   "outputs": [],
   "source": [
    "# \"C:\\\\Users\\\\2me41\\\\Downloads\\\\bdd100k_images_10k\\\\bdd100k\\\\images\\\\10k\\\\test\\\\b87ca2c5-c3c19d35.jpg\n",
    "imager_to_read = r'C:/Users/2me41/Downloads/bdd100k_images_10k/bdd100k/images/10k/test/b87ca2c5-c3c19d35.jpg'\n"
   ]
  },
  {
   "cell_type": "code",
   "execution_count": null,
   "metadata": {},
   "outputs": [],
   "source": []
  },
  {
   "cell_type": "code",
   "execution_count": 26,
   "metadata": {},
   "outputs": [],
   "source": [
    "\n",
    "def extract_number(given_img):\n",
    "    global read\n",
    "    img = cv2.imread(given_img)\n",
    "    gray = cv2.cvtColor(img, cv2.COLOR_BGR2GRAY)\n",
    "    nplate = cascade.detectMultiScale(gray, 1.1, 4)\n",
    "\n",
    "    return cv2.imshow(\"gray image\", img)"
   ]
  },
  {
   "cell_type": "code",
   "execution_count": 50,
   "metadata": {},
   "outputs": [
    {
     "ename": "ValueError",
     "evalue": "not enough values to unpack (expected 4, got 1)",
     "output_type": "error",
     "traceback": [
      "\u001b[1;31m---------------------------------------------------------------------------\u001b[0m",
      "\u001b[1;31mValueError\u001b[0m                                Traceback (most recent call last)",
      "\u001b[1;32mc:\\VS_Code_folder\\Learning_new_stuff\\OpenCV_test\\car_recognition\\number_plate_02.ipynb Cell 9\u001b[0m in \u001b[0;36m<cell line: 5>\u001b[1;34m()\u001b[0m\n\u001b[0;32m      <a href='vscode-notebook-cell:/c%3A/VS_Code_folder/Learning_new_stuff/OpenCV_test/car_recognition/number_plate_02.ipynb#X15sZmlsZQ%3D%3D?line=2'>3</a>\u001b[0m \u001b[39m#nplate = cascade.detectMultiScale3(gray, 1.1, 4)\u001b[39;00m\n\u001b[0;32m      <a href='vscode-notebook-cell:/c%3A/VS_Code_folder/Learning_new_stuff/OpenCV_test/car_recognition/number_plate_02.ipynb#X15sZmlsZQ%3D%3D?line=3'>4</a>\u001b[0m nplate \u001b[39m=\u001b[39m cascade\u001b[39m.\u001b[39mdetectMultiScale3(gray, \u001b[39m1.1\u001b[39m, \u001b[39m4\u001b[39m, outputRejectLevels\u001b[39m=\u001b[39m\u001b[39mTrue\u001b[39;00m)\n\u001b[1;32m----> <a href='vscode-notebook-cell:/c%3A/VS_Code_folder/Learning_new_stuff/OpenCV_test/car_recognition/number_plate_02.ipynb#X15sZmlsZQ%3D%3D?line=4'>5</a>\u001b[0m \u001b[39mfor\u001b[39;00m x, y, w, h \u001b[39min\u001b[39;00m nplate:\n\u001b[0;32m      <a href='vscode-notebook-cell:/c%3A/VS_Code_folder/Learning_new_stuff/OpenCV_test/car_recognition/number_plate_02.ipynb#X15sZmlsZQ%3D%3D?line=5'>6</a>\u001b[0m     a, b \u001b[39m=\u001b[39m (\u001b[39mint\u001b[39m(\u001b[39m0.02\u001b[39m\u001b[39m*\u001b[39mimg\u001b[39m.\u001b[39mshape[\u001b[39m0\u001b[39m])), \u001b[39mint\u001b[39m(\u001b[39m0.025\u001b[39m\u001b[39m*\u001b[39mimg\u001b[39m.\u001b[39mshape[\u001b[39m1\u001b[39m])\n\u001b[0;32m      <a href='vscode-notebook-cell:/c%3A/VS_Code_folder/Learning_new_stuff/OpenCV_test/car_recognition/number_plate_02.ipynb#X15sZmlsZQ%3D%3D?line=6'>7</a>\u001b[0m     plate \u001b[39m=\u001b[39m img[y\u001b[39m+\u001b[39ma:y\u001b[39m+\u001b[39mh\u001b[39m-\u001b[39ma, x\u001b[39m+\u001b[39mb:x\u001b[39m+\u001b[39mw\u001b[39m-\u001b[39mb, :]\n",
      "\u001b[1;31mValueError\u001b[0m: not enough values to unpack (expected 4, got 1)"
     ]
    }
   ],
   "source": [
    "\n",
    "img = cv2.imread(imager_to_read)\n",
    "gray = cv2.cvtColor(img, cv2.COLOR_BGR2GRAY) \n",
    "#nplate = cascade.detectMultiScale3(gray, 1.1, 4)\n",
    "nplate = cascade.detectMultiScale3(gray, 1.1, 4, outputRejectLevels=True)\n",
    "for x, y, w, h in nplate:\n",
    "    a, b = (int(0.02*img.shape[0])), int(0.025*img.shape[1])\n",
    "    plate = img[y+a:y+h-a, x+b:x+w-b, :]\n",
    "    # here number plate is detected  \n",
    "\n",
    "    # image processing\n",
    "    kernel = np.ones(1, 1)\n",
    "    plate = cv2.dilate(plate, kernel, iterations=1)\n",
    "    plate = cv2.erode(plate, kernel, iterations=1)\n",
    "    plate_gray = cv2.cvtColor(plate, cv2.COLOR_BGR2GRAY)\n",
    "    (thresh, plate) = cv2.threshold(plate_gray, 127, 225, )\n",
    "\n",
    "cv2.imshow(\"gray image\", plate)\n",
    "\n",
    "cv2.waitKey(2)"
   ]
  }
 ],
 "metadata": {
  "kernelspec": {
   "display_name": "Python 3.10.6 64-bit",
   "language": "python",
   "name": "python3"
  },
  "language_info": {
   "codemirror_mode": {
    "name": "ipython",
    "version": 3
   },
   "file_extension": ".py",
   "mimetype": "text/x-python",
   "name": "python",
   "nbconvert_exporter": "python",
   "pygments_lexer": "ipython3",
   "version": "3.10.6"
  },
  "orig_nbformat": 4,
  "vscode": {
   "interpreter": {
    "hash": "369f2c481f4da34e4445cda3fffd2e751bd1c4d706f27375911949ba6bb62e1c"
   }
  }
 },
 "nbformat": 4,
 "nbformat_minor": 2
}
