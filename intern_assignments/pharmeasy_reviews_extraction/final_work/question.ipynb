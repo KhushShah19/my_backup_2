{
 "cells": [
  {
   "cell_type": "code",
   "execution_count": null,
   "metadata": {},
   "outputs": [],
   "source": []
  },
  {
   "cell_type": "code",
   "execution_count": 19,
   "metadata": {},
   "outputs": [],
   "source": [
    "given_str = \"annotate\" # noate"
   ]
  },
  {
   "cell_type": "code",
   "execution_count": null,
   "metadata": {},
   "outputs": [],
   "source": []
  },
  {
   "cell_type": "code",
   "execution_count": 23,
   "metadata": {},
   "outputs": [
    {
     "name": "stdout",
     "output_type": "stream",
     "text": [
      "anote\n",
      "{'a': 2, 'n': 2, 'o': 1, 't': 2, 'e': 1}\n"
     ]
    },
    {
     "ename": "AttributeError",
     "evalue": "'NoneType' object has no attribute 'index'",
     "output_type": "error",
     "traceback": [
      "\u001b[1;31m---------------------------------------------------------------------------\u001b[0m",
      "\u001b[1;31mAttributeError\u001b[0m                            Traceback (most recent call last)",
      "\u001b[1;32mc:\\VS_Code_folder\\Intern_projects\\pharmeasy_reviews_extraction\\final_work\\question.ipynb Cell 4\u001b[0m in \u001b[0;36m<cell line: 15>\u001b[1;34m()\u001b[0m\n\u001b[0;32m     <a href='vscode-notebook-cell:/c%3A/VS_Code_folder/Intern_projects/pharmeasy_reviews_extraction/final_work/question.ipynb#W6sZmlsZQ%3D%3D?line=13'>14</a>\u001b[0m \u001b[39mprint\u001b[39m(resp_dict)\n\u001b[0;32m     <a href='vscode-notebook-cell:/c%3A/VS_Code_folder/Intern_projects/pharmeasy_reviews_extraction/final_work/question.ipynb#W6sZmlsZQ%3D%3D?line=14'>15</a>\u001b[0m \u001b[39mfor\u001b[39;00m i \u001b[39min\u001b[39;00m resp_dict\u001b[39m.\u001b[39mkeys():\n\u001b[1;32m---> <a href='vscode-notebook-cell:/c%3A/VS_Code_folder/Intern_projects/pharmeasy_reviews_extraction/final_work/question.ipynb#W6sZmlsZQ%3D%3D?line=15'>16</a>\u001b[0m     my_list\u001b[39m.\u001b[39;49mappend(resp_dict\u001b[39m.\u001b[39;49mkeys())\u001b[39m.\u001b[39;49mindex(i)\n\u001b[0;32m     <a href='vscode-notebook-cell:/c%3A/VS_Code_folder/Intern_projects/pharmeasy_reviews_extraction/final_work/question.ipynb#W6sZmlsZQ%3D%3D?line=16'>17</a>\u001b[0m     \u001b[39mprint\u001b[39m(my_list)\n",
      "\u001b[1;31mAttributeError\u001b[0m: 'NoneType' object has no attribute 'index'"
     ]
    }
   ],
   "source": [
    "resp_dict = {}\n",
    "for i in given_str:\n",
    "    if i not in resp_dict:\n",
    "        resp_dict[i] = 1\n",
    "    elif i in resp_dict and resp_dict[i] == 1:\n",
    "        resp_dict[i] += 1\n",
    "        \n",
    "    elif i in resp_dict and resp_dict[i] >= 2:\n",
    "        pass\n",
    "\n",
    "print(\"\".join(resp_dict.keys()))\n",
    "#res = list(test_dict.keys()).index(search_key)\n",
    "my_list = []\n",
    "print(resp_dict)\n",
    "for i in resp_dict.keys():\n",
    "    my_list.append(resp_dict.keys()).index(i)\n",
    "    print(my_list)"
   ]
  },
  {
   "cell_type": "code",
   "execution_count": null,
   "metadata": {},
   "outputs": [],
   "source": []
  },
  {
   "cell_type": "code",
   "execution_count": null,
   "metadata": {},
   "outputs": [],
   "source": []
  },
  {
   "cell_type": "code",
   "execution_count": null,
   "metadata": {},
   "outputs": [],
   "source": []
  },
  {
   "cell_type": "code",
   "execution_count": null,
   "metadata": {},
   "outputs": [],
   "source": []
  }
 ],
 "metadata": {
  "kernelspec": {
   "display_name": "Python 3",
   "language": "python",
   "name": "python3"
  },
  "language_info": {
   "codemirror_mode": {
    "name": "ipython",
    "version": 3
   },
   "file_extension": ".py",
   "mimetype": "text/x-python",
   "name": "python",
   "nbconvert_exporter": "python",
   "pygments_lexer": "ipython3",
   "version": "3.10.6"
  },
  "orig_nbformat": 4
 },
 "nbformat": 4,
 "nbformat_minor": 2
}
