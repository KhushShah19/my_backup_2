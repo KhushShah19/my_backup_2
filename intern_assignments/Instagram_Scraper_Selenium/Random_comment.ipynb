{
 "cells": [
  {
   "cell_type": "code",
   "execution_count": null,
   "metadata": {},
   "outputs": [],
   "source": [
    "# Selenium imports\n",
    "from selenium import webdriver\n",
    "from selenium.webdriver.common.keys import Keys\n",
    "from selenium.webdriver.common.by import By\n",
    "from selenium.webdriver.support import expected_conditions as EC\n",
    "from selenium.webdriver.support.wait import WebDriverWait\n",
    "from selenium.webdriver.common.action_chains import ActionChains\n",
    "\n",
    "# other imports\n",
    "import random \n",
    "import time"
   ]
  },
  {
   "cell_type": "code",
   "execution_count": null,
   "metadata": {},
   "outputs": [],
   "source": [
    "wd_path = r'C:/Users/2me41/Downloads/chromedriver_win32(1)/chromedriver.exe'\n",
    "driv = webdriver.Chrome(wd_path)\n",
    "\n",
    "# tell drive which url to open\n",
    "url = 'https://www.instagram.com/'\n",
    "driv.get(url)"
   ]
  },
  {
   "cell_type": "code",
   "execution_count": null,
   "metadata": {},
   "outputs": [],
   "source": [
    "# trying to login into page (using By css selector)\n",
    "username = WebDriverWait(driv, 10).until(EC.element_to_be_clickable((By.CSS_SELECTOR, \"input[name='username']\")))\n",
    "password = WebDriverWait(driv, 10).until(EC.element_to_be_clickable((By.CSS_SELECTOR, \"input[name='password']\")))\n",
    "username.clear()\n",
    "password.clear()\n",
    "\n",
    "username.send_keys(\"riya26feb\") # your user name\n",
    "password.send_keys(\"w4h7@6t9e\") # your password\n",
    "\n",
    "# Clicking the login button\n",
    "WebDriverWait(driv, 10).until(EC.element_to_be_clickable((By.CSS_SELECTOR, \"button[type='submit']\"))).click()\n",
    "\n",
    "# save your login info? Not Now\n",
    "WebDriverWait(driv, 10).until(EC.element_to_be_clickable((By.XPATH, \"//button[contains(text(), 'Not Now')]\"))).click()\n",
    "# turn on notification? Not Now\n",
    "WebDriverWait(driv, 10).until(EC.element_to_be_clickable((By.XPATH, \"//button[contains(text(), 'Not Now')]\"))).click()"
   ]
  },
  {
   "cell_type": "code",
   "execution_count": null,
   "metadata": {},
   "outputs": [],
   "source": [
    "# for searching anything \n",
    "searchbox = WebDriverWait(driv, 10).until(EC.element_to_be_clickable((By.XPATH, \"//input[@placeholder='Search']\")))\n",
    "to_search_for = '#abstractart'\n",
    "searchbox.send_keys(to_search_for)\n",
    "# to click enter\n",
    "searchbox.send_keys(Keys.ENTER)\n",
    "try:\n",
    "    searchbox.send_keys(Keys.ENTER)\n",
    "except:\n",
    "    pass\n",
    "\n",
    "time.sleep(3.00 + (float('{0:.3f}'.format(random.random()*(2)))))"
   ]
  },
  {
   "cell_type": "code",
   "execution_count": null,
   "metadata": {},
   "outputs": [],
   "source": [
    "action_chain_driv = ActionChains(driv)"
   ]
  },
  {
   "cell_type": "code",
   "execution_count": null,
   "metadata": {},
   "outputs": [],
   "source": [
    "def taking_links(all_link_list):\n",
    "    some_links = WebDriverWait(driv, 10).until(EC.presence_of_all_elements_located((By.XPATH, '//div[@class=\"_aabd _aa8k _aanf\" ]/a[@href]'))) \n",
    "    some_links = [i.get_attribute('href') for i in some_links]\n",
    "    \n",
    "    hover_path = '[href=\"' + some_links[-1][25:] + '\"]'\n",
    "    ele_hover = driv.find_element(By.CSS_SELECTOR, hover_path)\n",
    "    time.sleep(2)\n",
    "    action_chain_driv.move_to_element(ele_hover).perform()\n",
    "\n",
    "    some_links = some_links[10:]\n",
    "    all_link_list += some_links\n",
    "    "
   ]
  },
  {
   "cell_type": "code",
   "execution_count": null,
   "metadata": {},
   "outputs": [],
   "source": [
    "final_link_list = []\n",
    "taking_links(final_link_list)\n",
    "\n",
    "driv.execute_script(\"window.scrollTo(0, 3700)\") # scroll till 9 lines\n",
    "time.sleep(2.00 + (float('{0:.3f}'.format(random.random()*(3)))))\n",
    "driv.execute_script(\"window.scrollTo(3700, 5300)\") # after 9 till more 5 lines\n",
    "time.sleep(2.00 + (float('{0:.3f}'.format(random.random()*(3)))))\n",
    "\n",
    "taking_links(final_link_list)\n",
    "\n",
    "driv.execute_script(\"window.scrollTo(5300, 9300)\") # 4000 means more 5\n",
    "time.sleep(2.00 + (float('{0:.3f}'.format(random.random()*(3)))))\n",
    "driv.execute_script(\"window.scrollTo(9300, 16300)\") \n",
    "time.sleep(2.00 + (float('{0:.3f}'.format(random.random()*(3))))) # can add more lines\n",
    "\n",
    "taking_links(final_link_list)\n",
    "print(len(final_link_list))"
   ]
  },
  {
   "cell_type": "code",
   "execution_count": null,
   "metadata": {},
   "outputs": [],
   "source": [
    "sub_imag_link = [final_link_list[i:i + 3] for i in range(0, len(final_link_list), 3)]\n"
   ]
  },
  {
   "cell_type": "code",
   "execution_count": null,
   "metadata": {},
   "outputs": [],
   "source": [
    "def like_comment(my_list): # like and comment both\n",
    "    sample_words = ['lovely!!', 'pretty!!', 'appealing!!', 'gorgeous!!', 'engaging!!']\n",
    "\n",
    "    for i in my_list:\n",
    "        x = random.choice(i)\n",
    "        driv.get(x)\n",
    "        time.sleep(float('{0:.3f}'.format(random.random()*(3))))\n",
    "        WebDriverWait(driv, 10).until(EC.presence_of_element_located((By.XPATH, '//span[@class=\"_aamw\"]/button/div/span'))).click()\n",
    "        WebDriverWait(driv, 10).until(EC.element_to_be_clickable((By.CSS_SELECTOR, \"textarea[placeholder='Add a comment…']\"))).click()\n",
    "        WebDriverWait(driv, 10).until(EC.element_to_be_clickable((By.CSS_SELECTOR, \"textarea[placeholder='Add a comment…']\"))).send_keys(random.choice(sample_words))\n",
    "        WebDriverWait(driv, 10).until(EC.element_to_be_clickable((By.CSS_SELECTOR, \"button[type='submit']\"))).click()\n",
    "        time.sleep(float('{0:.3f}'.format(random.random()*(3))))\n"
   ]
  },
  {
   "cell_type": "code",
   "execution_count": null,
   "metadata": {},
   "outputs": [],
   "source": []
  },
  {
   "cell_type": "code",
   "execution_count": null,
   "metadata": {},
   "outputs": [],
   "source": []
  }
 ],
 "metadata": {
  "kernelspec": {
   "display_name": "Python 3.10.6 64-bit",
   "language": "python",
   "name": "python3"
  },
  "language_info": {
   "name": "python",
   "version": "3.10.6"
  },
  "orig_nbformat": 4,
  "vscode": {
   "interpreter": {
    "hash": "369f2c481f4da34e4445cda3fffd2e751bd1c4d706f27375911949ba6bb62e1c"
   }
  }
 },
 "nbformat": 4,
 "nbformat_minor": 2
}
