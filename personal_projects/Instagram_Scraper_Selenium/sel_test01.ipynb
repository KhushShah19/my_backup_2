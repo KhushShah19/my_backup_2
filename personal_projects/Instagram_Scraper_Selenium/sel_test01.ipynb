{
 "cells": [
  {
   "cell_type": "code",
   "execution_count": 1,
   "metadata": {},
   "outputs": [],
   "source": [
    "# Selenium imports\n",
    "from selenium import webdriver\n",
    "from selenium.webdriver.common.keys import Keys\n",
    "from selenium.webdriver.common.by import By\n",
    "from selenium.webdriver.support import expected_conditions as EC\n",
    "from selenium.webdriver.support.wait import WebDriverWait\n"
   ]
  },
  {
   "cell_type": "code",
   "execution_count": 2,
   "metadata": {},
   "outputs": [],
   "source": [
    "#imports\n",
    "from selenium import webdriver\n",
    "from webdriver_manager.chrome import ChromeDriverManager"
   ]
  },
  {
   "cell_type": "code",
   "execution_count": 3,
   "metadata": {},
   "outputs": [],
   "source": [
    "import os"
   ]
  },
  {
   "cell_type": "code",
   "execution_count": 4,
   "metadata": {},
   "outputs": [],
   "source": [
    "import time"
   ]
  },
  {
   "cell_type": "code",
   "execution_count": 5,
   "metadata": {},
   "outputs": [
    {
     "name": "stderr",
     "output_type": "stream",
     "text": [
      "[WDM] - Downloading: 100%|██████████| 6.30M/6.30M [00:02<00:00, 2.66MB/s]\n",
      "C:\\Users\\2me41\\AppData\\Local\\Temp\\ipykernel_19128\\2990168770.py:3: DeprecationWarning: executable_path has been deprecated, please pass in a Service object\n",
      "  driv = webdriver.Chrome(ChromeDriverManager().install())\n"
     ]
    }
   ],
   "source": [
    "gp1 = 'C:/Users/2me41/Downloads/geckodriver-v0.31.0-win64.zip/chromedriver.exe'\n",
    "#driver = webdriver.Chrome(gp1)\n",
    "driv = webdriver.Chrome(ChromeDriverManager().install())"
   ]
  },
  {
   "cell_type": "code",
   "execution_count": 6,
   "metadata": {},
   "outputs": [],
   "source": [
    "url = 'https://www.instagram.com/'\n",
    "driv.get(url)"
   ]
  },
  {
   "cell_type": "code",
   "execution_count": 7,
   "metadata": {},
   "outputs": [],
   "source": [
    "username = WebDriverWait(driv, 10).until(EC.element_to_be_clickable((By.CSS_SELECTOR, \"input[name='username']\")))\n",
    "password = WebDriverWait(driv, 10).until(EC.element_to_be_clickable((By.CSS_SELECTOR, \"input[name='password']\")))\n",
    "\n",
    "username.clear()\n",
    "password.clear()\n",
    "\n",
    "username.send_keys(\"anjali_chilhate_\")\n",
    "password.send_keys(\"Free2use\")\n"
   ]
  },
  {
   "cell_type": "code",
   "execution_count": 8,
   "metadata": {},
   "outputs": [],
   "source": [
    " \n",
    "login = WebDriverWait(driv, 10).until(EC.element_to_be_clickable((By.CSS_SELECTOR, \"button[type='submit']\"))).click()"
   ]
  },
  {
   "cell_type": "code",
   "execution_count": 9,
   "metadata": {},
   "outputs": [
    {
     "ename": "TimeoutException",
     "evalue": "Message: \nStacktrace:\nBacktrace:\n\tGetHandleVerifier [0x005BA813+48355]\n\t(No symbol) [0x0054C4B1]\n\t(No symbol) [0x00455358]\n\t(No symbol) [0x004809A5]\n\t(No symbol) [0x00480B3B]\n\t(No symbol) [0x004AE232]\n\t(No symbol) [0x0049A784]\n\t(No symbol) [0x004AC922]\n\t(No symbol) [0x0049A536]\n\t(No symbol) [0x004782DC]\n\t(No symbol) [0x004793DD]\n\tGetHandleVerifier [0x0081AABD+2539405]\n\tGetHandleVerifier [0x0085A78F+2800735]\n\tGetHandleVerifier [0x0085456C+2775612]\n\tGetHandleVerifier [0x006451E0+616112]\n\t(No symbol) [0x00555F8C]\n\t(No symbol) [0x00552328]\n\t(No symbol) [0x0055240B]\n\t(No symbol) [0x00544FF7]\n\tBaseThreadInitThunk [0x76E37D59+25]\n\tRtlInitializeExceptionChain [0x77E2B74B+107]\n\tRtlClearBits [0x77E2B6CF+191]\n",
     "output_type": "error",
     "traceback": [
      "\u001b[1;31m---------------------------------------------------------------------------\u001b[0m",
      "\u001b[1;31mTimeoutException\u001b[0m                          Traceback (most recent call last)",
      "\u001b[1;32mc:\\VS_Code_folder\\intern_assignments\\Instagram_Scraper_Selenium\\sel_test01.ipynb Cell 9\u001b[0m in \u001b[0;36m<cell line: 2>\u001b[1;34m()\u001b[0m\n\u001b[0;32m      <a href='vscode-notebook-cell:/c%3A/VS_Code_folder/intern_assignments/Instagram_Scraper_Selenium/sel_test01.ipynb#X11sZmlsZQ%3D%3D?line=0'>1</a>\u001b[0m copied_xpath \u001b[39m=\u001b[39m \u001b[39m'\u001b[39m\u001b[39m//*[@id=\u001b[39m\u001b[39m\"\u001b[39m\u001b[39mreact-root\u001b[39m\u001b[39m\"\u001b[39m\u001b[39m]/section/main/div/div/div/div/button\u001b[39m\u001b[39m'\u001b[39m\n\u001b[1;32m----> <a href='vscode-notebook-cell:/c%3A/VS_Code_folder/intern_assignments/Instagram_Scraper_Selenium/sel_test01.ipynb#X11sZmlsZQ%3D%3D?line=1'>2</a>\u001b[0m not_now \u001b[39m=\u001b[39m  WebDriverWait(driv, \u001b[39m10\u001b[39;49m)\u001b[39m.\u001b[39;49muntil(EC\u001b[39m.\u001b[39;49melement_to_be_clickable((By\u001b[39m.\u001b[39;49mXPATH, copied_xpath)))\u001b[39m.\u001b[39mclick()\n",
      "File \u001b[1;32mc:\\Python310\\lib\\site-packages\\selenium\\webdriver\\support\\wait.py:90\u001b[0m, in \u001b[0;36mWebDriverWait.until\u001b[1;34m(self, method, message)\u001b[0m\n\u001b[0;32m     88\u001b[0m     \u001b[39mif\u001b[39;00m time\u001b[39m.\u001b[39mmonotonic() \u001b[39m>\u001b[39m end_time:\n\u001b[0;32m     89\u001b[0m         \u001b[39mbreak\u001b[39;00m\n\u001b[1;32m---> 90\u001b[0m \u001b[39mraise\u001b[39;00m TimeoutException(message, screen, stacktrace)\n",
      "\u001b[1;31mTimeoutException\u001b[0m: Message: \nStacktrace:\nBacktrace:\n\tGetHandleVerifier [0x005BA813+48355]\n\t(No symbol) [0x0054C4B1]\n\t(No symbol) [0x00455358]\n\t(No symbol) [0x004809A5]\n\t(No symbol) [0x00480B3B]\n\t(No symbol) [0x004AE232]\n\t(No symbol) [0x0049A784]\n\t(No symbol) [0x004AC922]\n\t(No symbol) [0x0049A536]\n\t(No symbol) [0x004782DC]\n\t(No symbol) [0x004793DD]\n\tGetHandleVerifier [0x0081AABD+2539405]\n\tGetHandleVerifier [0x0085A78F+2800735]\n\tGetHandleVerifier [0x0085456C+2775612]\n\tGetHandleVerifier [0x006451E0+616112]\n\t(No symbol) [0x00555F8C]\n\t(No symbol) [0x00552328]\n\t(No symbol) [0x0055240B]\n\t(No symbol) [0x00544FF7]\n\tBaseThreadInitThunk [0x76E37D59+25]\n\tRtlInitializeExceptionChain [0x77E2B74B+107]\n\tRtlClearBits [0x77E2B6CF+191]\n"
     ]
    }
   ],
   "source": [
    "copied_xpath = '//*[@id=\"react-root\"]/section/main/div/div/div/div/button'\n",
    "not_now =  WebDriverWait(driv, 10).until(EC.element_to_be_clickable((By.XPATH, copied_xpath))).click()\n",
    "# 'Not Now' \n",
    "# # \"//button[contains(text(), 'Not Now')]\" now this will work "
   ]
  },
  {
   "cell_type": "code",
   "execution_count": null,
   "metadata": {},
   "outputs": [],
   "source": [
    "copied_xpath2 = '//*[@id=\"mount_0_0_5V\"]/div/div/div/div[2]/div/div/div[1]/div/div[2]/div/div/div/div/div/div/div/div[3]/button[2]'\n",
    "not_now2 =  WebDriverWait(driv, 10).until(EC.element_to_be_clickable((By.XPATH, copied_xpath2))).click()\n",
    "# 'Not Now' 2"
   ]
  },
  {
   "cell_type": "code",
   "execution_count": null,
   "metadata": {},
   "outputs": [],
   "source": [
    "# for searching anything \n",
    "searchbox = WebDriverWait(driv, 10).until(EC.element_to_be_clickable((By.XPATH, \"//input[@placeholder='Search']\")))\n",
    "searchbox.clear()\n",
    "to_search_for = '#abstractart'\n",
    "searchbox.send_keys(to_search_for)"
   ]
  },
  {
   "cell_type": "code",
   "execution_count": null,
   "metadata": {},
   "outputs": [],
   "source": [
    "# to click enter\n",
    "searchbox.send_keys(Keys.ENTER)"
   ]
  },
  {
   "cell_type": "code",
   "execution_count": null,
   "metadata": {},
   "outputs": [],
   "source": [
    "searchbox.send_keys(Keys.ENTER)"
   ]
  },
  {
   "cell_type": "code",
   "execution_count": null,
   "metadata": {},
   "outputs": [],
   "source": [
    "driv.execute_script(\"window.scrollTo(0,1500);\")\n",
    "\n"
   ]
  },
  {
   "cell_type": "code",
   "execution_count": null,
   "metadata": {},
   "outputs": [],
   "source": [
    "my_imag = WebDriverWait(driv, 10).until(EC.element_to_be_clickable((By.XPATH, \"//img[@crossorigin='anonymous' and not(@srcset)]\")))\n",
    "my_imag.get_attribute('src')"
   ]
  },
  {
   "cell_type": "code",
   "execution_count": null,
   "metadata": {},
   "outputs": [],
   "source": [
    "only_img = \"//img[@crossorigin='anonymous' and not(@srcset)]\"\n",
    "#my_immm = WebDriverWait(driv, 10).until(EC.element_to_be_clickable((By.XPATH, only_img))).get_attribute('src')\n",
    "#mkmk = driv.find_elements((By.XPATH, only_img))\n",
    "#EC.presence_of_all_elements_located\n",
    "my_immm = WebDriverWait(driv, 10).until(EC.presence_of_all_elements_located((By.XPATH, only_img)))"
   ]
  },
  {
   "cell_type": "code",
   "execution_count": null,
   "metadata": {},
   "outputs": [],
   "source": [
    "len(my_immm)"
   ]
  },
  {
   "cell_type": "code",
   "execution_count": null,
   "metadata": {},
   "outputs": [],
   "source": [
    "my_immm = [i.get_attribute('src') for i in my_immm]"
   ]
  },
  {
   "cell_type": "code",
   "execution_count": null,
   "metadata": {},
   "outputs": [],
   "source": [
    "# going to home page\n",
    "home_page = WebDriverWait(driv, 10).until(EC.element_to_be_clickable((By.XPATH, \"//*[@aria-label = 'Home']\"))).click()\n"
   ]
  },
  {
   "cell_type": "code",
   "execution_count": null,
   "metadata": {},
   "outputs": [],
   "source": [
    "# after opening image \n",
    "# //span[@aria-lable='Like']  ==> CSS = svg[aria-label=\"Like\"]\n",
    "\n",
    "press_like = WebDriverWait(driv, 10).until(EC.element_to_be_clickable((By.XPATH, \"//span[@class='_aamw']\"))).click()\n",
    "#press_like = WebDriverWait(driv, 10).until(EC.element_to_be_clickable((By.CSS_SELECTOR, \"button[type='button']\"))).click()\n"
   ]
  },
  {
   "cell_type": "code",
   "execution_count": null,
   "metadata": {},
   "outputs": [],
   "source": [
    "# commenting on post\n",
    "\n",
    "commenting = WebDriverWait(driv, 10).until(EC.element_to_be_clickable((By.CSS_SELECTOR, \"textarea[placeholder='Add a comment…']\"))).click()\n",
    "#commenting.clear()"
   ]
  },
  {
   "cell_type": "code",
   "execution_count": null,
   "metadata": {},
   "outputs": [],
   "source": [
    "# writing comment\n",
    "WebDriverWait(driv, 10).until(EC.element_to_be_clickable((By.CSS_SELECTOR, \"textarea[placeholder='Add a comment…']\"))).send_keys(\"Wow\")\n",
    "\n",
    "# posting comment\n",
    "WebDriverWait(driv, 10).until(EC.element_to_be_clickable((By.CSS_SELECTOR, \"button[type='submit']\"))).click()"
   ]
  },
  {
   "cell_type": "code",
   "execution_count": null,
   "metadata": {},
   "outputs": [],
   "source": [
    "# xpath - //div[@class=\"_aabd _aa8k _aanf\"]\n",
    "\n",
    "required_images = WebDriverWait(driv, 10).until(EC.presence_of_all_elements_located((By.XPATH, '//div[@class=\"_aabd _aa8k _aanf\"]'))) \n",
    "required_images = [i.get_attribute('href') for i in required_images]\n"
   ]
  },
  {
   "cell_type": "code",
   "execution_count": null,
   "metadata": {},
   "outputs": [],
   "source": [
    "len(required_images)"
   ]
  },
  {
   "cell_type": "code",
   "execution_count": null,
   "metadata": {},
   "outputs": [],
   "source": [
    "driv.execute_script(\"window.scrollTo(0, 1900)\") \n",
    "time.sleep(10)\n",
    "driv.execute_script(\"window.scrollTo(1900, 2800)\") \n",
    "#label.sendKeys(Keys.PAGE_DOWN);"
   ]
  },
  {
   "cell_type": "code",
   "execution_count": null,
   "metadata": {},
   "outputs": [],
   "source": [
    "driv.execute_script(\"window.scrollTo(0, document.body.scrollheight);\")\n",
    "# to scroll to the bottom of the page"
   ]
  },
  {
   "cell_type": "code",
   "execution_count": null,
   "metadata": {},
   "outputs": [],
   "source": [
    "driv.close() # to close drive"
   ]
  }
 ],
 "metadata": {
  "kernelspec": {
   "display_name": "Python 3.10.6 64-bit",
   "language": "python",
   "name": "python3"
  },
  "language_info": {
   "codemirror_mode": {
    "name": "ipython",
    "version": 3
   },
   "file_extension": ".py",
   "mimetype": "text/x-python",
   "name": "python",
   "nbconvert_exporter": "python",
   "pygments_lexer": "ipython3",
   "version": "3.10.6"
  },
  "orig_nbformat": 4,
  "vscode": {
   "interpreter": {
    "hash": "369f2c481f4da34e4445cda3fffd2e751bd1c4d706f27375911949ba6bb62e1c"
   }
  }
 },
 "nbformat": 4,
 "nbformat_minor": 2
}
