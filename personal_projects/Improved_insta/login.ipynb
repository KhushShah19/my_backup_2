{
 "cells": [
  {
   "cell_type": "code",
   "execution_count": 7,
   "metadata": {},
   "outputs": [],
   "source": [
    "from selenium import webdriver\n",
    "from selenium.webdriver.common.keys import Keys\n",
    "from selenium.webdriver.common.by import By\n",
    "from selenium.webdriver.support import expected_conditions as EC\n",
    "from selenium.webdriver.support.wait import WebDriverWait"
   ]
  },
  {
   "cell_type": "code",
   "execution_count": 38,
   "metadata": {},
   "outputs": [],
   "source": [
    "import time"
   ]
  },
  {
   "cell_type": "code",
   "execution_count": null,
   "metadata": {},
   "outputs": [],
   "source": []
  },
  {
   "cell_type": "code",
   "execution_count": 5,
   "metadata": {},
   "outputs": [],
   "source": [
    "driver_path = \"C:/VS_Code_folder/chromedriver.exe\""
   ]
  },
  {
   "cell_type": "code",
   "execution_count": 8,
   "metadata": {},
   "outputs": [
    {
     "name": "stderr",
     "output_type": "stream",
     "text": [
      "C:\\Users\\2me41\\AppData\\Local\\Temp\\ipykernel_13028\\800809970.py:3: DeprecationWarning: executable_path has been deprecated, please pass in a Service object\n",
      "  driv = webdriver.Chrome(executable_path=driver_path)\n"
     ]
    }
   ],
   "source": [
    "driv = webdriver.Chrome(executable_path=driver_path)"
   ]
  },
  {
   "cell_type": "code",
   "execution_count": 9,
   "metadata": {},
   "outputs": [],
   "source": [
    "url = 'https://www.instagram.com/'\n",
    "driv.get(url)"
   ]
  },
  {
   "cell_type": "code",
   "execution_count": 10,
   "metadata": {},
   "outputs": [],
   "source": [
    "username = WebDriverWait(driv, 10).until(EC.element_to_be_clickable((By.CSS_SELECTOR, \"input[name='username']\")))\n",
    "password = WebDriverWait(driv, 10).until(EC.element_to_be_clickable((By.CSS_SELECTOR, \"input[name='password']\")))\n",
    "\n",
    "username.clear()\n",
    "password.clear()\n",
    "\n",
    "username.send_keys(\"anjali_chilhate_\")\n",
    "password.send_keys(\"Free2Use\")\n"
   ]
  },
  {
   "cell_type": "code",
   "execution_count": 11,
   "metadata": {},
   "outputs": [],
   "source": [
    "login_button = WebDriverWait(driv, 10).until(EC.element_to_be_clickable((By.CSS_SELECTOR, \"button[type='submit']\"))).click()"
   ]
  },
  {
   "cell_type": "code",
   "execution_count": 14,
   "metadata": {},
   "outputs": [],
   "source": [
    "copied_xpath = '//*[@id=\"mount_0_0_/9\"]/div/div/div[2]/div/div/div/div[1]/div[1]/div[2]/section/main/div/div/div/div/div'\n",
    "not_now =  WebDriverWait(driv, 10).until(EC.element_to_be_clickable((By.XPATH, copied_xpath))).click() # save info?"
   ]
  },
  {
   "cell_type": "code",
   "execution_count": 16,
   "metadata": {},
   "outputs": [],
   "source": [
    "copied_xpath2 = '//*[@id=\"mount_0_0_BR\"]/div/div/div[3]/div/div/div[1]/div/div[2]/div/div/div/div/div[2]/div/div/div[3]/button[2]'\n",
    "not_now2 =  WebDriverWait(driv, 10).until(EC.element_to_be_clickable((By.XPATH, copied_xpath2))).click() # turn on notification"
   ]
  },
  {
   "cell_type": "code",
   "execution_count": 26,
   "metadata": {},
   "outputs": [],
   "source": [
    "# //*[@aria-label=\"Search\"]\n",
    "searchbox = WebDriverWait(driv, 10).until(EC.element_to_be_clickable((By.XPATH, '//*[@aria-label=\"Search\"]'))).click() # to open search\n"
   ]
  },
  {
   "cell_type": "code",
   "execution_count": 27,
   "metadata": {},
   "outputs": [],
   "source": [
    "to_search_for = 'anushkasen0408' # //input[@aria-label=\"Search input\"]\n",
    "search_bar = WebDriverWait(driv, 10).until(EC.element_to_be_clickable((By.XPATH, '//input[@aria-label=\"Search input\"]'))) # to search for\n",
    "search_bar.click()\n",
    "# time.sleep(1)\n"
   ]
  },
  {
   "cell_type": "code",
   "execution_count": 28,
   "metadata": {},
   "outputs": [],
   "source": [
    "search_bar.send_keys(to_search_for)\n"
   ]
  },
  {
   "cell_type": "code",
   "execution_count": 36,
   "metadata": {},
   "outputs": [],
   "source": [
    "search_result = WebDriverWait(driv, 10).until(EC.element_to_be_clickable((By.XPATH, f'//a[@href=\"/{to_search_for}/\"]')))\n",
    "search_result.click()"
   ]
  },
  {
   "cell_type": "code",
   "execution_count": 68,
   "metadata": {},
   "outputs": [
    {
     "ename": "WebDriverException",
     "evalue": "Message: disconnected: not connected to DevTools\n  (failed to check if window was closed: disconnected: not connected to DevTools)\n  (Session info: chrome=114.0.5735.199)\nStacktrace:\nBacktrace:\n\tGetHandleVerifier [0x00F3A813+48355]\n\t(No symbol) [0x00ECC4B1]\n\t(No symbol) [0x00DD5358]\n\t(No symbol) [0x00DC7D96]\n\t(No symbol) [0x00DC7AB9]\n\t(No symbol) [0x00DD67C0]\n\t(No symbol) [0x00E2C4D8]\n\t(No symbol) [0x00E1A536]\n\t(No symbol) [0x00DF82DC]\n\t(No symbol) [0x00DF93DD]\n\tGetHandleVerifier [0x0119AABD+2539405]\n\tGetHandleVerifier [0x011DA78F+2800735]\n\tGetHandleVerifier [0x011D456C+2775612]\n\tGetHandleVerifier [0x00FC51E0+616112]\n\t(No symbol) [0x00ED5F8C]\n\t(No symbol) [0x00ED2328]\n\t(No symbol) [0x00ED240B]\n\t(No symbol) [0x00EC4FF7]\n\tBaseThreadInitThunk [0x76E37D59+25]\n\tRtlInitializeExceptionChain [0x77E2B74B+107]\n\tRtlClearBits [0x77E2B6CF+191]\n",
     "output_type": "error",
     "traceback": [
      "\u001b[1;31m---------------------------------------------------------------------------\u001b[0m",
      "\u001b[1;31mWebDriverException\u001b[0m                        Traceback (most recent call last)",
      "\u001b[1;32mc:\\VS_Code_folder\\personal_projects\\Improved_insta\\login.ipynb Cell 15\u001b[0m in \u001b[0;36m<cell line: 2>\u001b[1;34m()\u001b[0m\n\u001b[0;32m      <a href='vscode-notebook-cell:/c%3A/VS_Code_folder/personal_projects/Improved_insta/login.ipynb#X15sZmlsZQ%3D%3D?line=0'>1</a>\u001b[0m \u001b[39m# //article[@class=\"x1iyjqo2\"]\u001b[39;00m\n\u001b[1;32m----> <a href='vscode-notebook-cell:/c%3A/VS_Code_folder/personal_projects/Improved_insta/login.ipynb#X15sZmlsZQ%3D%3D?line=1'>2</a>\u001b[0m look_for_post \u001b[39m=\u001b[39m WebDriverWait(driv, \u001b[39m10\u001b[39;49m)\u001b[39m.\u001b[39;49muntil(EC\u001b[39m.\u001b[39;49melement_to_be_clickable((By\u001b[39m.\u001b[39;49mXPATH, \u001b[39m'\u001b[39;49m\u001b[39m//article[@class=\u001b[39;49m\u001b[39m\"\u001b[39;49m\u001b[39mx1iyjqo2\u001b[39;49m\u001b[39m\"\u001b[39;49m\u001b[39m]/div/div/div\u001b[39;49m\u001b[39m'\u001b[39;49m)))\n",
      "File \u001b[1;32mc:\\Python310\\lib\\site-packages\\selenium\\webdriver\\support\\wait.py:81\u001b[0m, in \u001b[0;36mWebDriverWait.until\u001b[1;34m(self, method, message)\u001b[0m\n\u001b[0;32m     79\u001b[0m \u001b[39mwhile\u001b[39;00m \u001b[39mTrue\u001b[39;00m:\n\u001b[0;32m     80\u001b[0m     \u001b[39mtry\u001b[39;00m:\n\u001b[1;32m---> 81\u001b[0m         value \u001b[39m=\u001b[39m method(\u001b[39mself\u001b[39;49m\u001b[39m.\u001b[39;49m_driver)\n\u001b[0;32m     82\u001b[0m         \u001b[39mif\u001b[39;00m value:\n\u001b[0;32m     83\u001b[0m             \u001b[39mreturn\u001b[39;00m value\n",
      "File \u001b[1;32mc:\\Python310\\lib\\site-packages\\selenium\\webdriver\\support\\expected_conditions.py:312\u001b[0m, in \u001b[0;36melement_to_be_clickable.<locals>._predicate\u001b[1;34m(driver)\u001b[0m\n\u001b[0;32m    310\u001b[0m target \u001b[39m=\u001b[39m mark\n\u001b[0;32m    311\u001b[0m \u001b[39mif\u001b[39;00m \u001b[39mnot\u001b[39;00m \u001b[39misinstance\u001b[39m(target, WebElement):  \u001b[39m# if given locator instead of WebElement\u001b[39;00m\n\u001b[1;32m--> 312\u001b[0m     target \u001b[39m=\u001b[39m driver\u001b[39m.\u001b[39;49mfind_element(\u001b[39m*\u001b[39;49mtarget)  \u001b[39m# grab element at locator\u001b[39;00m\n\u001b[0;32m    313\u001b[0m target \u001b[39m=\u001b[39m visibility_of(target)(driver)\n\u001b[0;32m    314\u001b[0m \u001b[39mif\u001b[39;00m target \u001b[39mand\u001b[39;00m target\u001b[39m.\u001b[39mis_enabled():\n",
      "File \u001b[1;32mc:\\Python310\\lib\\site-packages\\selenium\\webdriver\\remote\\webdriver.py:856\u001b[0m, in \u001b[0;36mWebDriver.find_element\u001b[1;34m(self, by, value)\u001b[0m\n\u001b[0;32m    853\u001b[0m     by \u001b[39m=\u001b[39m By\u001b[39m.\u001b[39mCSS_SELECTOR\n\u001b[0;32m    854\u001b[0m     value \u001b[39m=\u001b[39m \u001b[39m'\u001b[39m\u001b[39m[name=\u001b[39m\u001b[39m\"\u001b[39m\u001b[39m%s\u001b[39;00m\u001b[39m\"\u001b[39m\u001b[39m]\u001b[39m\u001b[39m'\u001b[39m \u001b[39m%\u001b[39m value\n\u001b[1;32m--> 856\u001b[0m \u001b[39mreturn\u001b[39;00m \u001b[39mself\u001b[39;49m\u001b[39m.\u001b[39;49mexecute(Command\u001b[39m.\u001b[39;49mFIND_ELEMENT, {\n\u001b[0;32m    857\u001b[0m     \u001b[39m'\u001b[39;49m\u001b[39musing\u001b[39;49m\u001b[39m'\u001b[39;49m: by,\n\u001b[0;32m    858\u001b[0m     \u001b[39m'\u001b[39;49m\u001b[39mvalue\u001b[39;49m\u001b[39m'\u001b[39;49m: value})[\u001b[39m'\u001b[39m\u001b[39mvalue\u001b[39m\u001b[39m'\u001b[39m]\n",
      "File \u001b[1;32mc:\\Python310\\lib\\site-packages\\selenium\\webdriver\\remote\\webdriver.py:434\u001b[0m, in \u001b[0;36mWebDriver.execute\u001b[1;34m(self, driver_command, params)\u001b[0m\n\u001b[0;32m    432\u001b[0m response \u001b[39m=\u001b[39m \u001b[39mself\u001b[39m\u001b[39m.\u001b[39mcommand_executor\u001b[39m.\u001b[39mexecute(driver_command, params)\n\u001b[0;32m    433\u001b[0m \u001b[39mif\u001b[39;00m response:\n\u001b[1;32m--> 434\u001b[0m     \u001b[39mself\u001b[39;49m\u001b[39m.\u001b[39;49merror_handler\u001b[39m.\u001b[39;49mcheck_response(response)\n\u001b[0;32m    435\u001b[0m     response[\u001b[39m'\u001b[39m\u001b[39mvalue\u001b[39m\u001b[39m'\u001b[39m] \u001b[39m=\u001b[39m \u001b[39mself\u001b[39m\u001b[39m.\u001b[39m_unwrap_value(\n\u001b[0;32m    436\u001b[0m         response\u001b[39m.\u001b[39mget(\u001b[39m'\u001b[39m\u001b[39mvalue\u001b[39m\u001b[39m'\u001b[39m, \u001b[39mNone\u001b[39;00m))\n\u001b[0;32m    437\u001b[0m     \u001b[39mreturn\u001b[39;00m response\n",
      "File \u001b[1;32mc:\\Python310\\lib\\site-packages\\selenium\\webdriver\\remote\\errorhandler.py:243\u001b[0m, in \u001b[0;36mErrorHandler.check_response\u001b[1;34m(self, response)\u001b[0m\n\u001b[0;32m    241\u001b[0m         alert_text \u001b[39m=\u001b[39m value[\u001b[39m'\u001b[39m\u001b[39malert\u001b[39m\u001b[39m'\u001b[39m]\u001b[39m.\u001b[39mget(\u001b[39m'\u001b[39m\u001b[39mtext\u001b[39m\u001b[39m'\u001b[39m)\n\u001b[0;32m    242\u001b[0m     \u001b[39mraise\u001b[39;00m exception_class(message, screen, stacktrace, alert_text)  \u001b[39m# type: ignore[call-arg]  # mypy is not smart enough here\u001b[39;00m\n\u001b[1;32m--> 243\u001b[0m \u001b[39mraise\u001b[39;00m exception_class(message, screen, stacktrace)\n",
      "\u001b[1;31mWebDriverException\u001b[0m: Message: disconnected: not connected to DevTools\n  (failed to check if window was closed: disconnected: not connected to DevTools)\n  (Session info: chrome=114.0.5735.199)\nStacktrace:\nBacktrace:\n\tGetHandleVerifier [0x00F3A813+48355]\n\t(No symbol) [0x00ECC4B1]\n\t(No symbol) [0x00DD5358]\n\t(No symbol) [0x00DC7D96]\n\t(No symbol) [0x00DC7AB9]\n\t(No symbol) [0x00DD67C0]\n\t(No symbol) [0x00E2C4D8]\n\t(No symbol) [0x00E1A536]\n\t(No symbol) [0x00DF82DC]\n\t(No symbol) [0x00DF93DD]\n\tGetHandleVerifier [0x0119AABD+2539405]\n\tGetHandleVerifier [0x011DA78F+2800735]\n\tGetHandleVerifier [0x011D456C+2775612]\n\tGetHandleVerifier [0x00FC51E0+616112]\n\t(No symbol) [0x00ED5F8C]\n\t(No symbol) [0x00ED2328]\n\t(No symbol) [0x00ED240B]\n\t(No symbol) [0x00EC4FF7]\n\tBaseThreadInitThunk [0x76E37D59+25]\n\tRtlInitializeExceptionChain [0x77E2B74B+107]\n\tRtlClearBits [0x77E2B6CF+191]\n"
     ]
    }
   ],
   "source": [
    "# //article[@class=\"x1iyjqo2\"]\n",
    "look_for_post = WebDriverWait(driv, 10).until(EC.element_to_be_clickable((By.XPATH, '//article[@class=\"x1iyjqo2\"]/div/div/div')))\n"
   ]
  },
  {
   "cell_type": "code",
   "execution_count": 63,
   "metadata": {},
   "outputs": [
    {
     "ename": "WebDriverException",
     "evalue": "Message: disconnected: not connected to DevTools\n  (failed to check if window was closed: disconnected: not connected to DevTools)\n  (Session info: chrome=114.0.5735.199)\nStacktrace:\nBacktrace:\n\tGetHandleVerifier [0x00F3A813+48355]\n\t(No symbol) [0x00ECC4B1]\n\t(No symbol) [0x00DD5358]\n\t(No symbol) [0x00DC7D96]\n\t(No symbol) [0x00DC7AB9]\n\t(No symbol) [0x00DD67C0]\n\t(No symbol) [0x00E2C4D8]\n\t(No symbol) [0x00E1A536]\n\t(No symbol) [0x00DF82DC]\n\t(No symbol) [0x00DF93DD]\n\tGetHandleVerifier [0x0119AABD+2539405]\n\tGetHandleVerifier [0x011DA78F+2800735]\n\tGetHandleVerifier [0x011D456C+2775612]\n\tGetHandleVerifier [0x00FC51E0+616112]\n\t(No symbol) [0x00ED5F8C]\n\t(No symbol) [0x00ED2328]\n\t(No symbol) [0x00ED240B]\n\t(No symbol) [0x00EC4FF7]\n\tBaseThreadInitThunk [0x76E37D59+25]\n\tRtlInitializeExceptionChain [0x77E2B74B+107]\n\tRtlClearBits [0x77E2B6CF+191]\n",
     "output_type": "error",
     "traceback": [
      "\u001b[1;31m---------------------------------------------------------------------------\u001b[0m",
      "\u001b[1;31mWebDriverException\u001b[0m                        Traceback (most recent call last)",
      "\u001b[1;32mc:\\VS_Code_folder\\personal_projects\\Improved_insta\\login.ipynb Cell 16\u001b[0m in \u001b[0;36m<cell line: 1>\u001b[1;34m()\u001b[0m\n\u001b[1;32m----> <a href='vscode-notebook-cell:/c%3A/VS_Code_folder/personal_projects/Improved_insta/login.ipynb#X14sZmlsZQ%3D%3D?line=0'>1</a>\u001b[0m look_for_post \u001b[39m=\u001b[39m driv\u001b[39m.\u001b[39;49mfind_elements(By\u001b[39m.\u001b[39;49mXPATH, \u001b[39m'\u001b[39;49m\u001b[39m//article[@class=\u001b[39;49m\u001b[39m\"\u001b[39;49m\u001b[39mx1iyjqo2\u001b[39;49m\u001b[39m\"\u001b[39;49m\u001b[39m]/div/div/div\u001b[39;49m\u001b[39m'\u001b[39;49m)\n",
      "File \u001b[1;32mc:\\Python310\\lib\\site-packages\\selenium\\webdriver\\remote\\webdriver.py:889\u001b[0m, in \u001b[0;36mWebDriver.find_elements\u001b[1;34m(self, by, value)\u001b[0m\n\u001b[0;32m    885\u001b[0m     value \u001b[39m=\u001b[39m \u001b[39m'\u001b[39m\u001b[39m[name=\u001b[39m\u001b[39m\"\u001b[39m\u001b[39m%s\u001b[39;00m\u001b[39m\"\u001b[39m\u001b[39m]\u001b[39m\u001b[39m'\u001b[39m \u001b[39m%\u001b[39m value\n\u001b[0;32m    887\u001b[0m \u001b[39m# Return empty list if driver returns null\u001b[39;00m\n\u001b[0;32m    888\u001b[0m \u001b[39m# See https://github.com/SeleniumHQ/selenium/issues/4555\u001b[39;00m\n\u001b[1;32m--> 889\u001b[0m \u001b[39mreturn\u001b[39;00m \u001b[39mself\u001b[39;49m\u001b[39m.\u001b[39;49mexecute(Command\u001b[39m.\u001b[39;49mFIND_ELEMENTS, {\n\u001b[0;32m    890\u001b[0m     \u001b[39m'\u001b[39;49m\u001b[39musing\u001b[39;49m\u001b[39m'\u001b[39;49m: by,\n\u001b[0;32m    891\u001b[0m     \u001b[39m'\u001b[39;49m\u001b[39mvalue\u001b[39;49m\u001b[39m'\u001b[39;49m: value})[\u001b[39m'\u001b[39m\u001b[39mvalue\u001b[39m\u001b[39m'\u001b[39m] \u001b[39mor\u001b[39;00m []\n",
      "File \u001b[1;32mc:\\Python310\\lib\\site-packages\\selenium\\webdriver\\remote\\webdriver.py:434\u001b[0m, in \u001b[0;36mWebDriver.execute\u001b[1;34m(self, driver_command, params)\u001b[0m\n\u001b[0;32m    432\u001b[0m response \u001b[39m=\u001b[39m \u001b[39mself\u001b[39m\u001b[39m.\u001b[39mcommand_executor\u001b[39m.\u001b[39mexecute(driver_command, params)\n\u001b[0;32m    433\u001b[0m \u001b[39mif\u001b[39;00m response:\n\u001b[1;32m--> 434\u001b[0m     \u001b[39mself\u001b[39;49m\u001b[39m.\u001b[39;49merror_handler\u001b[39m.\u001b[39;49mcheck_response(response)\n\u001b[0;32m    435\u001b[0m     response[\u001b[39m'\u001b[39m\u001b[39mvalue\u001b[39m\u001b[39m'\u001b[39m] \u001b[39m=\u001b[39m \u001b[39mself\u001b[39m\u001b[39m.\u001b[39m_unwrap_value(\n\u001b[0;32m    436\u001b[0m         response\u001b[39m.\u001b[39mget(\u001b[39m'\u001b[39m\u001b[39mvalue\u001b[39m\u001b[39m'\u001b[39m, \u001b[39mNone\u001b[39;00m))\n\u001b[0;32m    437\u001b[0m     \u001b[39mreturn\u001b[39;00m response\n",
      "File \u001b[1;32mc:\\Python310\\lib\\site-packages\\selenium\\webdriver\\remote\\errorhandler.py:243\u001b[0m, in \u001b[0;36mErrorHandler.check_response\u001b[1;34m(self, response)\u001b[0m\n\u001b[0;32m    241\u001b[0m         alert_text \u001b[39m=\u001b[39m value[\u001b[39m'\u001b[39m\u001b[39malert\u001b[39m\u001b[39m'\u001b[39m]\u001b[39m.\u001b[39mget(\u001b[39m'\u001b[39m\u001b[39mtext\u001b[39m\u001b[39m'\u001b[39m)\n\u001b[0;32m    242\u001b[0m     \u001b[39mraise\u001b[39;00m exception_class(message, screen, stacktrace, alert_text)  \u001b[39m# type: ignore[call-arg]  # mypy is not smart enough here\u001b[39;00m\n\u001b[1;32m--> 243\u001b[0m \u001b[39mraise\u001b[39;00m exception_class(message, screen, stacktrace)\n",
      "\u001b[1;31mWebDriverException\u001b[0m: Message: disconnected: not connected to DevTools\n  (failed to check if window was closed: disconnected: not connected to DevTools)\n  (Session info: chrome=114.0.5735.199)\nStacktrace:\nBacktrace:\n\tGetHandleVerifier [0x00F3A813+48355]\n\t(No symbol) [0x00ECC4B1]\n\t(No symbol) [0x00DD5358]\n\t(No symbol) [0x00DC7D96]\n\t(No symbol) [0x00DC7AB9]\n\t(No symbol) [0x00DD67C0]\n\t(No symbol) [0x00E2C4D8]\n\t(No symbol) [0x00E1A536]\n\t(No symbol) [0x00DF82DC]\n\t(No symbol) [0x00DF93DD]\n\tGetHandleVerifier [0x0119AABD+2539405]\n\tGetHandleVerifier [0x011DA78F+2800735]\n\tGetHandleVerifier [0x011D456C+2775612]\n\tGetHandleVerifier [0x00FC51E0+616112]\n\t(No symbol) [0x00ED5F8C]\n\t(No symbol) [0x00ED2328]\n\t(No symbol) [0x00ED240B]\n\t(No symbol) [0x00EC4FF7]\n\tBaseThreadInitThunk [0x76E37D59+25]\n\tRtlInitializeExceptionChain [0x77E2B74B+107]\n\tRtlClearBits [0x77E2B6CF+191]\n"
     ]
    }
   ],
   "source": [
    "look_for_post = driv.find_elements(By.XPATH, '//article[@class=\"x1iyjqo2\"]/div/div/div')\n"
   ]
  },
  {
   "cell_type": "code",
   "execution_count": 67,
   "metadata": {},
   "outputs": [
    {
     "ename": "WebDriverException",
     "evalue": "Message: disconnected: not connected to DevTools\n  (failed to check if window was closed: disconnected: not connected to DevTools)\n  (Session info: chrome=114.0.5735.199)\nStacktrace:\nBacktrace:\n\tGetHandleVerifier [0x00F3A813+48355]\n\t(No symbol) [0x00ECC4B1]\n\t(No symbol) [0x00DD5358]\n\t(No symbol) [0x00DC7D96]\n\t(No symbol) [0x00DC7AB9]\n\t(No symbol) [0x00DD67C0]\n\t(No symbol) [0x00E2C4D8]\n\t(No symbol) [0x00E1A536]\n\t(No symbol) [0x00DF82DC]\n\t(No symbol) [0x00DF93DD]\n\tGetHandleVerifier [0x0119AABD+2539405]\n\tGetHandleVerifier [0x011DA78F+2800735]\n\tGetHandleVerifier [0x011D456C+2775612]\n\tGetHandleVerifier [0x00FC51E0+616112]\n\t(No symbol) [0x00ED5F8C]\n\t(No symbol) [0x00ED2328]\n\t(No symbol) [0x00ED240B]\n\t(No symbol) [0x00EC4FF7]\n\tBaseThreadInitThunk [0x76E37D59+25]\n\tRtlInitializeExceptionChain [0x77E2B74B+107]\n\tRtlClearBits [0x77E2B6CF+191]\n",
     "output_type": "error",
     "traceback": [
      "\u001b[1;31m---------------------------------------------------------------------------\u001b[0m",
      "\u001b[1;31mWebDriverException\u001b[0m                        Traceback (most recent call last)",
      "\u001b[1;32mc:\\VS_Code_folder\\personal_projects\\Improved_insta\\login.ipynb Cell 17\u001b[0m in \u001b[0;36m<cell line: 1>\u001b[1;34m()\u001b[0m\n\u001b[0;32m      <a href='vscode-notebook-cell:/c%3A/VS_Code_folder/personal_projects/Improved_insta/login.ipynb#X22sZmlsZQ%3D%3D?line=0'>1</a>\u001b[0m \u001b[39mfor\u001b[39;00m each_row_of_post \u001b[39min\u001b[39;00m look_for_post:\n\u001b[0;32m      <a href='vscode-notebook-cell:/c%3A/VS_Code_folder/personal_projects/Improved_insta/login.ipynb#X22sZmlsZQ%3D%3D?line=1'>2</a>\u001b[0m     \u001b[39m# for each_post in each_row_of_post:\u001b[39;00m\n\u001b[0;32m      <a href='vscode-notebook-cell:/c%3A/VS_Code_folder/personal_projects/Improved_insta/login.ipynb#X22sZmlsZQ%3D%3D?line=2'>3</a>\u001b[0m     \u001b[39m#     post_link = each_post.div.a.href\u001b[39;00m\n\u001b[1;32m----> <a href='vscode-notebook-cell:/c%3A/VS_Code_folder/personal_projects/Improved_insta/login.ipynb#X22sZmlsZQ%3D%3D?line=3'>4</a>\u001b[0m     post_row_class \u001b[39m=\u001b[39m each_row_of_post\u001b[39m.\u001b[39;49mfind_element(By\u001b[39m.\u001b[39;49mXPATH, \u001b[39m'\u001b[39;49m\u001b[39m//div\u001b[39;49m\u001b[39m'\u001b[39;49m)\n\u001b[0;32m      <a href='vscode-notebook-cell:/c%3A/VS_Code_folder/personal_projects/Improved_insta/login.ipynb#X22sZmlsZQ%3D%3D?line=4'>5</a>\u001b[0m     all_3_post \u001b[39m=\u001b[39m post_row_class\u001b[39m.\u001b[39mfind_elements(By\u001b[39m.\u001b[39mXPATH, \u001b[39m'\u001b[39m\u001b[39m//div/a\u001b[39m\u001b[39m'\u001b[39m)\n\u001b[0;32m      <a href='vscode-notebook-cell:/c%3A/VS_Code_folder/personal_projects/Improved_insta/login.ipynb#X22sZmlsZQ%3D%3D?line=5'>6</a>\u001b[0m     \u001b[39mfor\u001b[39;00m each_post \u001b[39min\u001b[39;00m all_3_post:\n",
      "File \u001b[1;32mc:\\Python310\\lib\\site-packages\\selenium\\webdriver\\remote\\webelement.py:419\u001b[0m, in \u001b[0;36mWebElement.find_element\u001b[1;34m(self, by, value)\u001b[0m\n\u001b[0;32m    416\u001b[0m     by \u001b[39m=\u001b[39m By\u001b[39m.\u001b[39mCSS_SELECTOR\n\u001b[0;32m    417\u001b[0m     value \u001b[39m=\u001b[39m \u001b[39m'\u001b[39m\u001b[39m[name=\u001b[39m\u001b[39m\"\u001b[39m\u001b[39m%s\u001b[39;00m\u001b[39m\"\u001b[39m\u001b[39m]\u001b[39m\u001b[39m'\u001b[39m \u001b[39m%\u001b[39m value\n\u001b[1;32m--> 419\u001b[0m \u001b[39mreturn\u001b[39;00m \u001b[39mself\u001b[39;49m\u001b[39m.\u001b[39;49m_execute(Command\u001b[39m.\u001b[39;49mFIND_CHILD_ELEMENT,\n\u001b[0;32m    420\u001b[0m                      {\u001b[39m\"\u001b[39;49m\u001b[39musing\u001b[39;49m\u001b[39m\"\u001b[39;49m: by, \u001b[39m\"\u001b[39;49m\u001b[39mvalue\u001b[39;49m\u001b[39m\"\u001b[39;49m: value})[\u001b[39m'\u001b[39m\u001b[39mvalue\u001b[39m\u001b[39m'\u001b[39m]\n",
      "File \u001b[1;32mc:\\Python310\\lib\\site-packages\\selenium\\webdriver\\remote\\webelement.py:396\u001b[0m, in \u001b[0;36mWebElement._execute\u001b[1;34m(self, command, params)\u001b[0m\n\u001b[0;32m    394\u001b[0m     params \u001b[39m=\u001b[39m {}\n\u001b[0;32m    395\u001b[0m params[\u001b[39m'\u001b[39m\u001b[39mid\u001b[39m\u001b[39m'\u001b[39m] \u001b[39m=\u001b[39m \u001b[39mself\u001b[39m\u001b[39m.\u001b[39m_id\n\u001b[1;32m--> 396\u001b[0m \u001b[39mreturn\u001b[39;00m \u001b[39mself\u001b[39;49m\u001b[39m.\u001b[39;49m_parent\u001b[39m.\u001b[39;49mexecute(command, params)\n",
      "File \u001b[1;32mc:\\Python310\\lib\\site-packages\\selenium\\webdriver\\remote\\webdriver.py:434\u001b[0m, in \u001b[0;36mWebDriver.execute\u001b[1;34m(self, driver_command, params)\u001b[0m\n\u001b[0;32m    432\u001b[0m response \u001b[39m=\u001b[39m \u001b[39mself\u001b[39m\u001b[39m.\u001b[39mcommand_executor\u001b[39m.\u001b[39mexecute(driver_command, params)\n\u001b[0;32m    433\u001b[0m \u001b[39mif\u001b[39;00m response:\n\u001b[1;32m--> 434\u001b[0m     \u001b[39mself\u001b[39;49m\u001b[39m.\u001b[39;49merror_handler\u001b[39m.\u001b[39;49mcheck_response(response)\n\u001b[0;32m    435\u001b[0m     response[\u001b[39m'\u001b[39m\u001b[39mvalue\u001b[39m\u001b[39m'\u001b[39m] \u001b[39m=\u001b[39m \u001b[39mself\u001b[39m\u001b[39m.\u001b[39m_unwrap_value(\n\u001b[0;32m    436\u001b[0m         response\u001b[39m.\u001b[39mget(\u001b[39m'\u001b[39m\u001b[39mvalue\u001b[39m\u001b[39m'\u001b[39m, \u001b[39mNone\u001b[39;00m))\n\u001b[0;32m    437\u001b[0m     \u001b[39mreturn\u001b[39;00m response\n",
      "File \u001b[1;32mc:\\Python310\\lib\\site-packages\\selenium\\webdriver\\remote\\errorhandler.py:243\u001b[0m, in \u001b[0;36mErrorHandler.check_response\u001b[1;34m(self, response)\u001b[0m\n\u001b[0;32m    241\u001b[0m         alert_text \u001b[39m=\u001b[39m value[\u001b[39m'\u001b[39m\u001b[39malert\u001b[39m\u001b[39m'\u001b[39m]\u001b[39m.\u001b[39mget(\u001b[39m'\u001b[39m\u001b[39mtext\u001b[39m\u001b[39m'\u001b[39m)\n\u001b[0;32m    242\u001b[0m     \u001b[39mraise\u001b[39;00m exception_class(message, screen, stacktrace, alert_text)  \u001b[39m# type: ignore[call-arg]  # mypy is not smart enough here\u001b[39;00m\n\u001b[1;32m--> 243\u001b[0m \u001b[39mraise\u001b[39;00m exception_class(message, screen, stacktrace)\n",
      "\u001b[1;31mWebDriverException\u001b[0m: Message: disconnected: not connected to DevTools\n  (failed to check if window was closed: disconnected: not connected to DevTools)\n  (Session info: chrome=114.0.5735.199)\nStacktrace:\nBacktrace:\n\tGetHandleVerifier [0x00F3A813+48355]\n\t(No symbol) [0x00ECC4B1]\n\t(No symbol) [0x00DD5358]\n\t(No symbol) [0x00DC7D96]\n\t(No symbol) [0x00DC7AB9]\n\t(No symbol) [0x00DD67C0]\n\t(No symbol) [0x00E2C4D8]\n\t(No symbol) [0x00E1A536]\n\t(No symbol) [0x00DF82DC]\n\t(No symbol) [0x00DF93DD]\n\tGetHandleVerifier [0x0119AABD+2539405]\n\tGetHandleVerifier [0x011DA78F+2800735]\n\tGetHandleVerifier [0x011D456C+2775612]\n\tGetHandleVerifier [0x00FC51E0+616112]\n\t(No symbol) [0x00ED5F8C]\n\t(No symbol) [0x00ED2328]\n\t(No symbol) [0x00ED240B]\n\t(No symbol) [0x00EC4FF7]\n\tBaseThreadInitThunk [0x76E37D59+25]\n\tRtlInitializeExceptionChain [0x77E2B74B+107]\n\tRtlClearBits [0x77E2B6CF+191]\n"
     ]
    }
   ],
   "source": [
    "for each_row_of_post in look_for_post:\n",
    "    # for each_post in each_row_of_post:\n",
    "    #     post_link = each_post.div.a.href\n",
    "    post_row_class = each_row_of_post.find_element(By.XPATH, '//div/')\n",
    "    all_3_post = post_row_class.find_elements(By.XPATH, '//div/a')\n",
    "    for each_post in all_3_post:\n",
    "        print(\"working\")\n",
    "    # post_link = post_row_class.get_attribute(\"class\")\n",
    "    # ppp = post_row_class.get_dom_attribute(\"class\")\n",
    "    # post_link\n",
    "    # if 'div' in each_row_of_post:\n",
    "    break"
   ]
  },
  {
   "cell_type": "code",
   "execution_count": 59,
   "metadata": {},
   "outputs": [
    {
     "name": "stdout",
     "output_type": "stream",
     "text": [
      "None\n"
     ]
    }
   ],
   "source": [
    "print(ppp)"
   ]
  },
  {
   "cell_type": "code",
   "execution_count": 58,
   "metadata": {},
   "outputs": [],
   "source": [
    "ppp"
   ]
  },
  {
   "cell_type": "code",
   "execution_count": 47,
   "metadata": {},
   "outputs": [
    {
     "ename": "TypeError",
     "evalue": "'WebElement' object is not iterable",
     "output_type": "error",
     "traceback": [
      "\u001b[1;31m---------------------------------------------------------------------------\u001b[0m",
      "\u001b[1;31mTypeError\u001b[0m                                 Traceback (most recent call last)",
      "\u001b[1;32mc:\\VS_Code_folder\\personal_projects\\Improved_insta\\login.ipynb Cell 18\u001b[0m in \u001b[0;36m<cell line: 1>\u001b[1;34m()\u001b[0m\n\u001b[1;32m----> <a href='vscode-notebook-cell:/c%3A/VS_Code_folder/personal_projects/Improved_insta/login.ipynb#X25sZmlsZQ%3D%3D?line=0'>1</a>\u001b[0m \u001b[39mfor\u001b[39;00m each_post \u001b[39min\u001b[39;00m post_row_class:\n\u001b[0;32m      <a href='vscode-notebook-cell:/c%3A/VS_Code_folder/personal_projects/Improved_insta/login.ipynb#X25sZmlsZQ%3D%3D?line=1'>2</a>\u001b[0m     \u001b[39mprint\u001b[39m(\u001b[39m\"\u001b[39m\u001b[39mworking\u001b[39m\u001b[39m\"\u001b[39m)\n\u001b[0;32m      <a href='vscode-notebook-cell:/c%3A/VS_Code_folder/personal_projects/Improved_insta/login.ipynb#X25sZmlsZQ%3D%3D?line=2'>3</a>\u001b[0m     \u001b[39mbreak\u001b[39;00m\n",
      "\u001b[1;31mTypeError\u001b[0m: 'WebElement' object is not iterable"
     ]
    }
   ],
   "source": [
    "for each_post in post_row_class:\n",
    "    print(\"working\")\n",
    "    break"
   ]
  },
  {
   "cell_type": "code",
   "execution_count": null,
   "metadata": {},
   "outputs": [],
   "source": []
  },
  {
   "cell_type": "code",
   "execution_count": null,
   "metadata": {},
   "outputs": [],
   "source": []
  }
 ],
 "metadata": {
  "kernelspec": {
   "display_name": "Python 3",
   "language": "python",
   "name": "python3"
  },
  "language_info": {
   "codemirror_mode": {
    "name": "ipython",
    "version": 3
   },
   "file_extension": ".py",
   "mimetype": "text/x-python",
   "name": "python",
   "nbconvert_exporter": "python",
   "pygments_lexer": "ipython3",
   "version": "3.10.6"
  },
  "orig_nbformat": 4
 },
 "nbformat": 4,
 "nbformat_minor": 2
}
